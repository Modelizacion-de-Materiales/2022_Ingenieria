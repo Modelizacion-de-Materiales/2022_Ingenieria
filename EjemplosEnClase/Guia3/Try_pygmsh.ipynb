{
 "cells": [
  {
   "cell_type": "code",
   "execution_count": null,
   "id": "0e12db12",
   "metadata": {},
   "outputs": [],
   "source": [
    "import gmsh\n",
    "import numpy as np"
   ]
  },
  {
   "cell_type": "markdown",
   "id": "0c535c40",
   "metadata": {},
   "source": [
    "el metodo initialize 'abre' el programa."
   ]
  },
  {
   "cell_type": "code",
   "execution_count": null,
   "id": "49c8eac4",
   "metadata": {},
   "outputs": [],
   "source": [
    "gmsh.initialize()"
   ]
  },
  {
   "cell_type": "markdown",
   "id": "7bcbaf33",
   "metadata": {},
   "source": [
    "'armamos' el modelo que queremos modificar:"
   ]
  },
  {
   "cell_type": "code",
   "execution_count": null,
   "id": "b7642fab",
   "metadata": {},
   "outputs": [],
   "source": [
    "gmsh.model.add('test2')"
   ]
  },
  {
   "cell_type": "code",
   "execution_count": null,
   "id": "a93290b3",
   "metadata": {},
   "outputs": [],
   "source": [
    "L = 10\n",
    "lc = 2*L"
   ]
  },
  {
   "cell_type": "markdown",
   "id": "765357c1",
   "metadata": {},
   "source": [
    "Definimos las coordenadas de los puntos"
   ]
  },
  {
   "cell_type": "code",
   "execution_count": null,
   "id": "fabf5b8c",
   "metadata": {},
   "outputs": [],
   "source": [
    "p1 = gmsh.model.geo.addPoint(0, 0, 0, lc/10) #/5)\n",
    "p2 = gmsh.model.geo.addPoint(2*L, 0, 0, lc/2) #*2) \n",
    "p3 = gmsh.model.geo.addPoint(2*L, L, 0, lc/2) #/2) \n",
    "p4 = gmsh.model.geo.addPoint(0, L, 0, lc/10) #/5) "
   ]
  },
  {
   "cell_type": "markdown",
   "id": "14e3c053",
   "metadata": {},
   "source": [
    "Luego definimos las lineas"
   ]
  },
  {
   "cell_type": "code",
   "execution_count": null,
   "id": "c443687d",
   "metadata": {},
   "outputs": [],
   "source": [
    "l1 = gmsh.model.geo.addLine(p1, p2)\n",
    "l2 = gmsh.model.geo.addLine(p2, p3)\n",
    "l3 = gmsh.model.geo.addLine(p3, p4)\n",
    "l4 = gmsh.model.geo.addLine(p4, p1)"
   ]
  },
  {
   "cell_type": "markdown",
   "id": "980245d8",
   "metadata": {},
   "source": [
    "Las curvas nos van a servir para definir los bordes de nuestro modelo."
   ]
  },
  {
   "cell_type": "code",
   "execution_count": null,
   "id": "abd22194",
   "metadata": {},
   "outputs": [],
   "source": [
    "C1 = gmsh.model.geo.addCurveLoop([l1, l2, l3, l4])"
   ]
  },
  {
   "cell_type": "markdown",
   "id": "dc930692",
   "metadata": {},
   "source": [
    "Y las superficies:"
   ]
  },
  {
   "cell_type": "code",
   "execution_count": null,
   "id": "1e192d21",
   "metadata": {},
   "outputs": [],
   "source": [
    "S1 = gmsh.model.geo.addPlaneSurface([C1])"
   ]
  },
  {
   "cell_type": "markdown",
   "id": "b7391784",
   "metadata": {},
   "source": [
    "le avisamos que ya estan todos los elementos geométricos:"
   ]
  },
  {
   "cell_type": "code",
   "execution_count": null,
   "id": "8c1eb24e",
   "metadata": {},
   "outputs": [],
   "source": [
    "gmsh.model.geo.synchronize()"
   ]
  },
  {
   "cell_type": "markdown",
   "id": "2f4cccee",
   "metadata": {},
   "source": [
    "Ahora definimos algo que nos va a servir para las condiciones de contorno."
   ]
  },
  {
   "cell_type": "markdown",
   "id": "7bafb26f",
   "metadata": {},
   "source": [
    "Y definimos `Grupos Físicos` para definir bordes, etc"
   ]
  },
  {
   "cell_type": "code",
   "execution_count": null,
   "id": "971a152e",
   "metadata": {},
   "outputs": [],
   "source": [
    "Empotrado = gmsh.model.addPhysicalGroup(1, [l4])\n",
    "gmsh.model.setPhysicalName(1,Empotrado,'Empotrado')"
   ]
  },
  {
   "cell_type": "code",
   "execution_count": null,
   "id": "0f4c2415",
   "metadata": {},
   "outputs": [],
   "source": [
    "Traccionado = gmsh.model.addPhysicalGroup(1, [l2])\n",
    "gmsh.model.setPhysicalName(1,Traccionado,'Traccionado')"
   ]
  },
  {
   "cell_type": "code",
   "execution_count": null,
   "id": "5059d5cb",
   "metadata": {},
   "outputs": [],
   "source": [
    "Superficie = gmsh.model.addPhysicalGroup(2,[S1])\n",
    "gmsh.model.setPhysicalName(2,Superficie, 'Superficie')"
   ]
  },
  {
   "cell_type": "markdown",
   "id": "6d492796",
   "metadata": {},
   "source": [
    "Finalemente generamos el mallado"
   ]
  },
  {
   "cell_type": "code",
   "execution_count": null,
   "id": "2fe2163f",
   "metadata": {},
   "outputs": [],
   "source": [
    "gmsh.model.mesh.generate(2)"
   ]
  },
  {
   "cell_type": "markdown",
   "id": "b10b0779",
   "metadata": {},
   "source": [
    "# El objeto mesh"
   ]
  },
  {
   "cell_type": "markdown",
   "id": "c969444e",
   "metadata": {},
   "source": [
    "El mallado es un objeto del cual podemos recuperar la información necesaria para interactuar con nuestro motor de elementos finitos. Por ejemplo para la informacion de los nodos:"
   ]
  },
  {
   "cell_type": "code",
   "execution_count": null,
   "id": "f8bf9406",
   "metadata": {},
   "outputs": [],
   "source": [
    "NodeInfo = gmsh.model.mesh.get_nodes()"
   ]
  },
  {
   "cell_type": "code",
   "execution_count": null,
   "id": "559d71a8",
   "metadata": {},
   "outputs": [],
   "source": [
    "NodeInfo[1].shape"
   ]
  },
  {
   "cell_type": "code",
   "execution_count": null,
   "id": "c9164bcb",
   "metadata": {},
   "outputs": [],
   "source": [
    "NodeInfo"
   ]
  },
  {
   "cell_type": "markdown",
   "id": "8524a15d",
   "metadata": {},
   "source": [
    "esta variable node info guarda:\n",
    "- los numeros de nodo\n",
    "- la matriz de nodo"
   ]
  },
  {
   "cell_type": "code",
   "execution_count": null,
   "id": "b48a4c6d",
   "metadata": {},
   "outputs": [],
   "source": [
    "NumeroNodos = NodeInfo[0].shape[0]"
   ]
  },
  {
   "cell_type": "code",
   "execution_count": null,
   "id": "a6e493de",
   "metadata": {},
   "outputs": [],
   "source": [
    "NumeroNodos"
   ]
  },
  {
   "cell_type": "markdown",
   "id": "2b5f10e0",
   "metadata": {},
   "source": [
    "es la cantidad de nodos del modelo."
   ]
  },
  {
   "cell_type": "markdown",
   "id": "f7c1661a",
   "metadata": {},
   "source": [
    "La matriz de nodos es dada en lista, nos conviene pasarla a matriz para tener lo que venimos trabajando:"
   ]
  },
  {
   "cell_type": "code",
   "execution_count": null,
   "id": "4ac833de",
   "metadata": {},
   "outputs": [],
   "source": [
    "MN = NodeInfo[1].reshape(NumeroNodos , 3)"
   ]
  },
  {
   "cell_type": "code",
   "execution_count": null,
   "id": "c1465192",
   "metadata": {},
   "outputs": [],
   "source": [
    "MN"
   ]
  },
  {
   "cell_type": "markdown",
   "id": "529bcba3",
   "metadata": {},
   "source": [
    "## Elementos"
   ]
  },
  {
   "cell_type": "markdown",
   "id": "3631e348",
   "metadata": {},
   "source": [
    "Podemos obtener las etiquetas de los triangulos y los nodos que los conforman pidiendo los elementos de tipo 2, que son los triángulos:"
   ]
  },
  {
   "cell_type": "code",
   "execution_count": null,
   "id": "3db229ec",
   "metadata": {},
   "outputs": [],
   "source": [
    "ETAGS, ELEMENTS = gmsh.model.mesh.get_elements_by_type(2)"
   ]
  },
  {
   "cell_type": "markdown",
   "id": "6d88f8eb",
   "metadata": {},
   "source": [
    "la cantidad de etiquetas nos va a dar el número de elementos,"
   ]
  },
  {
   "cell_type": "code",
   "execution_count": null,
   "id": "21acfaa0",
   "metadata": {},
   "outputs": [],
   "source": [
    "NELEM = ETAGS.shape[0]"
   ]
  },
  {
   "cell_type": "code",
   "execution_count": null,
   "id": "ab650fbc",
   "metadata": {},
   "outputs": [],
   "source": [
    "ELEMENTS"
   ]
  },
  {
   "cell_type": "markdown",
   "id": "0895018f",
   "metadata": {},
   "source": [
    "la matriz de conectividad también hay que reformatear para tener lo que estamos acostumbrados."
   ]
  },
  {
   "cell_type": "code",
   "execution_count": null,
   "id": "29334298",
   "metadata": {},
   "outputs": [],
   "source": [
    "MC = ELEMENTS.reshape([NELEM,3])"
   ]
  },
  {
   "cell_type": "code",
   "execution_count": null,
   "id": "80657bfc",
   "metadata": {},
   "outputs": [],
   "source": [
    "MC"
   ]
  },
  {
   "cell_type": "markdown",
   "id": "ba53a64f",
   "metadata": {},
   "source": [
    "# Condiciones de contorno"
   ]
  },
  {
   "cell_type": "markdown",
   "id": "a1bdd8f1",
   "metadata": {},
   "source": [
    "Con las definiciones de los Physical Groups, podemos sacar los índices de los nodos que estan empotrados o traccionados. Necesitamos definir una 'entidad' para los elements Traccionados:"
   ]
  },
  {
   "cell_type": "code",
   "execution_count": null,
   "id": "5de0ff65",
   "metadata": {},
   "outputs": [],
   "source": [
    "entityTraccionada = gmsh.model.getEntitiesForPhysicalGroup(1, Traccionado)"
   ]
  },
  {
   "cell_type": "code",
   "execution_count": null,
   "id": "2964246d",
   "metadata": {},
   "outputs": [],
   "source": [
    "print(entityTraccionada[0])"
   ]
  },
  {
   "cell_type": "markdown",
   "id": "f012e748",
   "metadata": {},
   "source": [
    "con esa entidad, podemos definir los elementos tipo línea:"
   ]
  },
  {
   "cell_type": "code",
   "execution_count": null,
   "id": "517c5233",
   "metadata": {},
   "outputs": [],
   "source": [
    "Tgroup, Ttraccionada, Ltraccionada = gmsh.model.mesh.getElements(1, entityTraccionada[0])"
   ]
  },
  {
   "cell_type": "code",
   "execution_count": null,
   "id": "d0270c44",
   "metadata": {},
   "outputs": [],
   "source": [
    "Ttraccionada"
   ]
  },
  {
   "cell_type": "code",
   "execution_count": null,
   "id": "30c50822",
   "metadata": {},
   "outputs": [],
   "source": [
    "Ltraccionada = Ltraccionada[0].reshape(Ttraccionada[0].shape[0],2)"
   ]
  },
  {
   "cell_type": "code",
   "execution_count": null,
   "id": "28c21003",
   "metadata": {},
   "outputs": [],
   "source": [
    "Ltraccionada "
   ]
  },
  {
   "cell_type": "markdown",
   "id": "cebe5907",
   "metadata": {},
   "source": [
    "Con los elementos líneas traccionadas podemos calcular las longitudes y distribuir la fuerza externa. "
   ]
  },
  {
   "cell_type": "code",
   "execution_count": null,
   "id": "a2343e77",
   "metadata": {},
   "outputs": [],
   "source": [
    "Longitudes = np.abs( MN[Ltraccionada[:,0]-1,1] - MN[Ltraccionada[:,1]-1,1] )"
   ]
  },
  {
   "cell_type": "markdown",
   "id": "1d924795",
   "metadata": {},
   "source": [
    "Ahora puedo calcular las fuerzas externas"
   ]
  },
  {
   "cell_type": "code",
   "execution_count": null,
   "id": "5bbcca90",
   "metadata": {},
   "outputs": [],
   "source": [
    "Fuerzas = np.zeros((2*NumeroNodos,1))\n",
    "espesor = 1\n",
    "tension = 1000 #Pa\n",
    "\n",
    "for l, linea in enumerate(Ltraccionada):\n",
    "    Flocal = np.array([[1],[1]])*tension*espesor*Longitudes[l]\n",
    "    n1 = linea[0]\n",
    "    n2 = linea[1]\n",
    "    #print(Flocal)\n",
    "    Fuerzas[ np.array([2*(n1-1), 2*(n2-1)], dtype=int)] += Flocal\n",
    "    "
   ]
  },
  {
   "cell_type": "markdown",
   "id": "791248d7",
   "metadata": {},
   "source": [
    "# Empotrados"
   ]
  },
  {
   "cell_type": "markdown",
   "id": "521b71a1",
   "metadata": {},
   "source": [
    "Para definir los nodos empotrados necesito solamente los índices de los nodos en dicho physical group"
   ]
  },
  {
   "cell_type": "code",
   "execution_count": null,
   "id": "f5401f4e",
   "metadata": {},
   "outputs": [],
   "source": [
    "NodosEmpotrados = gmsh.model.mesh.get_nodes_for_physical_group(1,Empotrado)"
   ]
  },
  {
   "cell_type": "code",
   "execution_count": null,
   "id": "fcdd9c24",
   "metadata": {},
   "outputs": [],
   "source": [
    "NodosEmpotrados[0]"
   ]
  },
  {
   "cell_type": "markdown",
   "id": "40ae2fbc",
   "metadata": {},
   "source": [
    "Con eso ya puedo calcular los valores de los índices de los nodos que resultarán empotrados. Cuidado ! las numeraciones de gmsh empiezan desde 1 !"
   ]
  },
  {
   "cell_type": "code",
   "execution_count": null,
   "id": "7d5f032a",
   "metadata": {},
   "outputs": [],
   "source": [
    "s = []\n",
    "r = np.arange(2*NumeroNodos)\n",
    "for n, nodo in enumerate(NodosEmpotrados[0]):\n",
    "    s.append(\n",
    "        np.linspace(2*nodo, 2*nodo +1, 2)\n",
    "    )\n",
    "s = np.array(s).astype(int)"
   ]
  },
  {
   "cell_type": "markdown",
   "id": "ef54cc39",
   "metadata": {},
   "source": [
    "luego saco de r todo lo que puse en s:"
   ]
  },
  {
   "cell_type": "code",
   "execution_count": null,
   "id": "735621ff",
   "metadata": {},
   "outputs": [],
   "source": [
    "r = np.delete( r, s )"
   ]
  },
  {
   "cell_type": "code",
   "execution_count": null,
   "id": "c6fc7df2",
   "metadata": {},
   "outputs": [],
   "source": [
    "Fuerzas[r]"
   ]
  },
  {
   "cell_type": "markdown",
   "id": "5f22187a",
   "metadata": {},
   "source": [
    "# Nos divertimos un rato"
   ]
  },
  {
   "cell_type": "code",
   "execution_count": null,
   "id": "308e4c99",
   "metadata": {},
   "outputs": [],
   "source": [
    "import matplotlib.pyplot as plt\n",
    "from matplotlib import quiver"
   ]
  },
  {
   "cell_type": "code",
   "execution_count": null,
   "id": "fd8cf69d",
   "metadata": {},
   "outputs": [],
   "source": [
    "plt.style.use('default')\n",
    "plt.rc('figure',figsize=(15,10))\n",
    "plt.rc('font', size=22)"
   ]
  },
  {
   "cell_type": "code",
   "execution_count": null,
   "id": "29258e48",
   "metadata": {},
   "outputs": [],
   "source": [
    "Fx = Fuerzas[2*np.arange(NumeroNodos)]\n",
    "Fy = Fuerzas[2*np.arange(NumeroNodos)+1]"
   ]
  },
  {
   "cell_type": "code",
   "execution_count": null,
   "id": "c1c921af",
   "metadata": {},
   "outputs": [],
   "source": [
    "fig = plt.figure()\n",
    "ax = fig.add_axes([0.1, 0.2, 0.5, 0.6])\n",
    "ax.triplot(MN[:,0],MN[:,1],MC-MC.min(), )\n",
    "ax.quiver( MN[:,0], MN[:,1], Fx, Fy, linewidth=5, units='width', scale=1e5)\n",
    "ax.set_xlim(-1, 2*L+(Fx/1e3).max())\n",
    "ax.set_xlabel('x (m)')\n",
    "ax.set_ylabel('y (m)')"
   ]
  },
  {
   "cell_type": "markdown",
   "id": "ac434a8d",
   "metadata": {},
   "source": [
    "# Agregar Resulatados"
   ]
  },
  {
   "cell_type": "markdown",
   "id": "3ebdffb3",
   "metadata": {},
   "source": [
    "Inventemos por ahora un resultado vectorial"
   ]
  },
  {
   "cell_type": "code",
   "execution_count": null,
   "id": "695e1e44",
   "metadata": {},
   "outputs": [],
   "source": [
    "DESP = np.hstack((MN[:,0].reshape(-1,1)*0.1, MN[:,1].reshape(-1,1)*0, MN[:,2].reshape(-1,1)*0))"
   ]
  },
  {
   "cell_type": "code",
   "execution_count": null,
   "id": "3ebc8e80",
   "metadata": {},
   "outputs": [],
   "source": [
    "plt.plot(MN[:,0], DESP[:,0],'o')\n",
    "plt.ylabel('$\\Delta x (m)$')\n",
    "plt.xlabel('$x (m)$')"
   ]
  },
  {
   "cell_type": "markdown",
   "id": "ba1c16f2",
   "metadata": {},
   "source": [
    "Devemos iniciar una visualizacion:"
   ]
  },
  {
   "cell_type": "code",
   "execution_count": null,
   "id": "f1cbe867",
   "metadata": {},
   "outputs": [],
   "source": [
    "desps = gmsh.view.add(\"desp\")"
   ]
  },
  {
   "cell_type": "markdown",
   "id": "d7aa4a61",
   "metadata": {},
   "source": [
    "devemos guardar esos datos en la visualizacion:"
   ]
  },
  {
   "cell_type": "code",
   "execution_count": null,
   "id": "c5161f50",
   "metadata": {},
   "outputs": [],
   "source": [
    "Desps = gmsh.view.addModelData(desps, 0, 'test2', 'NodeData', NodeInfo[0], DESP, numComponents=3)"
   ]
  },
  {
   "cell_type": "code",
   "execution_count": null,
   "id": "31337f84",
   "metadata": {},
   "outputs": [],
   "source": [
    "desps"
   ]
  },
  {
   "cell_type": "code",
   "execution_count": null,
   "id": "0e76e322",
   "metadata": {},
   "outputs": [],
   "source": [
    "!gmsh --version"
   ]
  },
  {
   "cell_type": "code",
   "execution_count": null,
   "id": "5e4ab6c6",
   "metadata": {},
   "outputs": [],
   "source": [
    "gmsh.option.setNumber(f'View[{desps}].VectorType',5)"
   ]
  },
  {
   "cell_type": "markdown",
   "id": "874a9048",
   "metadata": {},
   "source": [
    "Guardo las fuerzas externas"
   ]
  },
  {
   "cell_type": "code",
   "execution_count": null,
   "id": "b8b93832",
   "metadata": {},
   "outputs": [],
   "source": [
    "Fxyz = np.hstack((Fuerzas.reshape(NumeroNodos,2), np.zeros((NumeroNodos,1))))"
   ]
  },
  {
   "cell_type": "code",
   "execution_count": null,
   "id": "5307c20d",
   "metadata": {},
   "outputs": [],
   "source": [
    "fx = gmsh.view.add('fuerzas')\n",
    "Fz = gmsh.view.addModelData(fx, 0, 'test2','NodeData',NodeInfo[0], Fxyz, numComponents=3)"
   ]
  },
  {
   "cell_type": "code",
   "execution_count": null,
   "id": "405a234e",
   "metadata": {},
   "outputs": [],
   "source": [
    "gmsh.option.setNumber(f'View[{fx}].VectorType',4)"
   ]
  },
  {
   "cell_type": "code",
   "execution_count": null,
   "id": "5c068bb2",
   "metadata": {},
   "outputs": [],
   "source": [
    "gmsh.option.setNumber(f'View[{fx}].GlyphLocation',2)"
   ]
  },
  {
   "cell_type": "markdown",
   "id": "eb319ea5",
   "metadata": {},
   "source": [
    "Ahora le agrego un view para tensiones"
   ]
  },
  {
   "cell_type": "code",
   "execution_count": null,
   "id": "27a6bad5",
   "metadata": {},
   "outputs": [],
   "source": [
    "v_t = gmsh.view.add(\"tension\")"
   ]
  },
  {
   "cell_type": "code",
   "execution_count": null,
   "id": "c83805b0",
   "metadata": {},
   "outputs": [],
   "source": [
    "T = MC.mean(axis=1).reshape(-1,1)"
   ]
  },
  {
   "cell_type": "code",
   "execution_count": null,
   "id": "b4d49aef",
   "metadata": {},
   "outputs": [],
   "source": [
    "Tensiones = gmsh.view.addModelData(v_t, 0, 'test2', 'ElementData', ETAGS, T , numComponents=1 )"
   ]
  },
  {
   "cell_type": "markdown",
   "id": "f8506348",
   "metadata": {},
   "source": [
    "vamos a jugar tambien con estos datos escalares, dependientes del tiempo:"
   ]
  },
  {
   "cell_type": "code",
   "execution_count": null,
   "id": "3970981e",
   "metadata": {},
   "outputs": [],
   "source": [
    "Temps = gmsh.view.add(\"Temperaturas\")"
   ]
  },
  {
   "cell_type": "code",
   "execution_count": null,
   "id": "c696ebbd",
   "metadata": {},
   "outputs": [],
   "source": [
    "for i in range(100):\n",
    "    gmsh.view.addModelData(Temps,i, 'test2','NodeData',NodeInfo[0],MN[:,0].reshape(-1,1)*i,numComponents=1)"
   ]
  },
  {
   "cell_type": "code",
   "execution_count": null,
   "id": "568926ee",
   "metadata": {},
   "outputs": [],
   "source": [
    "gmsh.fltk.run()"
   ]
  },
  {
   "cell_type": "markdown",
   "id": "d7b71d99",
   "metadata": {},
   "source": [
    "# Guardar lel mesh de entrada (input) sin resultados "
   ]
  },
  {
   "cell_type": "markdown",
   "id": "4273aea8",
   "metadata": {},
   "source": [
    "Escribamos estos resultados con el mesh para ver mas tarde. Por razones de legibilidad humana, queremos escribir el mallado en versión 2 y no en version 4 (el default)"
   ]
  },
  {
   "cell_type": "code",
   "execution_count": null,
   "id": "a7510cfc",
   "metadata": {},
   "outputs": [],
   "source": [
    "gmsh.option.setNumber(\"Mesh.MshFileVersion\", 2.2)\n",
    "gmsh.write('TestMeshView_IN.msh')"
   ]
  },
  {
   "cell_type": "markdown",
   "id": "1bcd706a",
   "metadata": {},
   "source": [
    "# Guardar el mesh con resultados"
   ]
  },
  {
   "cell_type": "code",
   "execution_count": null,
   "id": "c431dfd5",
   "metadata": {},
   "outputs": [],
   "source": [
    "gmsh.view.write(1,\"TestMeshView_OUT.msh\",append=True)"
   ]
  },
  {
   "cell_type": "markdown",
   "id": "0526e5e9",
   "metadata": {},
   "source": [
    "visualicemos el resultado:"
   ]
  },
  {
   "cell_type": "markdown",
   "id": "43cf4d28",
   "metadata": {},
   "source": [
    "# Visualizar el estado final"
   ]
  },
  {
   "cell_type": "code",
   "execution_count": null,
   "id": "a49c3555",
   "metadata": {},
   "outputs": [],
   "source": [
    "gmsh.option.setNumber(\"Mesh.LineWidth\", 5)\n",
    "gmsh.fltk.run()"
   ]
  },
  {
   "cell_type": "code",
   "execution_count": null,
   "id": "211a7a20",
   "metadata": {},
   "outputs": [],
   "source": [
    "gmsh.finalize()"
   ]
  },
  {
   "cell_type": "code",
   "execution_count": null,
   "id": "c87d46d7",
   "metadata": {},
   "outputs": [],
   "source": []
  }
 ],
 "metadata": {
  "kernelspec": {
   "display_name": "Python 3 (ipykernel)",
   "language": "python",
   "name": "python3"
  },
  "language_info": {
   "codemirror_mode": {
    "name": "ipython",
    "version": 3
   },
   "file_extension": ".py",
   "mimetype": "text/x-python",
   "name": "python",
   "nbconvert_exporter": "python",
   "pygments_lexer": "ipython3",
   "version": "3.9.12"
  }
 },
 "nbformat": 4,
 "nbformat_minor": 5
}
