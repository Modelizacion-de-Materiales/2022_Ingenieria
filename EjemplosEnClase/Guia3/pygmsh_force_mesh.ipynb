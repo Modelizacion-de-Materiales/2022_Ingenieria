{
 "cells": [
  {
   "cell_type": "code",
   "execution_count": 1,
   "id": "76d5f448",
   "metadata": {},
   "outputs": [],
   "source": [
    "import gmsh\n",
    "import matplotlib.pyplot as plt\n",
    "plt.rc('figure',figsize=(10,10))\n",
    "plt.rc('axes',labelsize=24)\n",
    "plt.rc('xtick',labelsize=18)\n",
    "plt.rc('ytick',labelsize=18)\n",
    "\n",
    "import numpy as np"
   ]
  },
  {
   "cell_type": "code",
   "execution_count": 2,
   "id": "7300c446",
   "metadata": {},
   "outputs": [
    {
     "name": "stdout",
     "output_type": "stream",
     "text": [
      "Info    : Increasing process stack size (8192 kB < 16 MB)\n"
     ]
    }
   ],
   "source": [
    "gmsh.initialize()"
   ]
  },
  {
   "cell_type": "markdown",
   "id": "79c4ee8b",
   "metadata": {},
   "source": [
    " aunque vallamos a poner los elementos a mano, necesitamos generar la superficie para asignarlos:"
   ]
  },
  {
   "cell_type": "code",
   "execution_count": 3,
   "id": "fb04df0a",
   "metadata": {},
   "outputs": [],
   "source": [
    "lc = 1\n",
    "L = 10\n",
    "\n",
    "\n",
    "p1 = gmsh.model.geo.addPoint(0, 0, 0, lc/5)\n",
    "p2 = gmsh.model.geo.addPoint(0, L, 0, lc/5)\n",
    "p3 = gmsh.model.geo.addPoint(2*L, L, 0, lc) \n",
    "p4 = gmsh.model.geo.addPoint(2*L, 0, 0, lc) \n",
    "\n",
    "l1 = gmsh.model.geo.addLine(p1, p2)\n",
    "l2 = gmsh.model.geo.addLine(p2, p3)\n",
    "l3 = gmsh.model.geo.addLine(p3, p4)\n",
    "l4 = gmsh.model.geo.addLine(p4, p1)\n",
    "\n",
    "C1 = gmsh.model.geo.addCurveLoop([l1, l2, l3, l4])\n",
    "\n",
    "S1 = gmsh.model.geo.addPlaneSurface([C1])"
   ]
  },
  {
   "cell_type": "code",
   "execution_count": 4,
   "id": "1d95970b",
   "metadata": {},
   "outputs": [],
   "source": [
    "gmsh.model.geo.synchronize()"
   ]
  },
  {
   "cell_type": "code",
   "execution_count": 5,
   "id": "ffa646cb",
   "metadata": {},
   "outputs": [
    {
     "name": "stdout",
     "output_type": "stream",
     "text": [
      "-------------------------------------------------------\n",
      "Version       : 4.8.4\n",
      "License       : GNU General Public License\n",
      "Build OS      : Linux64-sdk\n",
      "Build date    : 20210428\n",
      "Build host    : gmsh.info\n",
      "Build options : 64Bit ALGLIB ANN Bamg Blas[petsc] Blossom Cgns DIntegration Dlopen DomHex Eigen Fltk Gmm Hxt Jpeg[fltk] Kbipack Lapack[petsc] LinuxJoystick MathEx Med Mesh Metis Mmg Mpeg Netgen ONELAB ONELABMetamodel OpenCASCADE OpenCASCADE-CAF OpenGL OptHom PETSc Parser Plugins Png[fltk] Post QuadTri Solver TetGen/BR Voro++ Zlib[fltk]\n",
      "FLTK version  : 1.4.0\n",
      "PETSc version : 3.14.4 (real arithmtic)\n",
      "OCC version   : 7.6.0\n",
      "MED version   : 4.1.0\n",
      "Packaged by   : geuzaine\n",
      "Web site      : https://gmsh.info\n",
      "Issue tracker : https://gitlab.onelab.info/gmsh/gmsh/issues\n",
      "-------------------------------------------------------\n"
     ]
    }
   ],
   "source": [
    "gmsh.fltk.run()"
   ]
  },
  {
   "cell_type": "code",
   "execution_count": 5,
   "id": "96362ddd",
   "metadata": {},
   "outputs": [],
   "source": [
    "Empotrado = gmsh.model.addPhysicalGroup(1, [l4])\n",
    "gmsh.model.setPhysicalName(1,Empotrado,'Empotrado')\n",
    "Traccionado = gmsh.model.addPhysicalGroup(1, [l2])\n",
    "gmsh.model.setPhysicalName(1,Traccionado,'Traccionado')\n",
    "Superficie = gmsh.model.addPhysicalGroup(2,[S1])\n",
    "gmsh.model.setPhysicalName(2,Superficie, 'Superficie')"
   ]
  },
  {
   "cell_type": "code",
   "execution_count": 6,
   "id": "b3df580d",
   "metadata": {},
   "outputs": [],
   "source": [
    "L = 10\n",
    "MN = np.array(\n",
    "[\n",
    "    [0,0,0],\n",
    "    [2*L,0,0],\n",
    "    [2*L,L,0 ],\n",
    "    [0, L, 0]\n",
    "]\n",
    ")\n",
    "nodetags = np.linspace(1,MN.shape[0], MN.shape[0]).astype(int)"
   ]
  },
  {
   "cell_type": "code",
   "execution_count": 7,
   "id": "894a1830",
   "metadata": {},
   "outputs": [],
   "source": [
    "MC = np.array([ [1,2,3], [1,3,4] ])"
   ]
  },
  {
   "cell_type": "code",
   "execution_count": 8,
   "id": "658d80ef",
   "metadata": {},
   "outputs": [],
   "source": [
    "Empotrados = np.array([1,4])\n",
    "Traccionados = np.array([2,3])"
   ]
  },
  {
   "cell_type": "code",
   "execution_count": 9,
   "id": "860166ae",
   "metadata": {},
   "outputs": [],
   "source": [
    "elementags = [[1,2]]"
   ]
  },
  {
   "cell_type": "code",
   "execution_count": 10,
   "id": "ec6f7b73",
   "metadata": {},
   "outputs": [],
   "source": [
    "gmsh.model.mesh.add_nodes(2,S1,nodetags, MN.ravel(),)"
   ]
  },
  {
   "cell_type": "code",
   "execution_count": 11,
   "id": "04f139ac",
   "metadata": {},
   "outputs": [],
   "source": [
    "gmsh.model.mesh.addElements(2, S1, [2], elementags, [MC.ravel()])"
   ]
  },
  {
   "cell_type": "code",
   "execution_count": 12,
   "id": "3940d68e",
   "metadata": {},
   "outputs": [],
   "source": [
    "gmsh.model.mesh.add_elements(1,l4, [1], [[len(nodetags)+1]], [Empotrados])"
   ]
  },
  {
   "cell_type": "code",
   "execution_count": 13,
   "id": "2c224d72",
   "metadata": {},
   "outputs": [],
   "source": [
    "gmsh.model.mesh.add_elements(1,l2, [1], [[len(nodetags)+2]], [Traccionados])"
   ]
  },
  {
   "cell_type": "code",
   "execution_count": 14,
   "id": "f48e5d00",
   "metadata": {},
   "outputs": [],
   "source": [
    "gmsh.option.setNumber(\"Mesh.MshFileVersion\", 2.2)"
   ]
  },
  {
   "cell_type": "code",
   "execution_count": 15,
   "id": "045077c8",
   "metadata": {},
   "outputs": [
    {
     "name": "stdout",
     "output_type": "stream",
     "text": [
      "Info    : Writing 'test.msh'...\n",
      "Info    : Done writing 'test.msh'\n"
     ]
    }
   ],
   "source": [
    "gmsh.write('test.msh')"
   ]
  },
  {
   "cell_type": "code",
   "execution_count": 16,
   "id": "a313697c",
   "metadata": {},
   "outputs": [],
   "source": [
    "ETAGS, ELEMENTS = gmsh.model.mesh.get_elements_by_type(2)"
   ]
  },
  {
   "cell_type": "code",
   "execution_count": 17,
   "id": "cf20eaa1",
   "metadata": {},
   "outputs": [],
   "source": [
    "import mefmods as mef"
   ]
  },
  {
   "cell_type": "code",
   "execution_count": 18,
   "id": "a47150b4",
   "metadata": {},
   "outputs": [
    {
     "data": {
      "text/plain": [
       "array([[ 0,  0,  0],\n",
       "       [20,  0,  0],\n",
       "       [20, 10,  0],\n",
       "       [ 0, 10,  0]])"
      ]
     },
     "execution_count": 18,
     "metadata": {},
     "output_type": "execute_result"
    }
   ],
   "source": [
    "MN"
   ]
  },
  {
   "cell_type": "code",
   "execution_count": 19,
   "id": "05929202",
   "metadata": {},
   "outputs": [],
   "source": [
    "ETYPES = 2*np.ones(len(MC)).astype(int)\n",
    "\n",
    "nu = 0.3\n",
    "\n",
    "E = 210E9\n",
    "\n",
    "MP = np.hstack(\n",
    "        (\n",
    "            np.ones((len(MC), 1)),\n",
    "            np.ones((len(MC), 1))*nu,\n",
    "            np.ones((len(MC), 1))*E\n",
    "            )\n",
    "        )"
   ]
  },
  {
   "cell_type": "code",
   "execution_count": 20,
   "id": "b9aba335",
   "metadata": {},
   "outputs": [
    {
     "data": {
      "text/plain": [
       "array([[1, 2, 3],\n",
       "       [1, 3, 4]])"
      ]
     },
     "execution_count": 20,
     "metadata": {},
     "output_type": "execute_result"
    }
   ],
   "source": [
    "MC"
   ]
  },
  {
   "cell_type": "code",
   "execution_count": 21,
   "id": "44b96338",
   "metadata": {},
   "outputs": [],
   "source": [
    "K = mef.ensamble(MC-1, MN-1, MP, 2, ETYPES, 'Chapa-Symetrica-202')"
   ]
  },
  {
   "cell_type": "code",
   "execution_count": null,
   "id": "edae0fdf",
   "metadata": {},
   "outputs": [],
   "source": []
  },
  {
   "cell_type": "code",
   "execution_count": 22,
   "id": "d8a118b0",
   "metadata": {},
   "outputs": [],
   "source": [
    "gmsh.finalize()"
   ]
  },
  {
   "cell_type": "code",
   "execution_count": null,
   "id": "c1e0ffcb",
   "metadata": {},
   "outputs": [],
   "source": []
  }
 ],
 "metadata": {
  "kernelspec": {
   "display_name": "Python 3 (ipykernel)",
   "language": "python",
   "name": "python3"
  },
  "language_info": {
   "codemirror_mode": {
    "name": "ipython",
    "version": 3
   },
   "file_extension": ".py",
   "mimetype": "text/x-python",
   "name": "python",
   "nbconvert_exporter": "python",
   "pygments_lexer": "ipython3",
   "version": "3.9.12"
  }
 },
 "nbformat": 4,
 "nbformat_minor": 5
}
