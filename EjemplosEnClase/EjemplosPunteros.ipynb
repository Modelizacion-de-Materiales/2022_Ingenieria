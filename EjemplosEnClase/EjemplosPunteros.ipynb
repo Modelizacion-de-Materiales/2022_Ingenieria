{
 "cells": [
  {
   "cell_type": "markdown",
   "id": "adaptive-joint",
   "metadata": {},
   "source": [
    "# Punteros en Python"
   ]
  },
  {
   "cell_type": "code",
   "execution_count": 1,
   "id": "homeless-oxygen",
   "metadata": {},
   "outputs": [],
   "source": [
    "A  = [ 'uno', 'dos', 'tres', 5, 6, 87.0]"
   ]
  },
  {
   "cell_type": "code",
   "execution_count": 2,
   "id": "permanent-geneva",
   "metadata": {},
   "outputs": [],
   "source": [
    "B = A"
   ]
  },
  {
   "cell_type": "code",
   "execution_count": 3,
   "id": "variable-document",
   "metadata": {},
   "outputs": [],
   "source": [
    "B[0] ='cero'"
   ]
  },
  {
   "cell_type": "code",
   "execution_count": 4,
   "id": "regular-armstrong",
   "metadata": {},
   "outputs": [
    {
     "data": {
      "text/plain": [
       "['cero', 'dos', 'tres', 5, 6, 87.0]"
      ]
     },
     "execution_count": 4,
     "metadata": {},
     "output_type": "execute_result"
    }
   ],
   "source": [
    "B"
   ]
  },
  {
   "cell_type": "code",
   "execution_count": 5,
   "id": "retired-office",
   "metadata": {},
   "outputs": [
    {
     "data": {
      "text/plain": [
       "['cero', 'dos', 'tres', 5, 6, 87.0]"
      ]
     },
     "execution_count": 5,
     "metadata": {},
     "output_type": "execute_result"
    }
   ],
   "source": [
    "A"
   ]
  },
  {
   "cell_type": "code",
   "execution_count": 6,
   "id": "acute-republic",
   "metadata": {},
   "outputs": [],
   "source": [
    "A [1] = 'chau'"
   ]
  },
  {
   "cell_type": "code",
   "execution_count": 7,
   "id": "sacred-quarterly",
   "metadata": {},
   "outputs": [
    {
     "data": {
      "text/plain": [
       "['cero', 'chau', 'tres', 5, 6, 87.0]"
      ]
     },
     "execution_count": 7,
     "metadata": {},
     "output_type": "execute_result"
    }
   ],
   "source": [
    "B"
   ]
  },
  {
   "cell_type": "code",
   "execution_count": 8,
   "id": "respected-parent",
   "metadata": {},
   "outputs": [],
   "source": [
    "import copy"
   ]
  },
  {
   "cell_type": "code",
   "execution_count": 9,
   "id": "featured-fiber",
   "metadata": {},
   "outputs": [],
   "source": [
    "C = copy.copy(A)"
   ]
  },
  {
   "cell_type": "code",
   "execution_count": 10,
   "id": "stretch-helen",
   "metadata": {},
   "outputs": [],
   "source": [
    "C[-1] = C[-1] +3"
   ]
  },
  {
   "cell_type": "code",
   "execution_count": 11,
   "id": "rational-character",
   "metadata": {},
   "outputs": [
    {
     "data": {
      "text/plain": [
       "['cero', 'chau', 'tres', 5, 6, 90.0]"
      ]
     },
     "execution_count": 11,
     "metadata": {},
     "output_type": "execute_result"
    }
   ],
   "source": [
    "C"
   ]
  },
  {
   "cell_type": "code",
   "execution_count": 12,
   "id": "olympic-proof",
   "metadata": {},
   "outputs": [
    {
     "data": {
      "text/plain": [
       "['cero', 'chau', 'tres', 5, 6, 87.0]"
      ]
     },
     "execution_count": 12,
     "metadata": {},
     "output_type": "execute_result"
    }
   ],
   "source": [
    "A"
   ]
  },
  {
   "cell_type": "code",
   "execution_count": 13,
   "id": "infrared-official",
   "metadata": {},
   "outputs": [],
   "source": [
    "def cambioelprimero(_A_):\n",
    "    _C_ = copy.copy(_A_)\n",
    "    _C_[0] = 'locambie'\n",
    "    print(_C_)"
   ]
  },
  {
   "cell_type": "code",
   "execution_count": 14,
   "id": "552d2bff-0189-4004-a60f-dac6f6d98e18",
   "metadata": {},
   "outputs": [
    {
     "name": "stdout",
     "output_type": "stream",
     "text": [
      "['locambie', 'chau', 'tres', 5, 6, 87.0]\n"
     ]
    }
   ],
   "source": [
    "cambioelprimero(A)"
   ]
  },
  {
   "cell_type": "code",
   "execution_count": 15,
   "id": "a8f5db61-c814-47f1-8fb5-0fccbf996e70",
   "metadata": {},
   "outputs": [
    {
     "data": {
      "text/plain": [
       "['cero', 'chau', 'tres', 5, 6, 87.0]"
      ]
     },
     "execution_count": 15,
     "metadata": {},
     "output_type": "execute_result"
    }
   ],
   "source": [
    "A"
   ]
  },
  {
   "cell_type": "code",
   "execution_count": null,
   "id": "66e82548-771e-4b29-83a8-e1c5fe23a586",
   "metadata": {},
   "outputs": [],
   "source": []
  }
 ],
 "metadata": {
  "kernelspec": {
   "display_name": "Python 3",
   "language": "python",
   "name": "python3"
  },
  "language_info": {
   "codemirror_mode": {
    "name": "ipython",
    "version": 3
   },
   "file_extension": ".py",
   "mimetype": "text/x-python",
   "name": "python",
   "nbconvert_exporter": "python",
   "pygments_lexer": "ipython3",
   "version": "3.9.7"
  }
 },
 "nbformat": 4,
 "nbformat_minor": 5
}
