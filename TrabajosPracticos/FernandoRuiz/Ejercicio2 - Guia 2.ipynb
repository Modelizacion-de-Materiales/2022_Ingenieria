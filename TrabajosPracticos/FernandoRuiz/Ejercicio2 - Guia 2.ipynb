{
 "cells": [
  {
   "cell_type": "code",
   "execution_count": 1,
   "id": "f44ab370-4e92-40bf-88cb-34605b1f1509",
   "metadata": {},
   "outputs": [],
   "source": [
    "import numpy as np\n",
    "import matplotlib.pyplot as plt  \n",
    "import math   \n",
    "import random   \n",
    "import copy\n",
    "import MEF"
   ]
  },
  {
   "cell_type": "code",
   "execution_count": 2,
   "id": "a7b10ac6-107a-4369-80b1-52906a19e640",
   "metadata": {},
   "outputs": [],
   "source": [
    "#vector con los valores incognitas 'r'\n",
    "#vector con los valores de CC 's'\n",
    "#U vector con los deplazamientos incognitas + datos.\n",
    "#N= int(input('Ingrese el numero de nodos'))\n",
    "N=4 #numero de nodos 'n'\n",
    "k= 200 #constante de los resortes"
   ]
  },
  {
   "cell_type": "code",
   "execution_count": 3,
   "id": "85b89eac-8c6f-46e3-a3ff-374b2294ed15",
   "metadata": {},
   "outputs": [],
   "source": [
    "MN = np.array([[0,0,0],[8,0,0],[16,0,0],[8,4,0]]) #parametro de entrada\n",
    "MC= np.array([[0,3],[0,1],[1,3],[2,3],[1,2]]) #parametro de entrada\n",
    "glxn= 2 #grados de libertad por nodo, parametro de entrada\n",
    "E= np.array([210,210,210,210,210])*1E9\n",
    "A = np.array([10,10,20,10,10])*1E-4"
   ]
  },
  {
   "cell_type": "code",
   "execution_count": 4,
   "id": "a5e3c0b8-103d-4f95-a66f-5819532c3cec",
   "metadata": {},
   "outputs": [],
   "source": [
    "Nn = MN.shape[0] #cantidad de nodos\n",
    "Ne, Nnxe= MC.shape #cantidad de elementos"
   ]
  },
  {
   "cell_type": "code",
   "execution_count": 5,
   "id": "c45fb2c1-e58d-474b-a7f5-19396ab970a3",
   "metadata": {},
   "outputs": [],
   "source": [
    "Kglobal= np.zeros([glxn*Nn,glxn*Nn])"
   ]
  },
  {
   "cell_type": "code",
   "execution_count": 6,
   "id": "09d784c6-33c1-454d-94e1-e0fd0065b9aa",
   "metadata": {},
   "outputs": [],
   "source": [
    "Kglobal= np.zeros([glxn*Nn,glxn*Nn])"
   ]
  },
  {
   "cell_type": "code",
   "execution_count": 7,
   "id": "95ca211a-7067-431e-9786-01fdb280e07b",
   "metadata": {},
   "outputs": [],
   "source": [
    "def k_elem_barra(MC,MN,Ee,Ae,e):\n",
    "    Nn = MN.shape[0] #cantidad de nodos\n",
    "    Ne, Nnxe= MC.shape #cantidad de elementos\n",
    "    nodo1= MC[e,0]\n",
    "    nodo2= MC[e,1]\n",
    "    cord_nodo1=np.array([MN[nodo2,0]-MN[nodo1,0],MN[nodo2,1]-MN[nodo1,1]])\n",
    "    long= np.linalg.norm(cord_nodo1)\n",
    "    phi= np.arctan2(cord_nodo1[1],cord_nodo1[0])\n",
    "    ke= Ee*Ae/long\n",
    "    c=np.cos(phi)\n",
    "    s=np.sin(phi)\n",
    "    K_elem= ke*np.array([[c**2,c*s,-c**2,-c*s],[c*s,s*s,-c*s,-s*s],[-c*c,-c*s,c*c,c*s],\n",
    "               [-c*s,-s*s,c*s,s*s]])\n",
    "    K_elem[np.abs(K_elem/K_elem.max()) < 1e-15] = 0\n",
    "\n",
    "    return K_elem"
   ]
  },
  {
   "cell_type": "code",
   "execution_count": 8,
   "id": "70408598-f9ff-442d-affa-dd4c810bf2f2",
   "metadata": {},
   "outputs": [],
   "source": [
    "k_elem= {}"
   ]
  },
  {
   "cell_type": "code",
   "execution_count": 9,
   "id": "f3033bc9-279b-4fe5-a42d-80cfa0714f30",
   "metadata": {},
   "outputs": [],
   "source": [
    "archivo= 'Matrices_elementales.txt'\n",
    "with open(archivo,'w') as f:\n",
    "    f.write('Matrices Elementales\\n ===============')\n",
    "archivo1= 'Matriz_global.txt'\n",
    "with open(archivo1,'w') as f:\n",
    "    f.write('Matriz Global\\n ===============')"
   ]
  },
  {
   "cell_type": "code",
   "execution_count": 10,
   "id": "a4bd6381-d885-4337-a4f1-124ea8ae44ed",
   "metadata": {},
   "outputs": [],
   "source": [
    "for e in range(Ne):\n",
    "    k_elem[e]= k_elem_barra(MC,MN,E[e],A[e],e)\n",
    "    fe = np.abs(k_elem[e].max()) #factor de escala\n",
    "    with open(archivo,'a') as f:\n",
    "        f.write(f'\\nelemento {e}, fe ={fe:4e}\\n')\n",
    "        f.write(f'{k_elem[e]/fe}\\n')\n",
    "    \n",
    "\n",
    "    for i in range(Nnxe):\n",
    "        rangoi= np.linspace(i*glxn,(i+1)*glxn-1,glxn, dtype = \"int\")\n",
    "        rangoni= np.linspace(MC[e,i]*glxn,(MC[e,i]+1)*glxn-1,glxn, dtype = \"int\")\n",
    "        for j in range(Nnxe):\n",
    "            rangoj= np.linspace(j*glxn,(j+1)*glxn-1,glxn, dtype = \"int\")\n",
    "            rangonj= np.linspace(MC[e,j]*glxn,(MC[e,j]+1)*glxn-1,glxn, dtype = \"int\")\n",
    "            Kglobal[np.ix_(rangoni,rangonj)] += k_elem[e][np.ix_(rangoi,rangoj)]"
   ]
  },
  {
   "cell_type": "code",
   "execution_count": 11,
   "id": "77bc26c8-a2b9-4070-a06d-65d61e5a6c93",
   "metadata": {},
   "outputs": [],
   "source": [
    "fe = np.abs(Kglobal.max())\n",
    "with open(archivo1,'a') as f:\n",
    "    f.write(f'\\nMatriz Global, fe ={fe:4e}\\n')\n",
    "    f.write(f'{Kglobal/fe}\\n') "
   ]
  },
  {
   "cell_type": "code",
   "execution_count": 12,
   "id": "638493c9-ddab-4f60-9843-4b95521a2d60",
   "metadata": {},
   "outputs": [],
   "source": [
    "s= np.array([0,1,5])\n",
    "r = np.array([i for i in range(Nn*glxn) if i not in s ])\n",
    "#s = np.array([0,1,5])\n",
    "#r = np.arange(Nn*glxn)\n",
    "#[r.remove(thiss) for thiss in s]"
   ]
  },
  {
   "cell_type": "code",
   "execution_count": 13,
   "id": "d9f7a2c4-1624-483e-9586-8f5b860641db",
   "metadata": {},
   "outputs": [],
   "source": [
    "Fr = np.zeros_like(r)\n",
    "Us = np.zeros_like(s)\n",
    "Fr[r==3]= -20E3"
   ]
  },
  {
   "cell_type": "code",
   "execution_count": 14,
   "id": "f6a4f881-3bc0-4381-8b04-0d350cabaaf2",
   "metadata": {},
   "outputs": [],
   "source": [
    "U,F = MEF.solve1D(Kglobal,s,r,Us,Fr)"
   ]
  },
  {
   "cell_type": "markdown",
   "id": "fa81c8d9-9aaa-4eba-84e5-2cc5c836da13",
   "metadata": {},
   "source": [
    "#  Calculo de tensiones"
   ]
  },
  {
   "cell_type": "code",
   "execution_count": 15,
   "id": "32141107-e8d4-40fd-ace1-7a23358e130e",
   "metadata": {},
   "outputs": [
    {
     "data": {
      "text/plain": [
       "array([[ 0.        ],\n",
       "       [ 0.        ],\n",
       "       [ 0.0007619 ],\n",
       "       [-0.00384387],\n",
       "       [ 0.00152381],\n",
       "       [ 0.        ],\n",
       "       [ 0.0007619 ],\n",
       "       [-0.0036534 ]])"
      ]
     },
     "execution_count": 15,
     "metadata": {},
     "output_type": "execute_result"
    }
   ],
   "source": [
    "U"
   ]
  },
  {
   "cell_type": "code",
   "execution_count": 16,
   "id": "94f7f237-4bfb-4925-98b5-d3a4a5b6558e",
   "metadata": {},
   "outputs": [],
   "source": [
    "U= U.reshape(Nn,2)"
   ]
  },
  {
   "cell_type": "code",
   "execution_count": 17,
   "id": "fc31ee41-9946-40b5-a6d0-41002fc7fa82",
   "metadata": {},
   "outputs": [
    {
     "data": {
      "text/plain": [
       "array([[ 0.        ,  0.        ],\n",
       "       [ 0.0007619 , -0.00384387],\n",
       "       [ 0.00152381,  0.        ],\n",
       "       [ 0.0007619 , -0.0036534 ]])"
      ]
     },
     "execution_count": 17,
     "metadata": {},
     "output_type": "execute_result"
    }
   ],
   "source": [
    "U"
   ]
  },
  {
   "cell_type": "code",
   "execution_count": 18,
   "id": "aaaf1cf4-fc6d-4b16-a156-f6b2750b0007",
   "metadata": {},
   "outputs": [],
   "source": [
    "aux= np.zeros([Nn,1])\n",
    "despl= np.append(U, aux, axis=1)"
   ]
  },
  {
   "cell_type": "code",
   "execution_count": 19,
   "id": "7f1468a7-103f-4d4d-b7db-92c480f76706",
   "metadata": {},
   "outputs": [],
   "source": [
    "MN_actualizada= despl + MN"
   ]
  },
  {
   "cell_type": "code",
   "execution_count": 28,
   "id": "38dace46-3462-4743-bd53-9c7eebd84094",
   "metadata": {},
   "outputs": [],
   "source": [
    "long_final = []\n",
    "long_inicial=[]\n",
    "tensiones= []"
   ]
  },
  {
   "cell_type": "code",
   "execution_count": 29,
   "id": "2392f8b2-07ab-4606-a0ea-2028d0abdcf2",
   "metadata": {},
   "outputs": [],
   "source": [
    "for e in range(Ne):\n",
    "    nodo1= MC[e,0]\n",
    "    nodo2= MC[e,1]\n",
    "    cord_nodo_inicial=np.array([MN[nodo2,0]-MN[nodo1,0],MN[nodo2,1]-MN[nodo1,1]])\n",
    "    cord_nodo_final=np.array([MN_actualizada[nodo2,0]-MN_actualizada[nodo1,0],\n",
    "                              MN_actualizada[nodo2,1]-MN_actualizada[nodo1,1]])\n",
    "    long_final.append(np.linalg.norm(cord_nodo_final))\n",
    "    long_inicial.append(np.linalg.norm(cord_nodo_inicial))\n",
    "    tensiones.append((((long_final[e]-long_inicial[e])/long_inicial[e])*E[e]))"
   ]
  },
  {
   "cell_type": "code",
   "execution_count": 33,
   "id": "5aed6591-b498-4b81-98a5-d8f817eb8e60",
   "metadata": {},
   "outputs": [],
   "source": [
    "tensiones = np.array(tensiones)"
   ]
  },
  {
   "cell_type": "code",
   "execution_count": 34,
   "id": "4b66bb42-1fbb-495c-91ec-45dfa648fdaa",
   "metadata": {},
   "outputs": [
    {
     "data": {
      "text/plain": [
       "array([-22.34358817,  20.02423853,  10.        , -22.34358817,\n",
       "        20.02423853])"
      ]
     },
     "execution_count": 34,
     "metadata": {},
     "output_type": "execute_result"
    }
   ],
   "source": [
    "tensiones/1E6 #estan en MPa"
   ]
  },
  {
   "cell_type": "code",
   "execution_count": 35,
   "id": "ad227c0c-8dce-41c6-a8ef-9bb2d7add82d",
   "metadata": {},
   "outputs": [
    {
     "data": {
      "text/plain": [
       "[8.94427190999916, 8.0, 4.0, 8.94427190999916, 8.0]"
      ]
     },
     "execution_count": 35,
     "metadata": {},
     "output_type": "execute_result"
    }
   ],
   "source": [
    "long_inicial"
   ]
  },
  {
   "cell_type": "code",
   "execution_count": null,
   "id": "5e66b3ac-d22b-4cf6-b40a-3ece9da16c65",
   "metadata": {},
   "outputs": [],
   "source": []
  }
 ],
 "metadata": {
  "kernelspec": {
   "display_name": "Python 3 (ipykernel)",
   "language": "python",
   "name": "python3"
  },
  "language_info": {
   "codemirror_mode": {
    "name": "ipython",
    "version": 3
   },
   "file_extension": ".py",
   "mimetype": "text/x-python",
   "name": "python",
   "nbconvert_exporter": "python",
   "pygments_lexer": "ipython3",
   "version": "3.9.10"
  }
 },
 "nbformat": 4,
 "nbformat_minor": 5
}
