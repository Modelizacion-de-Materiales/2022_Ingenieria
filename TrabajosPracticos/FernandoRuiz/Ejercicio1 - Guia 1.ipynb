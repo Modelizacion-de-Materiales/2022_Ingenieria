{
 "cells": [
  {
   "cell_type": "code",
   "execution_count": 1,
   "id": "c0aa627f-0920-476e-9dd6-873a1de4ea76",
   "metadata": {},
   "outputs": [],
   "source": [
    "#Discretizacion del problema. k=Nx.Ny\n",
    "#vector columna de nx.ny valores.\n",
    "#matriz de 3x3 (para empezar)"
   ]
  },
  {
   "cell_type": "code",
   "execution_count": 2,
   "id": "f9dae9c1-57d1-45fc-88bd-aa0edf72d8d5",
   "metadata": {},
   "outputs": [],
   "source": [
    "import numpy as np   # Importo paquete de álgebra lineal\n",
    "import matplotlib.pyplot as plt   # Importo paquete de gráficos\n",
    "import math   # Importo paquete de funciones matemáticas\n",
    "import random   # Importo paquete para generar números pseudoaleatorios\n",
    "import time"
   ]
  },
  {
   "cell_type": "code",
   "execution_count": 3,
   "id": "c57b8ddf-438e-4d25-bf8c-26ba0246baef",
   "metadata": {},
   "outputs": [],
   "source": [
    "#discretizar el problema\n",
    "Nx= 5\n",
    "Ny= 5\n",
    "T_A,T_C,T_D = (75,50,100)\n",
    "valoresdefault= {'A':75,'B':0,'C':50,'D':100}\n",
    "contornodefault= {'A':'temp','B':'flujo','C':'temp','D':'temp'}"
   ]
  },
  {
   "cell_type": "code",
   "execution_count": 4,
   "id": "7a50b557-bbb7-4388-ac67-6c60bf20ca32",
   "metadata": {},
   "outputs": [],
   "source": [
    "class Chapa:\n",
    "    \n",
    "    def __init__(self, Nx=3, Ny=3):\n",
    "        self.Nx= Nx\n",
    "        self.Ny =Ny\n",
    "        self.Nk =Nx*Ny\n",
    "        self.beta = Nx/Ny\n",
    "        self.bordeB= np.linspace(0,self.Nx-1,self.Nx).astype(int)\n",
    "        self.bordeD= np.linspace(self.Nk-self.Nx,self.Nx*self.Ny-1,self.Nx).astype(int)\n",
    "        self.bordeA= np.linspace(0,self.Nk-self.Nx,self.Ny).astype(int)\n",
    "        self.bordeC= np.linspace(self.Nx-1,self.Nk-1,self.Ny).astype(int)\n",
    "    def makematrix(self,TC= valoresdefault,tipocontorno= contornodefault):\n",
    "        Nx=self.Nx\n",
    "        Ny=self.Ny\n",
    "        Nk=self.Nk\n",
    "        beta=self.beta\n",
    "        self.TC=TC\n",
    "        self.tipocontorno= tipocontorno\n",
    "        M= np.identity(Nx*Ny)\n",
    "        b= np.zeros((Nx*Ny,1))\n",
    "        for k in range(Nk):\n",
    "            if k==0:\n",
    "                if self.tipocontorno['A']=='temp' and self.tipocontorno['B']=='flujo':\n",
    "                    # Dejo el valor de temperatura.\n",
    "                    b[k] = TC['A']\n",
    "                elif self.tipocontorno['A']=='flujo' and self.tipocontorno['B']=='temp':\n",
    "                    # Dejo el valor de temperatura.\n",
    "                    b[k] = TC['B']\n",
    "                else:\n",
    "                    b[k]= (TC['A']+TC['B'])/2\n",
    "\n",
    "            elif k==(Nx-1):\n",
    "                if self.tipocontorno['B']=='temp' and self.tipocontorno['C']=='flujo':\n",
    "                    # Dejo el valor de temperatura.\n",
    "                    b[k] = TC['B']\n",
    "                elif self.tipocontorno['B']=='flujo' and self.tipocontorno['C']=='temp':\n",
    "                    # Dejo el valor de temperatura.\n",
    "                    b[k] = TC['C']\n",
    "                else:\n",
    "                    b[k]= (TC['C']+TC['B'])/2\n",
    "\n",
    "            elif k== (Nk-Nx):\n",
    "                if self.tipocontorno['D']=='temp' and self.tipocontorno['A']=='flujo':\n",
    "                    # Dejo el valor de temperatura.\n",
    "                    b[k] = TC['D']\n",
    "                elif self.tipocontorno['D']=='flujo' and self.tipocontorno['A']=='temp':\n",
    "                    # Dejo el valor de temperatura.\n",
    "                    b[k] = TC['A']\n",
    "                else:                \n",
    "                    b[k]= (TC['A']+TC['D'])/2\n",
    "\n",
    "            elif k==(Nk-1):\n",
    "                if self.tipocontorno['C']=='temp' and self.tipocontorno['D']=='flujo':\n",
    "                    # Dejo el valor de temperatura.\n",
    "                    b[k] = TC['C']\n",
    "                elif self.tipocontorno['C']=='flujo' and self.tipocontorno['D']=='temp':\n",
    "                    # Dejo el valor de temperatura.\n",
    "                    b[k] = TC['D']\n",
    "                else:\n",
    "                    b[k]= (TC['D']+TC['C'])/2\n",
    "\n",
    "            elif k in self.bordeB:\n",
    "                b[k]= TC['B']\n",
    "                if self.tipocontorno['B'] == 'flujo':\n",
    "                    M[k,k]= -2*(1+ beta**2)\n",
    "                    M[k,k+1]= 1\n",
    "                    M[k,k-1]= 1\n",
    "                    M[k,k+Nx]= 2*beta**2\n",
    "            elif k in self.bordeD:\n",
    "                b[k]= TC['D']\n",
    "                if self.tipocontorno['D'] == 'flujo':\n",
    "                    M[k,k]= -2*(1+ beta**2)\n",
    "                    M[k,k-1]= 1\n",
    "                    M[k,k+1]= 1\n",
    "                    M[k,k-Nx]= 2*beta**2\n",
    "                    #M[k,k+Nx]= beta**2\n",
    "            elif k in self.bordeA:\n",
    "                #if self.tipocontorno == 'temp': entra en TC el flujo\n",
    "                b[k]= TC['A']\n",
    "                if self.tipocontorno['A'] == 'flujo':\n",
    "                    M[k,k]= -2*(1+ beta**2)\n",
    "                    M[k,k+1]= 2\n",
    "                    M[k,k-Nx]= beta**2\n",
    "                    M[k,k+Nx]= beta**2\n",
    "                \n",
    "            elif k in self.bordeC:\n",
    "                b[k]= TC['C']\n",
    "                if self.tipocontorno['C'] == 'flujo':\n",
    "                    M[k,k]= -2*(1+ beta**2)\n",
    "                    M[k,k-1]= 2\n",
    "                    M[k,k-Nx]= beta**2\n",
    "                    M[k,k+Nx]= beta**2\n",
    "            else:\n",
    "                M[k,k]= -2*(1+ beta**2)\n",
    "                M[k,k-1]= 1\n",
    "                M[k,k+1]= 1\n",
    "                M[k,k-Nx]= beta**2\n",
    "                M[k,k+Nx]= beta**2\n",
    "        self.M=M\n",
    "        self.b=b\n",
    "        return M,b"
   ]
  },
  {
   "cell_type": "code",
   "execution_count": 5,
   "id": "4afd1568-1b01-4454-bdc2-67009e8773a3",
   "metadata": {},
   "outputs": [],
   "source": [
    "C=Chapa(Nx,Ny)"
   ]
  },
  {
   "cell_type": "code",
   "execution_count": 6,
   "id": "8f762db5-7974-4335-b53c-5f4553f163f1",
   "metadata": {},
   "outputs": [],
   "source": [
    "M,b= C.makematrix()"
   ]
  },
  {
   "cell_type": "code",
   "execution_count": 7,
   "id": "a0145ce0-b60c-4698-8d59-8f13f41b7fcf",
   "metadata": {},
   "outputs": [
    {
     "data": {
      "text/plain": [
       "<matplotlib.image.AxesImage at 0x1e5b4ac49a0>"
      ]
     },
     "execution_count": 7,
     "metadata": {},
     "output_type": "execute_result"
    },
    {
     "data": {
      "image/png": "[encoded data removed]",
      "text/plain": [
       "<Figure size 432x288 with 1 Axes>"
      ]
     },
     "metadata": {
      "needs_background": "light"
     },
     "output_type": "display_data"
    }
   ],
   "source": [
    "plt.imshow(M)"
   ]
  },
  {
   "cell_type": "markdown",
   "id": "26a3ce75-6177-499a-83fd-ae29eebe29ae",
   "metadata": {},
   "source": [
    "## Solucion"
   ]
  },
  {
   "cell_type": "code",
   "execution_count": 8,
   "id": "fec96791-38a5-4939-ab4a-985fdd240fd6",
   "metadata": {},
   "outputs": [],
   "source": [
    "Temp= np.linalg.solve(M,b)\n"
   ]
  },
  {
   "cell_type": "code",
   "execution_count": 9,
   "id": "2cfc23b2-e1b6-4798-9263-12fdd8d36ab9",
   "metadata": {},
   "outputs": [],
   "source": [
    "\n",
    "Temp_plot= Temp.reshape(Nx,Ny)"
   ]
  },
  {
   "cell_type": "raw",
   "id": "ac654915-d93f-4b02-b553-73b61c0c6a2c",
   "metadata": {},
   "source": [
    "plt.imshow(Temp_plot)\n",
    "plt.colorbar()\n",
    "plt.title('Matriz M')\n",
    "plt.show()"
   ]
  },
  {
   "cell_type": "code",
   "execution_count": 10,
   "id": "579de489-478c-42d0-85b8-6336ddfe34d2",
   "metadata": {},
   "outputs": [
    {
     "data": {
      "image/png": "[encoded data removed]",
      "text/plain": [
       "<Figure size 432x288 with 2 Axes>"
      ]
     },
     "metadata": {
      "needs_background": "light"
     },
     "output_type": "display_data"
    }
   ],
   "source": [
    "lvl = np.linspace(50, 100, 11)\n",
    "mapable = plt.contourf(Temp_plot, levels=lvl)\n",
    "plt.gca().set_aspect('equal')\n",
    "cbar = plt.colorbar(mapable)\n",
    "cbar.set_label('T(°C)')\n",
    "plt.title('Distribución de temperaturas')\n",
    "plt.xlabel('Nx')\n",
    "plt.ylabel('Ny')\n",
    "plt.show()"
   ]
  },
  {
   "cell_type": "markdown",
   "id": "743c072b-d05a-47bf-a37e-8e3ef6e9421a",
   "metadata": {},
   "source": [
    "## Flujos"
   ]
  },
  {
   "cell_type": "code",
   "execution_count": 11,
   "id": "6721c9ea-6e4e-4c34-a975-9df3589fd8bd",
   "metadata": {},
   "outputs": [],
   "source": [
    "def getheat(T, dx, dy):\n",
    "    # El flujo en cada nodo tendrá una componente \"x\" e \"y\", por lo que uso \"_like\" para que me cree vectores \"Qx\" y \"Qy\" del\n",
    "    # mismo tamaño que \"T\", así podré poner las respectivas componentes en \"x\" e \"y\".\n",
    "    Qx = np.zeros_like(T)\n",
    "    Qy = np.zeros_like(T)\n",
    "    N = len(T)\n",
    "    \n",
    "    for k in range(N):\n",
    "        \n",
    "        # Borde izq. (A)\n",
    "        if k%Nx==0:\n",
    "            # Tomo cociente incremental hacia la derecha, ya que para la izquierda no hay nada y no puedo tomar cociente \n",
    "            # incremental centrado.\n",
    "            Qx[k] = (T[k+1]-T[k])/dx\n",
    "        # Borde der. (C)\n",
    "        elif (k+1)%Nx==0:\n",
    "            # Tomo cociente incremental hacia la izquierda, ya que para la derecha no hay nada y no puedo tomar cociente \n",
    "            # incremental centrado.\n",
    "            Qx[k] = (T[k]-T[k-1])/dx\n",
    "        # Nodos internos y los otros bordes\n",
    "        else:\n",
    "            # Tomo cociente incremental centrado, ya que tengo elementos a izquierda y derecha.\n",
    "            Qx[k] = (T[k+1]-T[k-1])/(2*dx)\n",
    "            \n",
    "    for k in range (N):\n",
    "        \n",
    "        # Borde inf. (B)\n",
    "        if k<Nx-1:\n",
    "            # Tomo cociente incremental hacia arriba, ya que para abajo no hay nada y no puedo tomar cociente \n",
    "            # incremental centrado.\n",
    "            Qy[k] = (T[k+Nx]-T[k])/dy \n",
    "        # Borde sup. (D)\n",
    "        elif k>Nx*(Ny-1)-1:\n",
    "            # Tomo cociente incremental hacia abajo, ya que para arriba no hay nada y no puedo tomar cociente \n",
    "            # incremental centrado.\n",
    "            Qy[k] = (T[k]-T[k-Nx])/dy\n",
    "        # Nodos internos y los otros bordes\n",
    "        else:\n",
    "            # Tomo cociente incremental centrado, ya que tengo elementos abajo y arriba.\n",
    "            Qy[k] = (T[k+Nx]-T[k-Nx])/(2*dy)\n",
    "    \n",
    "    return Qx, Qy"
   ]
  },
  {
   "cell_type": "code",
   "execution_count": 12,
   "id": "2459fe31-388a-4ce5-a76d-daf7ef694ea9",
   "metadata": {},
   "outputs": [],
   "source": [
    "dx = 1/(Nx-1)\n",
    "dy = 1/(Ny-1)\n",
    "\n",
    "Qx, Qy = getheat(Temp, dx, dy)"
   ]
  },
  {
   "cell_type": "code",
   "execution_count": 13,
   "id": "d38a6c7b-708b-4000-9e3c-191118189727",
   "metadata": {},
   "outputs": [],
   "source": [
    "# Defino grilla de tamaño \"Nx*Ny\", con espaciados de \"1\" tanto en el eje x como en el eje y.\n",
    "x = np.arange(Nx)\n",
    "y = np.arange(Ny)\n",
    "X, Y = np.meshgrid(x, y)\n",
    "\n",
    "# Tomo los vectores \"Qx\" y \"Qy\" y los convierto en matrices de tamaño \"Nx*Ny\", para que vayan de 0 a Nx-1 en el eje x, y de 0\n",
    "# a Ny-1 en el eje y (sino a este último lo haría de Ny-1 a 0 y graficaría MAL).\n",
    "Qx_matriz = Qx.reshape(Nx, Ny)\n",
    "Qy_matriz = Qy.reshape(Nx, Ny)"
   ]
  },
  {
   "cell_type": "code",
   "execution_count": 14,
   "id": "572fe67b-6c7c-459a-9a75-1fcbb7715d8f",
   "metadata": {},
   "outputs": [
    {
     "data": {
      "image/png": "[encoded data removed]",
      "text/plain": [
       "<Figure size 432x288 with 2 Axes>"
      ]
     },
     "metadata": {
      "needs_background": "light"
     },
     "output_type": "display_data"
    }
   ],
   "source": [
    "mapable = plt.contourf(Temp_plot, levels=lvl)\n",
    "plt.streamplot(X, Y, -Qx_matriz, -Qy_matriz, color='k', density=0.6)\n",
    "plt.gca().set_aspect('equal')\n",
    "cbar = plt.colorbar(mapable)\n",
    "cbar.set_label('T(°C)')\n",
    "plt.title('Distribución de temperaturas y flujos')\n",
    "plt.xlabel('Nx')\n",
    "plt.ylabel('Ny')\n",
    "plt.axis([0, Nx-2, 0, Ny-2])   # Sino me deja líneas en blanco, muy raro.\n",
    "plt.show()"
   ]
  },
  {
   "cell_type": "code",
   "execution_count": 15,
   "id": "51c1965a-73db-4a4c-99a0-b4446cea6115",
   "metadata": {},
   "outputs": [],
   "source": [
    "Ns = np.arange(3, 100, 6)\n",
    "ts = []"
   ]
  },
  {
   "cell_type": "code",
   "execution_count": 16,
   "id": "0f510ba0-1a66-4fce-8fb0-0e47c7aacc41",
   "metadata": {},
   "outputs": [],
   "source": [
    "for Ni in Ns:\n",
    "    chapa_i = Chapa(Ni, Ni)\n",
    "    M, b = chapa_i.makematrix(valoresdefault, contornodefault)\n",
    "    t_1 = time.time()\n",
    "    T = np.linalg.solve(M, b)\n",
    "    T_matriz = T.reshape(Ni, Ni)\n",
    "    t_2 = time.time()\n",
    "    ts.append(t_2-t_1)"
   ]
  },
  {
   "cell_type": "code",
   "execution_count": 22,
   "id": "3bb5de8a-da69-4472-ae0d-96eb4b4a3b1c",
   "metadata": {},
   "outputs": [
    {
     "data": {
      "image/png": "[encoded data removed]",
      "text/plain": [
       "<Figure size 432x288 with 1 Axes>"
      ]
     },
     "metadata": {
      "needs_background": "light"
     },
     "output_type": "display_data"
    }
   ],
   "source": [
    "plt.plot(Ns[2:], ts[2:], 'og', ms=7)\n",
    "plt.xlabel('Tamaño del sistema (Nx)')\n",
    "plt.ylabel('Tiempo (s)')\n",
    "plt.grid('on')\n",
    "plt.axis([-5, 120, -0.1, 7])\n",
    "plt.show()"
   ]
  },
  {
   "cell_type": "code",
   "execution_count": null,
   "id": "416880a9-f558-4bb7-afa6-dafb17274168",
   "metadata": {},
   "outputs": [],
   "source": []
  }
 ],
 "metadata": {
  "kernelspec": {
   "display_name": "Python 3 (ipykernel)",
   "language": "python",
   "name": "python3"
  },
  "language_info": {
   "codemirror_mode": {
    "name": "ipython",
    "version": 3
   },
   "file_extension": ".py",
   "mimetype": "text/x-python",
   "name": "python",
   "nbconvert_exporter": "python",
   "pygments_lexer": "ipython3",
   "version": "3.9.10"
  }
 },
 "nbformat": 4,
 "nbformat_minor": 5
}
