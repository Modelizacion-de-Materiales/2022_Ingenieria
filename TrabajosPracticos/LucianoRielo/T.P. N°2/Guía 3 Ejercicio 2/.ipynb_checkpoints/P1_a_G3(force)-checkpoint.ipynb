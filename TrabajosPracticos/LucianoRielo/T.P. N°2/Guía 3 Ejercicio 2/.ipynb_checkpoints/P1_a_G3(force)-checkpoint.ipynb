{
 "cells": [
  {
   "cell_type": "markdown",
   "id": "42f7fb10-7b2c-47ca-8357-5845af90681a",
   "metadata": {},
   "source": [
    "$$ \\Large \\underline\n",
    "{\\textbf{Problema 1}}\n",
    "$$"
   ]
  },
  {
   "cell_type": "markdown",
   "id": "86fd12eb-e106-4393-837c-c2806389ff0b",
   "metadata": {},
   "source": [
    "Determine los desplazamientos de los bordes libres y los esfuerzos en función de la posición para la\n",
    "placa empotrada mostrada en la figura. Tome las dos particiones en elementos mostradas debajo y\n",
    "compare los resultados. Asuma que E = 30 x 10e6\n",
    " psi y n = 0.30."
   ]
  },
  {
   "cell_type": "markdown",
   "id": "d773af3e-45d4-4260-9c4b-af62a66f9f80",
   "metadata": {},
   "source": [
    "<center><img src=\"ImgProb01G03.png\"></center>"
   ]
  },
  {
   "cell_type": "code",
   "execution_count": 1,
   "id": "26353a3e-8bd1-4624-ad33-7458a46d9136",
   "metadata": {},
   "outputs": [],
   "source": [
    "import gmsh\n",
    "import numpy as np\n",
    "import matplotlib.pyplot as plt"
   ]
  },
  {
   "cell_type": "code",
   "execution_count": 2,
   "id": "ffeddf55-185b-4495-b96b-18c5268220a2",
   "metadata": {},
   "outputs": [],
   "source": [
    "plt.rc('figure',figsize=(10,10))\n",
    "plt.rc('axes',labelsize=24)\n",
    "plt.rc('xtick',labelsize=18)\n",
    "plt.rc('ytick',labelsize=18)"
   ]
  },
  {
   "cell_type": "markdown",
   "id": "40b22ca5-edc0-4332-bd98-61831510c451",
   "metadata": {},
   "source": [
    "$ \\large\n",
    "\\text{Mesh a mano}\n",
    "$"
   ]
  },
  {
   "cell_type": "code",
   "execution_count": 3,
   "id": "d3762156-9346-4d25-a2c3-4c28565e7a4e",
   "metadata": {},
   "outputs": [],
   "source": [
    "gmsh.initialize()"
   ]
  },
  {
   "cell_type": "code",
   "execution_count": 4,
   "id": "f34d263b-318f-403f-ae22-a8f6d684aa1b",
   "metadata": {},
   "outputs": [],
   "source": [
    "L = 10\n",
    "lc = 1\n",
    "\n",
    "p1 = gmsh.model.geo.addPoint(0,0,0,lc/5)\n",
    "p2 = gmsh.model.geo.addPoint(2*L,0,0,lc)\n",
    "p3 = gmsh.model.geo.addPoint(2*L,L,0,2*lc)\n",
    "p4 = gmsh.model.geo.addPoint(0,L,0,2*lc/5)\n",
    "\n",
    "l1 = gmsh.model.geo.addLine(p1,p2)\n",
    "l2 = gmsh.model.geo.addLine(p2,p3)\n",
    "l3 = gmsh.model.geo.addLine(p3,p4)\n",
    "l4 = gmsh.model.geo.addLine(p4,p1)\n",
    "\n",
    "C1 = gmsh.model.geo.addCurveLoop([l1,l2,l3,l4])\n",
    "\n",
    "S1 = gmsh.model.geo.addPlaneSurface([C1])"
   ]
  },
  {
   "cell_type": "code",
   "execution_count": 5,
   "id": "368b4309-0d58-4578-bc3f-b3c9cf515799",
   "metadata": {},
   "outputs": [],
   "source": [
    "gmsh.model.geo.synchronize()"
   ]
  },
  {
   "cell_type": "code",
   "execution_count": 6,
   "id": "62e0bb66-9144-48d6-9a00-c62d2e8fbfe0",
   "metadata": {},
   "outputs": [],
   "source": [
    "gmsh.fltk.run()"
   ]
  },
  {
   "cell_type": "code",
   "execution_count": 7,
   "id": "d25d58dc-6790-4447-b8e4-34f4454a828f",
   "metadata": {},
   "outputs": [],
   "source": [
    "Empotrado = gmsh.model.addPhysicalGroup(1, [l4])\n",
    "gmsh.model.setPhysicalName(1,Empotrado,'Empotrado')\n",
    "Traccionado = gmsh.model.addPhysicalGroup(1, [l2])\n",
    "gmsh.model.setPhysicalName(1,Traccionado,'Traccionado')\n",
    "Superficie = gmsh.model.addPhysicalGroup(2,[S1])\n",
    "gmsh.model.setPhysicalName(2,Superficie, 'Superficie')"
   ]
  },
  {
   "cell_type": "code",
   "execution_count": 8,
   "id": "47b444f7-1279-4a61-97ff-61e2eec1f937",
   "metadata": {},
   "outputs": [],
   "source": [
    "MN = np.array(\n",
    "    [\n",
    "        [0,0,0],\n",
    "        [2*L,0,0],\n",
    "        [2*L,L,0],\n",
    "        [0,L,0]\n",
    "    ])\n",
    "nodetags = np.linspace(1,MN.shape[0],MN.shape[0]).astype(int)"
   ]
  },
  {
   "cell_type": "code",
   "execution_count": 9,
   "id": "63f79314-f5e7-42db-bef8-3d26dd062f79",
   "metadata": {},
   "outputs": [],
   "source": [
    "MC = np.array([[1,2,3],[1,3,4]])"
   ]
  },
  {
   "cell_type": "code",
   "execution_count": 10,
   "id": "41223685-99c7-4eb1-a103-716c34776acd",
   "metadata": {},
   "outputs": [],
   "source": [
    "Empotrados = np.array([1,4])\n",
    "Traccionados = np.array([2,3])"
   ]
  },
  {
   "cell_type": "code",
   "execution_count": 11,
   "id": "7ad8c882-94e4-4683-8977-2e636375cb40",
   "metadata": {},
   "outputs": [],
   "source": [
    "elementags = [[1,2]]"
   ]
  },
  {
   "cell_type": "code",
   "execution_count": 12,
   "id": "3bb3c604-628c-48f2-af10-4c9fe9287556",
   "metadata": {},
   "outputs": [],
   "source": [
    "gmsh.model.mesh.add_nodes(2,S1,nodetags, MN.ravel(),)\n",
    "\n",
    "gmsh.model.mesh.addElements(2, S1, [2], elementags, [MC.ravel()])\n",
    "\n",
    "gmsh.model.mesh.add_elements(1,l4, [1], [[len(nodetags)+1]], [Empotrados])\n",
    "\n",
    "gmsh.model.mesh.add_elements(1,l2, [1], [[len(nodetags)+2]], [Traccionados])"
   ]
  },
  {
   "cell_type": "code",
   "execution_count": 13,
   "id": "227ee79b-ead1-4c25-8389-943a9c3fca88",
   "metadata": {},
   "outputs": [],
   "source": [
    "gmsh.option.setNumber(\"Mesh.MshFileVersion\", 2.2)\n",
    "gmsh.write('test.msh')"
   ]
  },
  {
   "cell_type": "code",
   "execution_count": 14,
   "id": "7277946c-2ab1-4c8e-9670-967f4362f950",
   "metadata": {},
   "outputs": [
    {
     "data": {
      "text/plain": [
       "(array([1, 2]),\n",
       " [array([6, 5], dtype=uint64), array([1, 2], dtype=uint64)],\n",
       " [array([2, 3, 1, 4], dtype=uint64), array([1, 2, 3, 1, 3, 4], dtype=uint64)])"
      ]
     },
     "execution_count": 14,
     "metadata": {},
     "output_type": "execute_result"
    }
   ],
   "source": [
    "ElementsInfo = gmsh.model.mesh.get_elements()\n",
    "ElementsInfo"
   ]
  },
  {
   "cell_type": "markdown",
   "id": "52803243-f1c2-4519-90c5-82679428c6f7",
   "metadata": {},
   "source": [
    "Etiquetas de los triangulos:"
   ]
  },
  {
   "cell_type": "code",
   "execution_count": 15,
   "id": "feef8a0f-7459-45f7-8401-0b515bdac094",
   "metadata": {},
   "outputs": [],
   "source": [
    "ETAGS = ElementsInfo[1][1]"
   ]
  },
  {
   "cell_type": "markdown",
   "id": "92a4ddd0-a6f2-4370-8f82-28bd1187d0c7",
   "metadata": {},
   "source": [
    "Matriz conectividad de los triangulos:"
   ]
  },
  {
   "cell_type": "code",
   "execution_count": 16,
   "id": "a06bf8a6-e3eb-4128-b934-ba5e87d20b88",
   "metadata": {},
   "outputs": [],
   "source": [
    "ELEMENTS = ElementsInfo[2][1].reshape(ETAGS.shape[0],3)"
   ]
  },
  {
   "cell_type": "markdown",
   "id": "2c775c06-31b9-437f-b70f-eccadf422b21",
   "metadata": {},
   "source": [
    "Una forma más simple: "
   ]
  },
  {
   "cell_type": "code",
   "execution_count": 23,
   "id": "606dd5f7-f055-48d7-a884-ddd20b8c01dc",
   "metadata": {},
   "outputs": [],
   "source": [
    "ETAGS, ELEMENTS = gmsh.model.mesh.get_elements_by_type(2)"
   ]
  },
  {
   "cell_type": "code",
   "execution_count": 24,
   "id": "86d74d74-1179-40c7-a642-eb8fdd4c87bf",
   "metadata": {},
   "outputs": [
    {
     "data": {
      "text/plain": [
       "array([[1, 2, 3],\n",
       "       [1, 3, 4]], dtype=uint64)"
      ]
     },
     "execution_count": 24,
     "metadata": {},
     "output_type": "execute_result"
    }
   ],
   "source": [
    "ELEMENTS.reshape(ETAGS.shape[0],3)"
   ]
  },
  {
   "cell_type": "code",
   "execution_count": null,
   "id": "702c7772-075a-4370-98f1-0ef1f5fa4420",
   "metadata": {},
   "outputs": [],
   "source": []
  }
 ],
 "metadata": {
  "kernelspec": {
   "display_name": "Python 3 (ipykernel)",
   "language": "python",
   "name": "python3"
  },
  "language_info": {
   "codemirror_mode": {
    "name": "ipython",
    "version": 3
   },
   "file_extension": ".py",
   "mimetype": "text/x-python",
   "name": "python",
   "nbconvert_exporter": "python",
   "pygments_lexer": "ipython3",
   "version": "3.9.10"
  }
 },
 "nbformat": 4,
 "nbformat_minor": 5
}
