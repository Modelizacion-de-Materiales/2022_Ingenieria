{
 "cells": [
  {
   "cell_type": "markdown",
   "id": "00a09531-a972-4808-baf5-e63180c7935a",
   "metadata": {},
   "source": [
    "$$ \\Large \\underline\n",
    "{\\textbf{Problema 2}}\n",
    "$$"
   ]
  },
  {
   "cell_type": "markdown",
   "id": "08c8e9f2-a123-4bf6-917f-641cd2499ebe",
   "metadata": {},
   "source": [
    "Determine la deformación y los esfuerzos principales en función de la posición para una chapa con\n",
    "un agujero en el centro sujeta a tracción por sus extremos, como se muestra en la figura. Las\n",
    "dimensiones de la chapa son de $20\\ x\\ 10\\ pulgadas$ y su espesor de $1\\ pulgada$. El radio del agujero\n",
    "central es también de $1\\ pulgada$. Tome $E = 30 x 10^{6}\\\n",
    " psi$ y $n = 0.30$.\n"
   ]
  },
  {
   "cell_type": "markdown",
   "id": "a15f79c2-5b41-43ad-9717-760a523dae57",
   "metadata": {},
   "source": [
    "Analice el problema con número creciente de elementos y estudie su convergencia. "
   ]
  },
  {
   "cell_type": "markdown",
   "id": "b5e9928b-3931-4d63-b2e1-20776b4958ba",
   "metadata": {},
   "source": [
    "<center><img src=\"ImgProb02G03.png\"></center>"
   ]
  },
  {
   "cell_type": "code",
   "execution_count": 1,
   "id": "64e4ed2c-f652-4a64-9b37-c39ee00d7af1",
   "metadata": {},
   "outputs": [],
   "source": [
    "import gmsh\n",
    "import numpy as np\n",
    "import matplotlib.pyplot as plt\n",
    "import MEF as mef"
   ]
  },
  {
   "cell_type": "code",
   "execution_count": 2,
   "id": "84a0dd3e-50ce-4c25-93d8-36aeebc6a46d",
   "metadata": {},
   "outputs": [],
   "source": [
    "lc = 10\n",
    "h = 10  # in\n",
    "b = 20  # in\n",
    "v = 0.3  # coef Poisson\n",
    "Ei = 30e6  # psi\n",
    "r = 1  # in  radio del agujero\n",
    "t = 1  # in  espesor de la chapa\n",
    "T = 1000"
   ]
  },
  {
   "cell_type": "code",
   "execution_count": 3,
   "id": "ded25760-bdf2-46b8-a397-5954f634e5ca",
   "metadata": {},
   "outputs": [],
   "source": [
    "gmsh.initialize()"
   ]
  },
  {
   "cell_type": "code",
   "execution_count": 4,
   "id": "d0989b79-f0f7-4054-ad46-10cf3918cbe3",
   "metadata": {},
   "outputs": [],
   "source": [
    "gmsh.model.add('Chapa_agujero_central')"
   ]
  },
  {
   "cell_type": "code",
   "execution_count": 5,
   "id": "f68e3304-8aa9-447d-9876-c18e03cae306",
   "metadata": {},
   "outputs": [],
   "source": [
    "p1 = gmsh.model.geo.addPoint(0,0,0,lc)\n",
    "p2 = gmsh.model.geo.addPoint(r,0,0,lc/15)\n",
    "p3 = gmsh.model.geo.addPoint(0,r,0,lc/15)\n",
    "p4 = gmsh.model.geo.addPoint(-r,0,0,lc/15)\n",
    "p5 = gmsh.model.geo.addPoint(0,-r,0,lc/15)\n",
    "p6 = gmsh.model.geo.addPoint(b/2,0,0,lc)\n",
    "p7 = gmsh.model.geo.addPoint(b/2,h/2,0,lc)\n",
    "p8 = gmsh.model.geo.addPoint(0,h/2,0,lc)\n",
    "p9 = gmsh.model.geo.addPoint(-b/2,h/2,0,lc)\n",
    "p10 = gmsh.model.geo.addPoint(-b/2,0,0,lc)\n",
    "p11 = gmsh.model.geo.addPoint(-b/2,-h/2,0,lc)\n",
    "p12 = gmsh.model.geo.addPoint(0,-h/2,0,lc)\n",
    "p13 = gmsh.model.geo.addPoint(b/2,-h/2,0,lc)"
   ]
  },
  {
   "cell_type": "code",
   "execution_count": 6,
   "id": "e083d5c7-d9fe-4d57-b80b-c92bdce1cb9b",
   "metadata": {},
   "outputs": [],
   "source": [
    "l1 = gmsh.model.geo.addLine(p2,p6)\n",
    "l2 = gmsh.model.geo.addLine(p6,p7)\n",
    "l3 = gmsh.model.geo.addLine(p7,p8)\n",
    "l4 = gmsh.model.geo.addLine(p8,p3)\n",
    "c5 = gmsh.model.geo.addCircleArc(p3, p1, p2)\n",
    "l6 = gmsh.model.geo.addLine(p10,p4)\n",
    "l7 = gmsh.model.geo.addLine(p8,p9)\n",
    "l8 = gmsh.model.geo.addLine(p9,p10)\n",
    "c9 = gmsh.model.geo.addCircleArc(p4, p1, p3)\n",
    "l10 = gmsh.model.geo.addLine(p11,p12)\n",
    "l11 = gmsh.model.geo.addLine(p12,p5)\n",
    "l12 = gmsh.model.geo.addLine(p10,p11)\n",
    "c13 = gmsh.model.geo.addCircleArc(p5, p1, p4)\n",
    "l14 = gmsh.model.geo.addLine(p12,p13)\n",
    "l15 = gmsh.model.geo.addLine(p13,p6)\n",
    "c16 = gmsh.model.geo.addCircleArc(p2, p1, p5)"
   ]
  },
  {
   "cell_type": "code",
   "execution_count": 7,
   "id": "e60fa578-6f50-4f65-bb60-c9db3bb05c2f",
   "metadata": {},
   "outputs": [],
   "source": [
    "gmsh.model.geo.synchronize()\n",
    "gmsh.fltk.run()"
   ]
  },
  {
   "cell_type": "code",
   "execution_count": 8,
   "id": "0d32761c-c28b-4fcf-9434-e1f0f976a68d",
   "metadata": {},
   "outputs": [],
   "source": [
    "C1 = gmsh.model.geo.addCurveLoop([l1,l2,l3,l4,c5])\n",
    "C2 = gmsh.model.geo.addCurveLoop([l6,c9,-l4,l7,l8])\n",
    "C3 = gmsh.model.geo.addCurveLoop([l10,l11,c13,-l6,l12])\n",
    "C4 = gmsh.model.geo.addCurveLoop([l14,l15,-l1,c16,-l11])"
   ]
  },
  {
   "cell_type": "code",
   "execution_count": 9,
   "id": "10639981-281f-4d57-8653-b54e9ca9211e",
   "metadata": {},
   "outputs": [],
   "source": [
    "S1 = gmsh.model.geo.addPlaneSurface([C1])\n",
    "S2 = gmsh.model.geo.addPlaneSurface([C2])\n",
    "S3 = gmsh.model.geo.addPlaneSurface([C3])\n",
    "S4 = gmsh.model.geo.addPlaneSurface([C4])"
   ]
  },
  {
   "cell_type": "code",
   "execution_count": 10,
   "id": "12b001fc-3c5f-425a-a137-442f0ea0165d",
   "metadata": {},
   "outputs": [],
   "source": [
    "gmsh.model.geo.synchronize()"
   ]
  },
  {
   "cell_type": "code",
   "execution_count": 11,
   "id": "e3fec0f5-5c1f-4724-84ef-f701e434e611",
   "metadata": {},
   "outputs": [],
   "source": [
    "Empotrado_x = gmsh.model.addPhysicalGroup(1, [l4,l11])\n",
    "gmsh.model.setPhysicalName(1,Empotrado_x,'Empotrado en x')\n",
    "Empotrado_y = gmsh.model.addPhysicalGroup(1, [l1,l6])\n",
    "gmsh.model.setPhysicalName(1,Empotrado_y,'Empotrado en y')\n",
    "\n",
    "Traccionado_der = gmsh.model.addPhysicalGroup(1,[l2,l15])\n",
    "gmsh.model.setPhysicalName(1,Traccionado_der,'Traccionado hacia la derecha')\n",
    "\n",
    "Traccionado_izq = gmsh.model.addPhysicalGroup(1,[l2,l15])\n",
    "gmsh.model.setPhysicalName(1,Traccionado_izq,'Traccionado hacia la izquierda')\n",
    "\n",
    "Superficie = gmsh.model.addPhysicalGroup(2,[S1,S2,S3,S4])\n",
    "gmsh.model.setPhysicalName(2,Superficie,'Superficie')"
   ]
  },
  {
   "cell_type": "code",
   "execution_count": null,
   "id": "a7284445-39f9-4271-8e3a-4c92e75d2a9b",
   "metadata": {},
   "outputs": [],
   "source": [
    "gmsh.model.mesh.generate(2)\n",
    "gmsh.model.geo.synchronize()\n",
    "gmsh.fltk.run()"
   ]
  },
  {
   "cell_type": "code",
   "execution_count": 13,
   "id": "f757a326-7cf1-425f-a399-d49467b7107c",
   "metadata": {},
   "outputs": [],
   "source": [
    "NodeInfo = gmsh.model.mesh.get_nodes()\n",
    "Nn = NodeInfo[0].shape[0]\n",
    "ETAGS, ELEMENTS = gmsh.model.mesh.get_elements_by_type(2)   # ETAGS = numeracion de cada elemento\n",
    "                                                            # ELEMENTS = ravel de los nodos que posee cada elemento\n",
    "MN = NodeInfo[1].reshape(Nn,3)  # matriz coordenadas de los nodos\n",
    "MN = np.append(MN[1:,:],[np.zeros(3)],0)  # llevo la primer fila al final porque nombra al nodo del centro como el último taggeado\n",
    "MC = ELEMENTS.reshape(ETAGS.shape[0],3)  # matriz conectividad"
   ]
  },
  {
   "cell_type": "code",
   "execution_count": 15,
   "id": "26b5d500-2a9f-4d81-bdbf-d0fa5a966c32",
   "metadata": {},
   "outputs": [],
   "source": [
    "Ne, Nnxe = MC.shape"
   ]
  },
  {
   "cell_type": "code",
   "execution_count": 16,
   "id": "8776d43c-39be-42ca-be61-211abddccb71",
   "metadata": {},
   "outputs": [],
   "source": [
    "E = np.zeros(Ne)\n",
    "for e in range(Ne):\n",
    "    E[e] = Ei"
   ]
  },
  {
   "cell_type": "code",
   "execution_count": 17,
   "id": "799d822a-cfb2-4c4b-a6d9-0f968b5da6fe",
   "metadata": {},
   "outputs": [],
   "source": [
    "MC = MC - np.ones([Ne,Nnxe])  # resto 1 para acomodar a lenguaje python"
   ]
  },
  {
   "cell_type": "code",
   "execution_count": 18,
   "id": "97ca6df5-a9a6-4821-9052-72810e25d433",
   "metadata": {},
   "outputs": [],
   "source": [
    "gmsh.option.setNumber(\"Mesh.MshFileVersion\",2.2)\n",
    "gmsh.write('chapa_agujero.msh')"
   ]
  },
  {
   "cell_type": "code",
   "execution_count": 19,
   "id": "eccbebc9-5520-468b-9308-9dd3177932ec",
   "metadata": {},
   "outputs": [],
   "source": [
    "glxn = 2\n",
    "dimension_elementos = 2"
   ]
  },
  {
   "cell_type": "code",
   "execution_count": 20,
   "id": "7468ee80-9877-4f77-a82a-dcb8a111a3c6",
   "metadata": {},
   "outputs": [],
   "source": [
    "K, Ke, D, B = mef.Kglobal_barra(MN, MC, E, glxn, dimension_elementos, v,t) "
   ]
  },
  {
   "cell_type": "code",
   "execution_count": 21,
   "id": "f4116923-b935-4c15-86c3-2af718460ee3",
   "metadata": {},
   "outputs": [],
   "source": [
    "nodos_empot_x, xyz_empot_x = gmsh.model.mesh.getNodesForPhysicalGroup(1, Empotrado_x)\n",
    "nodos_empot_y, xyz_empot_y = gmsh.model.mesh.getNodesForPhysicalGroup(1, Empotrado_y)"
   ]
  },
  {
   "cell_type": "code",
   "execution_count": 22,
   "id": "359116de-8ae6-4bc7-bd17-f49ab0f4453b",
   "metadata": {},
   "outputs": [],
   "source": [
    "s = []\n",
    "\n",
    "for n in nodos_empot_x-1:\n",
    "    s.append(glxn*n)\n",
    "for n in nodos_empot_y-1:\n",
    "    s.append(glxn*n+1)\n",
    "\n",
    "s.append((NodeInfo[0][0]-1)*glxn)\n",
    "s.append((NodeInfo[0][0]-1)*glxn+1)\n",
    "\n",
    "s = np.array(s).astype(int)\n",
    "\n",
    "Us = np.zeros([s.shape[0]]).reshape([-1,1])"
   ]
  },
  {
   "cell_type": "code",
   "execution_count": 23,
   "id": "ac20d8c5-8a95-43cb-ad09-8f939d27f582",
   "metadata": {},
   "outputs": [],
   "source": [
    "r = mef.vector_complemento(s, MN, glxn).astype(int)"
   ]
  },
  {
   "cell_type": "code",
   "execution_count": 24,
   "id": "1fea51ac-cb23-4f51-8457-c1ba0da89b8c",
   "metadata": {},
   "outputs": [],
   "source": [
    "entityTraccionada_der = gmsh.model.getEntitiesForPhysicalGroup(1, Traccionado_der)\n",
    "Tgroup_der, Ttraccionada_der, Ltraccionada_der = gmsh.model.mesh.getElements(1, entityTraccionada_der[0])\n",
    "Nlineastraccionadas_der = len(Ttraccionada_der[0])\n",
    "MCtraccionadas_der = Ltraccionada_der[0].reshape(Nlineastraccionadas_der,2)-1"
   ]
  },
  {
   "cell_type": "code",
   "execution_count": 25,
   "id": "f1cbda19-6bcd-45c6-aced-306661eac051",
   "metadata": {},
   "outputs": [],
   "source": [
    "entityTraccionada_izq = gmsh.model.getEntitiesForPhysicalGroup(1, Traccionado_izq)\n",
    "Tgroup_izq, Ttraccionada_izq, Ltraccionada_izq = gmsh.model.mesh.getElements(1, entityTraccionada_izq[0])\n",
    "Nlineastraccionadas_izq = len(Ttraccionada_izq[0])\n",
    "MCtraccionadas_izq = Ltraccionada_izq[0].reshape(Nlineastraccionadas_izq,2)-1"
   ]
  },
  {
   "cell_type": "code",
   "execution_count": 34,
   "id": "b6c52a0a-f038-4654-a32f-0bc3e5388be5",
   "metadata": {},
   "outputs": [
    {
     "data": {
      "text/plain": [
       "array([[4, 5]], dtype=uint64)"
      ]
     },
     "execution_count": 34,
     "metadata": {},
     "output_type": "execute_result"
    }
   ],
   "source": [
    "MCtraccionadas_der"
   ]
  },
  {
   "cell_type": "code",
   "execution_count": 26,
   "id": "69781afe-8b74-405e-ad26-ac4cf554909f",
   "metadata": {},
   "outputs": [],
   "source": [
    "Fr = np.zeros_like(r)\n",
    "for e in range(Nlineastraccionadas_der):\n",
    "    nodo1 = MCtraccionadas_der[e,0].astype(int)\n",
    "    nodo2 = MCtraccionadas_der[e,1].astype(int)\n",
    "    Ltraccionado = abs(MN[nodo2,1]-MN[nodo1,1])\n",
    "    Fr[np.where(r == nodo1*2)[0][0]] += T*Ltraccionado*t/2\n",
    "    Fr[np.where(r == nodo2*2)[0][0]] += T*Ltraccionado*t/2\n",
    "    \n",
    "for e in range(Nlineastraccionadas_izq):\n",
    "    nodo1 = MCtraccionadas_izq[e,0].astype(int)\n",
    "    nodo2 = MCtraccionadas_izq[e,1].astype(int)\n",
    "    Ltraccionado = abs(MN[nodo2,1]-MN[nodo1,1])\n",
    "    Fr[np.where(r == nodo1*2)[0][0]] += -T*Ltraccionado*t/2\n",
    "    Fr[np.where(r == nodo2*2)[0][0]] += -T*Ltraccionado*t/2\n",
    "    \n",
    "Fr = Fr.reshape([-1,1])"
   ]
  },
  {
   "cell_type": "code",
   "execution_count": 27,
   "id": "12eaee1b-6e7b-41e4-8223-e9689597909f",
   "metadata": {},
   "outputs": [],
   "source": [
    "F, U = mef.solve(K, r, s, Us, Fr)"
   ]
  },
  {
   "cell_type": "code",
   "execution_count": 28,
   "id": "46450cb7-4b58-41af-a9cc-20eb697384d6",
   "metadata": {},
   "outputs": [],
   "source": [
    "sig = {}\n",
    "d = {}\n",
    "for e in range(Ne):\n",
    "    nodo = MC[e,:].astype(int)\n",
    "    d[e] = np.array([U[nodo[0]*glxn],U[nodo[0]*glxn+1],\n",
    "                     U[nodo[1]*glxn],U[nodo[1]*glxn+1],\n",
    "                     U[nodo[2]*glxn],U[nodo[2]*glxn+1]]).reshape([-1,1])\n",
    "    sig[e] = D[e].dot(B[e].dot(d[e]))"
   ]
  },
  {
   "cell_type": "code",
   "execution_count": 29,
   "id": "de92e36b-2943-4a79-9773-8a957ce6bb5f",
   "metadata": {},
   "outputs": [],
   "source": [
    "U2D = U.reshape(Nn,glxn)\n",
    "U3D = np.append(U2D,np.zeros(U2D.shape[0]).reshape([-1,1]),1)"
   ]
  },
  {
   "cell_type": "code",
   "execution_count": 30,
   "id": "4a4fa157-8011-4cc1-80fb-63995aa17ea8",
   "metadata": {},
   "outputs": [],
   "source": [
    "MNdef = MN + U3D*1e5"
   ]
  },
  {
   "cell_type": "code",
   "execution_count": 31,
   "id": "bc35bf96-2511-4751-8e3a-03802f219009",
   "metadata": {},
   "outputs": [
    {
     "data": {
      "text/plain": [
       "Text(0.5, 0, 'desplazamiento en x')"
      ]
     },
     "execution_count": 31,
     "metadata": {},
     "output_type": "execute_result"
    },
    {
     "data": {
      "image/png": "[encoded data removed]",
      "text/plain": [
       "<Figure size 720x288 with 1 Axes>"
      ]
     },
     "metadata": {
      "needs_background": "light"
     },
     "output_type": "display_data"
    }
   ],
   "source": [
    "fig, ax = plt.subplots(figsize=(10,4))\n",
    "plt.triplot(MN[:,0], MN[:,1], MC, label='orig')  # triplot = grafica triangulitos\n",
    "plt.triplot(MNdef[:,0], MNdef[:,1], MC, label='def')\n",
    "plt.legend()\n",
    "plt.ylabel('desplazamiento en y')\n",
    "plt.xlabel('desplazamiento en x')"
   ]
  },
  {
   "cell_type": "code",
   "execution_count": 33,
   "id": "e4dcc659-2abf-41e1-8e1d-e7c316a43e1b",
   "metadata": {},
   "outputs": [
    {
     "data": {
      "text/plain": [
       "array([[0],\n",
       "       [0],\n",
       "       [0],\n",
       "       [0],\n",
       "       [0],\n",
       "       [0],\n",
       "       [0],\n",
       "       [0],\n",
       "       [0],\n",
       "       [0],\n",
       "       [0],\n",
       "       [0],\n",
       "       [0],\n",
       "       [0],\n",
       "       [0],\n",
       "       [0],\n",
       "       [0],\n",
       "       [0],\n",
       "       [0],\n",
       "       [0],\n",
       "       [0],\n",
       "       [0],\n",
       "       [0],\n",
       "       [0],\n",
       "       [0],\n",
       "       [0],\n",
       "       [0],\n",
       "       [0],\n",
       "       [0],\n",
       "       [0],\n",
       "       [0],\n",
       "       [0],\n",
       "       [0],\n",
       "       [0],\n",
       "       [0],\n",
       "       [0],\n",
       "       [0],\n",
       "       [0],\n",
       "       [0],\n",
       "       [0],\n",
       "       [0],\n",
       "       [0],\n",
       "       [0],\n",
       "       [0],\n",
       "       [0],\n",
       "       [0],\n",
       "       [0],\n",
       "       [0],\n",
       "       [0],\n",
       "       [0],\n",
       "       [0],\n",
       "       [0],\n",
       "       [0],\n",
       "       [0],\n",
       "       [0],\n",
       "       [0],\n",
       "       [0],\n",
       "       [0],\n",
       "       [0],\n",
       "       [0],\n",
       "       [0],\n",
       "       [0],\n",
       "       [0],\n",
       "       [0],\n",
       "       [0],\n",
       "       [0],\n",
       "       [0],\n",
       "       [0],\n",
       "       [0],\n",
       "       [0],\n",
       "       [0],\n",
       "       [0],\n",
       "       [0],\n",
       "       [0],\n",
       "       [0],\n",
       "       [0],\n",
       "       [0],\n",
       "       [0],\n",
       "       [0],\n",
       "       [0],\n",
       "       [0],\n",
       "       [0],\n",
       "       [0],\n",
       "       [0],\n",
       "       [0],\n",
       "       [0],\n",
       "       [0],\n",
       "       [0],\n",
       "       [0],\n",
       "       [0],\n",
       "       [0],\n",
       "       [0],\n",
       "       [0],\n",
       "       [0],\n",
       "       [0],\n",
       "       [0],\n",
       "       [0],\n",
       "       [0],\n",
       "       [0],\n",
       "       [0],\n",
       "       [0],\n",
       "       [0],\n",
       "       [0],\n",
       "       [0],\n",
       "       [0],\n",
       "       [0],\n",
       "       [0],\n",
       "       [0],\n",
       "       [0],\n",
       "       [0],\n",
       "       [0],\n",
       "       [0],\n",
       "       [0],\n",
       "       [0],\n",
       "       [0],\n",
       "       [0],\n",
       "       [0],\n",
       "       [0],\n",
       "       [0],\n",
       "       [0]])"
      ]
     },
     "execution_count": 33,
     "metadata": {},
     "output_type": "execute_result"
    }
   ],
   "source": [
    "Fr"
   ]
  },
  {
   "cell_type": "code",
   "execution_count": null,
   "id": "e8cb2ff5-ea2e-417e-ab9f-4ec61b9b2267",
   "metadata": {},
   "outputs": [],
   "source": []
  }
 ],
 "metadata": {
  "kernelspec": {
   "display_name": "Python 3 (ipykernel)",
   "language": "python",
   "name": "python3"
  },
  "language_info": {
   "codemirror_mode": {
    "name": "ipython",
    "version": 3
   },
   "file_extension": ".py",
   "mimetype": "text/x-python",
   "name": "python",
   "nbconvert_exporter": "python",
   "pygments_lexer": "ipython3",
   "version": "3.9.10"
  }
 },
 "nbformat": 4,
 "nbformat_minor": 5
}
