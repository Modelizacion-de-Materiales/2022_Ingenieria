{
 "cells": [
  {
   "cell_type": "markdown",
   "id": "72205046-b345-4f45-99cd-e55b17d90872",
   "metadata": {},
   "source": [
    "$$ \\Large \\underline\n",
    "{\\textbf{Problema 1}}\n",
    "$$"
   ]
  },
  {
   "cell_type": "markdown",
   "id": "116328a4-3060-4735-9923-650a61b41dbf",
   "metadata": {},
   "source": [
    "Determine los desplazamientos de los bordes libres y los esfuerzos en función de la posición para la\n",
    "placa empotrada mostrada en la figura. Tome las dos particiones en elementos mostradas debajo y\n",
    "compare los resultados. Asuma que E = 30 x 10e6\n",
    " psi y $n = 0.30$."
   ]
  },
  {
   "cell_type": "markdown",
   "id": "cf7bb257-8de7-42a6-928c-92dc489c0adb",
   "metadata": {},
   "source": [
    "<center><img src=\"ImgProb01aG03.png\"></center>"
   ]
  },
  {
   "cell_type": "code",
   "execution_count": 1,
   "id": "aa28de55-238a-40f1-b87b-a1f75471d72f",
   "metadata": {},
   "outputs": [],
   "source": [
    "import numpy as np\n",
    "import matplotlib.pyplot as plt\n",
    "import MEF as mef"
   ]
  },
  {
   "cell_type": "code",
   "execution_count": 2,
   "id": "6db547ae-e37f-4c21-a368-4263b3638eb4",
   "metadata": {},
   "outputs": [],
   "source": [
    "L = 20  # in\n",
    "h = 10  # in\n",
    "v = 0.3  # coef Poisson\n",
    "E = np.array([30e6,30e6])  # psi\n",
    "t = 1  # in"
   ]
  },
  {
   "cell_type": "code",
   "execution_count": 3,
   "id": "d23d7b4f-0c87-4a4c-acfb-57bb730435e8",
   "metadata": {},
   "outputs": [],
   "source": [
    "MN = np.array([\n",
    "        [0,0,0],\n",
    "        [0,h,0],\n",
    "        [L,h,0],\n",
    "        [L,0,0]])\n",
    "\n",
    "# Se resuelve igual que la teórica para comparar resultados\n",
    "MC = np.array([[0,2,1],[0,3,2]])"
   ]
  },
  {
   "cell_type": "code",
   "execution_count": 4,
   "id": "30060088-28b8-42eb-9a53-64a68e493b0c",
   "metadata": {},
   "outputs": [],
   "source": [
    "glxn = 2\n",
    "dimension_elementos = 2"
   ]
  },
  {
   "cell_type": "code",
   "execution_count": 5,
   "id": "e39e72d7-c572-417b-99ff-dc817e5df167",
   "metadata": {},
   "outputs": [],
   "source": [
    "Ne, Nnxe = MC.shape\n",
    "Nn = MN.shape[0]"
   ]
  },
  {
   "cell_type": "code",
   "execution_count": 6,
   "id": "c064026a-1c5e-4043-b7e3-65a5a7565071",
   "metadata": {},
   "outputs": [],
   "source": [
    "K, Ke, D, B = mef.Kglobal_barra(MN, MC, E, glxn, dimension_elementos, v,t) "
   ]
  },
  {
   "cell_type": "code",
   "execution_count": 7,
   "id": "ab5e09e1-9029-4aca-8ef7-7010ab1c6653",
   "metadata": {},
   "outputs": [],
   "source": [
    "s = np.array([0,1,2,3])\n",
    "r = mef.vector_complemento(s, MN, glxn)\n",
    "\n",
    "Us = np.array([0,0,0,0]).reshape([-1,1])\n",
    "Fr = np.array([5000,0,5000,0]).reshape([-1,1])  # lb"
   ]
  },
  {
   "cell_type": "code",
   "execution_count": 8,
   "id": "022d76ac-a150-49c1-a8bf-59f74d4c0faf",
   "metadata": {},
   "outputs": [],
   "source": [
    "F, U = mef.solve(K, r, s, Us, Fr)"
   ]
  },
  {
   "cell_type": "code",
   "execution_count": 9,
   "id": "d914df7b-0d92-46d7-98ff-58e3979361b9",
   "metadata": {},
   "outputs": [],
   "source": [
    "sig = {}\n",
    "d = {}\n",
    "for e in range(Ne):\n",
    "    nodo = MC[e,:]\n",
    "    d[e] = np.array([U[nodo[0]*glxn],U[nodo[0]*glxn+1],\n",
    "                     U[nodo[1]*glxn],U[nodo[1]*glxn+1],\n",
    "                     U[nodo[2]*glxn],U[nodo[2]*glxn+1]]).reshape([-1,1])\n",
    "    sig[e] = D[e].dot(B[e].dot(d[e]))"
   ]
  },
  {
   "cell_type": "code",
   "execution_count": 10,
   "id": "7acf86a7-5095-4ef5-9e80-3f99e7b99b16",
   "metadata": {},
   "outputs": [
    {
     "name": "stdout",
     "output_type": "stream",
     "text": [
      "\u001b[4m\n",
      "Tensiones en x, y, xy de cada barra\u001b[0m [psi]:\n",
      "\u001b[93mElemento 0:\n",
      " [[1004.80384]\n",
      " [301.44115]\n",
      " [2.40192]]\u001b[0m\n",
      "\u001b[93mElemento 1:\n",
      " [[995.19616]\n",
      " [-1.20096]\n",
      " [-2.40192]]\u001b[0m\n"
     ]
    }
   ],
   "source": [
    "np.set_printoptions(formatter={\"float\": lambda x: \"%0.5f\"% (x)})\n",
    "print('\\033[4m'+f'\\nTensiones en x, y, xy de cada barra'+'\\033[0m'+' [psi]:')\n",
    "for e in range(Ne):\n",
    "    print('\\033[93m'+f'Elemento {e}:\\n {sig[e]}'+'\\033[0m')"
   ]
  },
  {
   "cell_type": "code",
   "execution_count": 11,
   "id": "54f1308a-4cfb-496a-b623-7de47b87a2d2",
   "metadata": {},
   "outputs": [
    {
     "name": "stdout",
     "output_type": "stream",
     "text": [
      "\n",
      "\u001b[4mDesplazamientos x, y, e z de cada nodo\u001b[0m [in x 10^6]:\n",
      "\u001b[93mNodo 0: [0.00000 0.00000 0.00000]\u001b[0m\n",
      "\u001b[93mNodo 1: [0.00000 0.00000 0.00000]\u001b[0m\n",
      "\u001b[93mNodo 2: [609.58100 4.16333 0.00000]\u001b[0m\n",
      "\u001b[93mNodo 3: [663.70430 104.08327 0.00000]\u001b[0m\n"
     ]
    }
   ],
   "source": [
    "U2D = U.reshape(Nn,glxn)\n",
    "U2D = np.append(U2D,np.zeros(U2D.shape[0]).reshape([-1,1]),1)\n",
    "print('\\n\\033[4m'+f'Desplazamientos x, y, e z de cada nodo'+'\\033[0m'+' [in x 10^6]:')\n",
    "for n in range(Nn):\n",
    "    print('\\033[93m'+f'Nodo {n}: {U2D[n]*1e6}'+'\\033[0m')"
   ]
  },
  {
   "cell_type": "code",
   "execution_count": 12,
   "id": "9213811a-6c06-4436-a0b9-9f084b6efa27",
   "metadata": {},
   "outputs": [
    {
     "data": {
      "text/plain": [
       "array([[48.00000, 0.00000, -28.00000, 14.00000, 0.00000, -26.00000,\n",
       "        -20.00000, 12.00000],\n",
       "       [0.00000, 87.00000, 12.00000, -80.00000, -26.00000, 0.00000,\n",
       "        14.00000, -7.00000],\n",
       "       [-28.00000, 12.00000, 48.00000, -26.00000, -20.00000, 14.00000,\n",
       "        0.00000, 0.00000],\n",
       "       [14.00000, -80.00000, -26.00000, 87.00000, 12.00000, -7.00000,\n",
       "        0.00000, 0.00000],\n",
       "       [0.00000, -26.00000, -20.00000, 12.00000, 48.00000, 0.00000,\n",
       "        -28.00000, 14.00000],\n",
       "       [-26.00000, 0.00000, 14.00000, -7.00000, 0.00000, 87.00000,\n",
       "        12.00000, -80.00000],\n",
       "       [-20.00000, 14.00000, 0.00000, 0.00000, -28.00000, 12.00000,\n",
       "        48.00000, -26.00000],\n",
       "       [12.00000, -7.00000, 0.00000, 0.00000, 14.00000, -80.00000,\n",
       "        -26.00000, 87.00000]])"
      ]
     },
     "execution_count": 12,
     "metadata": {},
     "output_type": "execute_result"
    }
   ],
   "source": [
    "K*(0.91/375000)"
   ]
  },
  {
   "cell_type": "code",
   "execution_count": null,
   "id": "47c93a3b-c6e3-4179-98f6-2c43172c614d",
   "metadata": {},
   "outputs": [],
   "source": []
  }
 ],
 "metadata": {
  "kernelspec": {
   "display_name": "Python 3 (ipykernel)",
   "language": "python",
   "name": "python3"
  },
  "language_info": {
   "codemirror_mode": {
    "name": "ipython",
    "version": 3
   },
   "file_extension": ".py",
   "mimetype": "text/x-python",
   "name": "python",
   "nbconvert_exporter": "python",
   "pygments_lexer": "ipython3",
   "version": "3.9.10"
  }
 },
 "nbformat": 4,
 "nbformat_minor": 5
}
