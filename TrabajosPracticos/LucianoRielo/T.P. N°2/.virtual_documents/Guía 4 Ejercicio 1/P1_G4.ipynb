import numpy as np
import MEF as mef
from scipy import linalg
import matplotlib.pyplot as plt


d = 7850  # kg/m3
LT = 1  # m
Ei = 210e9  # Pa
Ai = 10/(100**2)  # m2
I = 10/(100**4)  # m4


Ne = 100  # cantidad de elementos que tendrá la barra
glxn = 2  # grados de libertad por nodo
dimension_elementos = 1


L = LT/Ne  # longitud de cada elemento


MN = np.array([(i*L, (i+1)*L) for i in range(Ne+1)])
MC = np.array([[i, i+1] for i in range(Ne)])
Nn = MN.shape[0]
Nnxe = MC.shape[1]


E = np.zeros([Ne])
A = np.zeros([Ne])
for e in range(Ne):
    E[e] = Ei
    A[e] = Ai


Ke = {}
for e in range(Ne):
    Ke[e] = (E[e]*I/L**3)*np.array([[12,6*L,-12,6*L],
                           [6*L,4*(L**2),-6*L,2*(L**2)],
                           [-12,-6*L,12,-6*L],
                           [6*L,2*(L**2),-6*L,4*(L**2)]])


def M_global(Me,Nn,Ne,glxn):   
    M = np.zeros([glxn*Nn,glxn*Nn])
    for e in range(Ne):
        for i in range(Nnxe):
            rangoi = np.linspace(i*glxn,(i+1)*glxn-1,glxn).astype(int)
            rangoni = np.linspace(MC[e,i]*glxn,(MC[e, i]+1)*glxn-1,glxn).astype(int)
            for j in range(Nnxe):
                rangoj = np.linspace(j*glxn,(j+1)*glxn-1,glxn).astype(int)
                rangonj = np.linspace(MC[e,j]*glxn,(MC[e, j]+1)*glxn-1,glxn).astype(int)
                M[np.ix_(rangoni,rangonj)] += Me[e][np.ix_(rangoi,rangoj)]
    return M


K = M_global(Ke, Nn, Ne, glxn)


Me = {}
for e in range(Ne):
    Me[e] = (d*A[e]*L/420)*np.array([[156,22*L,54,-13*L],
                           [22*L,4*L**2,13*L,-3*L**2],
                           [54,13*L,156,-22*L],
                           [-13*L,-3*L**2,-22*L,4*L**2]])


M = M_global(Me, Nn, Ne, glxn)


s = np.array([0,1])
r = mef.vector_complemento(s, MN, glxn)


om_2, V = linalg.eigh(K[np.ix_(r,r)],M[np.ix_(r,r)])


f = np.sqrt(om_2)/(2*np.pi)


V = np.vstack((np.zeros([2,V.shape[1]]),V))


desp = V[0::2, :]/V[0::2, :][-1, :]  # [0::2] Devuelve solo los elementos [0],[2],[4],[6],...


x = np.linspace(0,LT,Nn)


plt.rc('figure', figsize=(15, 8))
plt.rc('font', size=15)
for i in range(4):
    plt.plot(x*100, desp[:,i], label='Modo '+str(i+1)+': f='+str(round(f[i], 2))+' Hz')
plt.grid()
plt.ylabel('y (cm)')
plt.xlabel('x (cm)')
plt.legend()
plt.show()


Me_0 = {}
for e in range(Ne):
    Me_0[e] = (d*A[e]*L/24)*np.array([[12,0,0,0],
                           [0,L**2,0,0],
                           [0,0,12,0],
                           [0,0,0,L**2]])
    
M_0 = M_global(Me_0, Nn, Ne, glxn) 


om_2_0, V_0 = linalg.eigh(K[np.ix_(r,r)],M_0[np.ix_(r,r)])
f_0 = np.sqrt(om_2_0)/(2*np.pi)
V_0 = np.vstack((np.zeros([2,V_0.shape[1]]),V_0))
desp_0 = V_0[0::2, :]/V_0[0::2, :][-1, :]


plt.rc('figure', figsize=(15, 8))
plt.rc('font', size=15)
for i in range(4):
    plt.plot(x*100, desp_0[:,i], label='Modo '+str(i+1)+': f='+str(round(f_0[i], 2))+' Hz')
plt.grid()
plt.ylabel('y (cm)')
plt.xlabel('x (cm)')
plt.legend()
plt.show()


ne = np.linspace(2,20,19).astype(int)
f_1 = []  # acumulo las frecuencias de cada modo
f_2 = []  # cada pos corresponde a una cantidad de nodos
f_3 = []
f_4 = []
for Ne in ne: 
    L = LT/Ne  # longitud de cada elemento
    MN = np.array([(i*L, (i+1)*L) for i in range(Ne+1)])
    MC = np.array([[i, i+1] for i in range(Ne)])
    Nn = MN.shape[0]
    Nnxe = MC.shape[1]
    E = np.zeros([Ne])
    A = np.zeros([Ne])
    for e in range(Ne):
        E[e] = Ei
        A[e] = Ai
    Ke = {}
    for e in range(Ne):
        Ke[e] = (E[e]*I/L**3)*np.array([[12,6*L,-12,6*L],
                               [6*L,4*(L**2),-6*L,2*(L**2)],
                               [-12,-6*L,12,-6*L],
                               [6*L,2*(L**2),-6*L,4*(L**2)]])
    Me = {}
    for e in range(Ne):
        Me[e] = (d*A[e]*L/420)*np.array([[156,22*L,54,-13*L],
                               [22*L,4*L**2,13*L,-3*L**2],
                               [54,13*L,156,-22*L],
                               [-13*L,-3*L**2,-22*L,4*L**2]])
        
    K = M_global(Ke, Nn, Ne, glxn)
    M = M_global(Me, Nn, Ne, glxn)
    s = np.array([0,1])
    r = mef.vector_complemento(s, MN, glxn)
    om_2, V = linalg.eigh(K[np.ix_(r,r)],M[np.ix_(r,r)])
    f_1.append(np.sqrt(om_2[0])/(2*np.pi))
    f_2.append(np.sqrt(om_2[1])/(2*np.pi))
    f_3.append(np.sqrt(om_2[2])/(2*np.pi))
    f_4.append(np.sqrt(om_2[3])/(2*np.pi))

f_1 = np.array(f_1)
f_2 = np.array(f_2)
f_3 = np.array(f_3)
f_4 = np.array(f_4)


plt.rc('figure', figsize=(15, 8))
plt.rc('font', size=15)
plt.plot(ne, f_1/f_1.max(), label='Modo 1')
plt.plot(ne, f_2/f_2.max(), label='Modo 2')
plt.plot(ne, f_3/f_3.max(), label='Modo 3')
plt.plot(ne, f_4/f_4.max(), label='Modo 4')
plt.grid()
plt.ylabel('F/(Fmáx)')
plt.xlabel('Número de nodos')
plt.legend()
plt.show()



