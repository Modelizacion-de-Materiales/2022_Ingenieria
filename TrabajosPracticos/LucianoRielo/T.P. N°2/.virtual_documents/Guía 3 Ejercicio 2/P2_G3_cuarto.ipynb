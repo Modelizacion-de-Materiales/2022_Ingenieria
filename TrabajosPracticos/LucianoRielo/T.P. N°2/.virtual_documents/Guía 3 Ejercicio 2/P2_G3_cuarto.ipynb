import gmsh
import numpy as np
import matplotlib.pyplot as plt
import MEF as mef


lc = 0.2
h = 10  # in
b = 20  # in
v = 0.3  # coef Poisson
Ei = 30e6  # psi
r = 1  # in  radio del agujero
t = 1  # in  espesor de la chapa
T = 1000


gmsh.initialize()


gmsh.model.add('Chapa_agujero_central')


pc = gmsh.model.geo.addPoint(0,0,0,lc)
p1 = gmsh.model.geo.addPoint(r,0,0,lc/15)
p2 = gmsh.model.geo.addPoint(b/2,0,0,lc)
p3 = gmsh.model.geo.addPoint(b/2,h/2,0,lc)
p4 = gmsh.model.geo.addPoint(0,h/2,0,lc)
p5 = gmsh.model.geo.addPoint(0,r,0,lc/15)


l1 = gmsh.model.geo.addLine(p1,p2)
l2 = gmsh.model.geo.addLine(p2,p3)
l3 = gmsh.model.geo.addLine(p3,p4)
l4 = gmsh.model.geo.addLine(p4,p5)
c1 = gmsh.model.geo.addCircleArc(p5, pc, p1)


C1 = gmsh.model.geo.addCurveLoop([l1,l2,l3,l4,c1])


S1 = gmsh.model.geo.addPlaneSurface([C1])


gmsh.model.geo.synchronize()


Empotrado_x = gmsh.model.addPhysicalGroup(1, [l4])
gmsh.model.setPhysicalName(1,Empotrado_x,'Empotrado en x')
Empotrado_y = gmsh.model.addPhysicalGroup(1, [l1])
gmsh.model.setPhysicalName(1,Empotrado_y,'Empotrado en y')

Traccionado = gmsh.model.addPhysicalGroup(1,[l2])
gmsh.model.setPhysicalName(1,Traccionado,'Traccionado')

Superficie = gmsh.model.addPhysicalGroup(2,[S1])
gmsh.model.setPhysicalName(2,Superficie,'Superficie')


gmsh.model.mesh.generate(2)
gmsh.model.geo.synchronize()
gmsh.fltk.run()


NodeInfo = gmsh.model.mesh.get_nodes()
Nn = NodeInfo[0].shape[0]
ETAGS, ELEMENTS = gmsh.model.mesh.get_elements_by_type(2)   # ETAGS = numeracion de cada elemento
                                                            # ELEMENTS = ravel de los nodos que posee cada elemento
MN = NodeInfo[1].reshape(Nn,3)  # matriz coordenadas de los nodos
MN = np.append(MN[1:,:],[np.zeros(3)],0)  # llevo la primer fila al final porque nombra al nodo del centro como el último taggeado
MC = ELEMENTS.reshape(ETAGS.shape[0],3)  # matriz conectividad


Ne, Nnxe = MC.shape


E = np.zeros(Ne)
for e in range(Ne):
    E[e] = Ei


MC = MC - np.ones([Ne,Nnxe])  # resto 1 para acomodar a lenguaje python


gmsh.option.setNumber("Mesh.MshFileVersion",2.2)
gmsh.write('chapa_agujero.msh')


glxn = 2
dimension_elementos = 2


K, Ke, D, B = mef.Kglobal_barra(MN, MC, E, glxn, dimension_elementos, v,t) 


nodos_empot_x, xyz_empot_x = gmsh.model.mesh.getNodesForPhysicalGroup(1, Empotrado_x)
nodos_empot_y, xyz_empot_y = gmsh.model.mesh.getNodesForPhysicalGroup(1, Empotrado_y)


s = []

for n in nodos_empot_x-1:
    s.append(glxn*n)
for n in nodos_empot_y-1:
    s.append(glxn*n+1)

s.append((NodeInfo[0][0]-1)*glxn)
s.append((NodeInfo[0][0]-1)*glxn+1)

s = np.array(s).astype(int)

Us = np.zeros([s.shape[0]]).reshape([-1,1])


r = mef.vector_complemento(s, MN, glxn).astype(int)


entityTraccionada = gmsh.model.getEntitiesForPhysicalGroup(1, Traccionado)
Tgroup, Ttraccionada, Ltraccionada = gmsh.model.mesh.getElements(1, entityTraccionada[0])
Nlineastraccionadas = len(Ttraccionada[0])
MCtraccionadas = Ltraccionada[0].reshape(Nlineastraccionadas,2)-1


Fr = np.zeros_like(r)
for e in range(Nlineastraccionadas):
    nodo1 = MCtraccionadas[e,0].astype(int)
    nodo2 = MCtraccionadas[e,1].astype(int)
    Ltraccionado = abs(MN[nodo2,1]-MN[nodo1,1])
    Fr[np.where(r == nodo1*2)[0][0]] += T*Ltraccionado*t/2
    Fr[np.where(r == nodo2*2)[0][0]] += T*Ltraccionado*t/2
Fr = Fr.reshape([-1,1])


F, U = mef.solve(K, r, s, Us, Fr)


sig = {}
d = {}
for e in range(Ne):
    nodo = MC[e,:].astype(int)
    d[e] = np.array([U[nodo[0]*glxn],U[nodo[0]*glxn+1],
                     U[nodo[1]*glxn],U[nodo[1]*glxn+1],
                     U[nodo[2]*glxn],U[nodo[2]*glxn+1]]).reshape([-1,1])
    sig[e] = D[e].dot(B[e].dot(d[e]))


U2D = U.reshape(Nn,glxn)
U3D = np.append(U2D,np.zeros(U2D.shape[0]).reshape([-1,1]),1)


MNdef = MN + U3D*1e4  # se exagera la deformación 


fig, ax = plt.subplots(figsize=(10,4))
plt.triplot(MN[:,0], MN[:,1], MC, label='orig')  # triplot = grafica triangulitos
plt.triplot(MNdef[:,0], MNdef[:,1], MC, label='def')
plt.legend()
plt.ylabel('desplazamiento en y')
plt.xlabel('desplazamiento en x')


NodeInfo[0]


desps = gmsh.view.add("Desplazamientos")
Desps = gmsh.view.addModelData(desps, 0, 'Chapa_agujero_central', 'NodeData', NodeInfo[0]+1, U3D, numComponents=3)
gmsh.option.setNumber(f'View[{desps}].VectorType',5)

F2D = F.reshape(Nn,glxn)
F3D = np.append(F2D,np.zeros(F2D.shape[0]).reshape([-1,1]),1)

fuerzas = gmsh.view.add('Fuerzas')
Fuerzas = gmsh.view.addModelData(fuerzas, 0, 'Chapa_agujero_central','NodeData',NodeInfo[0]+1, F3D, numComponents=3)
gmsh.option.setNumber(f'View[{fuerzas}].VectorType',4)
gmsh.option.setNumber(f'View[{fuerzas}].GlyphLocation',2)

sig_xytau = np.hstack(list(sig.values()))  # saco las tensiones del diccionario, quedan en filas para cada elemento las tensiones x, y, xy

sigx = gmsh.view.add('Tensiones en x')
sigy = gmsh.view.add('Tensiones en y')
sigxy = gmsh.view.add('Tensiones xy')
SIGX = gmsh.view.addModelData(sigx, 0, 'Chapa_agujero_central', 'ElementData', ETAGS, sig_xytau[0,:].reshape([-1,1]), numComponents=1) # hago reshape porque tienen que ir vectores columnas
SIGY = gmsh.view.addModelData(sigy, 0, 'Chapa_agujero_central', 'ElementData', ETAGS, sig_xytau[1,:].reshape([-1,1]), numComponents=1)

gmsh.fltk.run()



