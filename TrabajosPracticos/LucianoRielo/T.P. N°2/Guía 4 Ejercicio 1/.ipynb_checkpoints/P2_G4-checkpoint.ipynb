{
 "cells": [
  {
   "cell_type": "markdown",
   "id": "cbd25172-02ac-4129-ae3f-e50c959ad8c4",
   "metadata": {},
   "source": [
    "$$ \\LARGE \\underline{\n",
    "\\textbf{Problema 2}}\n",
    "$$"
   ]
  },
  {
   "cell_type": "markdown",
   "id": "6799f471-5ceb-43f7-8d3e-f54b3fe4ed08",
   "metadata": {},
   "source": [
    "Se tiene un rodillo cilíndrico de $12\\ mm$ de diámetro y 1 m de longitud, aislado térmicamente en su\n",
    "longitud y a una temperatura de $30°C$. Su borde derecho está en contacto con un medio que\n",
    "mantendrá esta temperatura constante. A tiempo cero, el borde izquierdo se pone en contacto con\n",
    "una fuente a $80°C$, que también permanecerá constante en el tiempo. Usando elementos finitos y\n",
    "tres nodos interiores determine la evolución temporal de la temperatura del cilindro y los flujos de\n",
    "calor en los extremos. Los parámetros del material son: conductividad térmica $k = 200 W/(m.°C)$,\n",
    "calor específico $c = 900 J/(kg.°C)$ y $densidad = 2700 kg/m3$. Tome inicialmente como intervalo temporal $t = 0.1 seg$. Analice sus resultados y generalice."
   ]
  },
  {
   "cell_type": "code",
   "execution_count": 13,
   "id": "7cf02e49-fea0-4e1a-b495-9926f49be785",
   "metadata": {},
   "outputs": [],
   "source": [
    "import numpy as np\n",
    "import matplotlib.pyplot as plt\n",
    "import MEF as mef"
   ]
  },
  {
   "cell_type": "code",
   "execution_count": 2,
   "id": "a42bae74-9be7-4608-a4e6-2f6e7982e974",
   "metadata": {},
   "outputs": [],
   "source": [
    "r = (12e-3)/2   # radio en metros\n",
    "Lt = 1\n",
    "k = 200  # W/m°C\n",
    "T_izq = 80  # °C\n",
    "T_der = 30  # °C\n",
    "c = 900  # J/kg°C\n",
    "rho = 2700  # kg/m3"
   ]
  },
  {
   "cell_type": "code",
   "execution_count": 9,
   "id": "baaeda7d-c015-4c3b-b0e6-781e9cafe539",
   "metadata": {},
   "outputs": [],
   "source": [
    "glxn = 1  # la temperatura es un escalar, y es la unica variable de cada nodo"
   ]
  },
  {
   "cell_type": "code",
   "execution_count": 3,
   "id": "8d369379-eb94-46c3-97f8-f615924072cb",
   "metadata": {},
   "outputs": [],
   "source": [
    "A = np.pi*r**2  # area del cilindro"
   ]
  },
  {
   "cell_type": "code",
   "execution_count": 4,
   "id": "e85573bf-ece8-44fd-b132-85959fae3004",
   "metadata": {},
   "outputs": [],
   "source": [
    "Ne = 4\n",
    "L = Lt/Ne"
   ]
  },
  {
   "cell_type": "code",
   "execution_count": 5,
   "id": "3bc833e5-ac90-4316-8c79-7aba5be5eb5c",
   "metadata": {},
   "outputs": [],
   "source": [
    "MN = np.linspace(0,L,Ne+1).reshape([-1,1])\n",
    "MN = np.append(MN,np.zeros([MN.shape[0],2]),1)\n",
    "MC = np.array([[i, i+1] for i in range(Ne)])\n",
    "Nn = MN.shape[0]\n",
    "Nnxe = MC.shape[1]"
   ]
  },
  {
   "cell_type": "code",
   "execution_count": 6,
   "id": "1cb143cb-0425-4c63-bcdd-5a9f92537333",
   "metadata": {},
   "outputs": [],
   "source": [
    "Ke = {}\n",
    "Ce = {}\n",
    "for e in range(Ne):\n",
    "    Ke[e] = k/L*np.array([[1,-1],[-1,1]])\n",
    "    Ce[e] = L/6*np.array([[2,1],[1,2]])"
   ]
  },
  {
   "cell_type": "code",
   "execution_count": 10,
   "id": "e7bdce15-e357-4b99-bf5f-d44bfcdfd294",
   "metadata": {},
   "outputs": [],
   "source": [
    "K = np.zeros([glxn*Nn,glxn*Nn])\n",
    "C = np.zeros([glxn*Nn,glxn*Nn])\n",
    "\n",
    "for e in range(Ne):\n",
    "    for i in range(Nnxe):\n",
    "        rangoi = np.linspace(i*glxn,(i+1)*glxn-1,glxn).astype(int)\n",
    "        rangoni = np.linspace(MC[e,i]*glxn,(MC[e, i]+1)*glxn-1,glxn).astype(int)\n",
    "        for j in range(Nnxe):\n",
    "            rangoj = np.linspace(j*glxn,(j+1)*glxn-1,glxn).astype(int)\n",
    "            rangonj = np.linspace(MC[e,j]*glxn,(MC[e, j]+1)*glxn-1,glxn).astype(int)\n",
    "            K[np.ix_(rangoni,rangonj)] += Ke[e][np.ix_(rangoi,rangoj)]\n",
    "            C[np.ix_(rangoni,rangonj)] += Ce[e][np.ix_(rangoi,rangoj)]"
   ]
  },
  {
   "cell_type": "code",
   "execution_count": 11,
   "id": "d0324f6a-d856-4458-976d-cd887c2ca84b",
   "metadata": {},
   "outputs": [
    {
     "data": {
      "text/plain": [
       "array([[ 0.5, -0.5,  0. ,  0. ,  0. ],\n",
       "       [-0.5,  1. , -0.5,  0. ,  0. ],\n",
       "       [ 0. , -0.5,  1. , -0.5,  0. ],\n",
       "       [ 0. ,  0. , -0.5,  1. , -0.5],\n",
       "       [ 0. ,  0. ,  0. , -0.5,  0.5]])"
      ]
     },
     "execution_count": 11,
     "metadata": {},
     "output_type": "execute_result"
    }
   ],
   "source": [
    "K/K.max()"
   ]
  },
  {
   "cell_type": "code",
   "execution_count": 12,
   "id": "ca993575-1a52-47c3-8982-5b5c5f343610",
   "metadata": {},
   "outputs": [
    {
     "data": {
      "text/plain": [
       "array([[0.5 , 0.25, 0.  , 0.  , 0.  ],\n",
       "       [0.25, 1.  , 0.25, 0.  , 0.  ],\n",
       "       [0.  , 0.25, 1.  , 0.25, 0.  ],\n",
       "       [0.  , 0.  , 0.25, 1.  , 0.25],\n",
       "       [0.  , 0.  , 0.  , 0.25, 0.5 ]])"
      ]
     },
     "execution_count": 12,
     "metadata": {},
     "output_type": "execute_result"
    }
   ],
   "source": [
    "C/C.max()"
   ]
  },
  {
   "cell_type": "code",
   "execution_count": 14,
   "id": "f35ff74f-5d19-43f4-adf8-97caf58ef725",
   "metadata": {},
   "outputs": [],
   "source": [
    "s = [0,Nn-1]\n",
    "r = mef.vector_complemento(s, MN, glxn)"
   ]
  },
  {
   "cell_type": "code",
   "execution_count": 27,
   "id": "c633fd72-8fa1-4448-ab24-e785e1d9d1de",
   "metadata": {},
   "outputs": [],
   "source": [
    "T0 = np.zeros(Nn)\n",
    "T0[0] = T_der\n",
    "T0[-1] = T_izq"
   ]
  },
  {
   "cell_type": "code",
   "execution_count": 29,
   "id": "3b1e1c3f-e561-46d3-849e-207cb6a0116e",
   "metadata": {},
   "outputs": [
    {
     "data": {
      "text/plain": [
       "array([30.,  0.,  0.,  0., 80.])"
      ]
     },
     "execution_count": 29,
     "metadata": {},
     "output_type": "execute_result"
    }
   ],
   "source": [
    "T0"
   ]
  },
  {
   "cell_type": "code",
   "execution_count": null,
   "id": "6b277c69-a8bd-4d00-842b-5a81f97ab308",
   "metadata": {},
   "outputs": [],
   "source": []
  }
 ],
 "metadata": {
  "kernelspec": {
   "display_name": "Python 3 (ipykernel)",
   "language": "python",
   "name": "python3"
  },
  "language_info": {
   "codemirror_mode": {
    "name": "ipython",
    "version": 3
   },
   "file_extension": ".py",
   "mimetype": "text/x-python",
   "name": "python",
   "nbconvert_exporter": "python",
   "pygments_lexer": "ipython3",
   "version": "3.9.10"
  }
 },
 "nbformat": 4,
 "nbformat_minor": 5
}
