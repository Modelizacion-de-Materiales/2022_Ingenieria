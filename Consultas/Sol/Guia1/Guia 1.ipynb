{
 "cells": [
  {
   "cell_type": "code",
   "execution_count": 1,
   "id": "7ecd1eeb",
   "metadata": {},
   "outputs": [],
   "source": [
    "import numpy as np\n",
    "import matplotlib.pyplot as plt"
   ]
  },
  {
   "cell_type": "markdown",
   "id": "5288f7b7",
   "metadata": {},
   "source": [
    "# Ejercicio 1 #\n"
   ]
  },
  {
   "cell_type": "code",
   "execution_count": 2,
   "id": "b88342a6",
   "metadata": {},
   "outputs": [],
   "source": [
    "v=[1,48,5,-3,501,56,41,36,7,-10]\n"
   ]
  },
  {
   "cell_type": "code",
   "execution_count": 3,
   "id": "c19e3bdc",
   "metadata": {},
   "outputs": [],
   "source": [
    "def burbsort(v):\n",
    "    for i in range(1,len(v)):\n",
    "        for j in range(0,len(v)-i):\n",
    "            if (v[j+1]<v[j]):\n",
    "                aux=v[j]\n",
    "                v[j]=v[j+1]\n",
    "                v[j+1]=aux\n",
    "    return v"
   ]
  },
  {
   "cell_type": "code",
   "execution_count": 4,
   "id": "599db60b",
   "metadata": {},
   "outputs": [
    {
     "data": {
      "text/plain": [
       "[-10, -3, 1, 5, 7, 36, 41, 48, 56, 501]"
      ]
     },
     "execution_count": 4,
     "metadata": {},
     "output_type": "execute_result"
    }
   ],
   "source": [
    "burbsort(v)"
   ]
  },
  {
   "cell_type": "markdown",
   "id": "670cc075",
   "metadata": {},
   "source": [
    "# Ejercicio 2"
   ]
  },
  {
   "cell_type": "code",
   "execution_count": 30,
   "id": "6156cfe2",
   "metadata": {},
   "outputs": [],
   "source": [
    "def SerieExp(x):\n",
    "    err=1\n",
    "    Suma=1 #e^0\n",
    "    i=1\n",
    "    while err>0.001:\n",
    "        Sumant=Suma\n",
    "        Suma+=(x**i/np.math.factorial(i))\n",
    "        # err=(Suma-Sumant)\n",
    "        err = np.abs((Suma-Sumant)/Sumant)\n",
    "        print(err)\n",
    "        i+=1\n",
    "        #return Suma #MDFCOMMENT el return siempre sale de la funcion,\n",
    "    return Suma # return debe ejecutar solo cuando salis del while !"
   ]
  },
  {
   "cell_type": "code",
   "execution_count": 31,
   "id": "cafa18a8",
   "metadata": {},
   "outputs": [
    {
     "name": "stdout",
     "output_type": "stream",
     "text": [
      "0.5\n",
      "0.08333333333333333\n",
      "0.012820512820512775\n",
      "0.0015822784810127033\n",
      "0.00015797788309635752\n"
     ]
    },
    {
     "data": {
      "text/plain": [
       "1.6486979166666667"
      ]
     },
     "execution_count": 31,
     "metadata": {},
     "output_type": "execute_result"
    }
   ],
   "source": [
    "SerieExp(0.5)"
   ]
  },
  {
   "cell_type": "code",
   "execution_count": 32,
   "id": "e073c8f2",
   "metadata": {},
   "outputs": [
    {
     "data": {
      "text/plain": [
       "1.6487212707001282"
      ]
     },
     "execution_count": 32,
     "metadata": {},
     "output_type": "execute_result"
    }
   ],
   "source": [
    "np.exp(0.5)"
   ]
  },
  {
   "cell_type": "markdown",
   "id": "518d06ef",
   "metadata": {},
   "source": [
    "# Ejercicio 3 #"
   ]
  },
  {
   "cell_type": "code",
   "execution_count": 33,
   "id": "1fdeb3ed",
   "metadata": {},
   "outputs": [],
   "source": [
    "g=10\n",
    "m=70\n",
    "gamma=12.5\n",
    "def VPar(t):\n",
    "    v=(g*m/gamma)*(1-np.exp(-(gamma/m)*t))\n",
    "    return v"
   ]
  },
  {
   "cell_type": "code",
   "execution_count": 34,
   "id": "72aad4c5",
   "metadata": {},
   "outputs": [
    {
     "data": {
      "image/png": "[encoded data removed]",
      "text/plain": [
       "<Figure size 432x288 with 1 Axes>"
      ]
     },
     "metadata": {
      "needs_background": "light"
     },
     "output_type": "display_data"
    }
   ],
   "source": [
    "V=[]\n",
    "T=[]\n",
    "for t in range(0,50,2):\n",
    "    T.append(t)\n",
    "    V.append(VPar(t))\n",
    "plt.plot(T,V,'ok', label=\"Velocidad\")\n",
    "plt.xlabel('t (s)')\n",
    "plt.ylabel('v (m/s)')\n",
    "plt.title('Velocidad de caída')\n",
    "plt.legend();"
   ]
  },
  {
   "cell_type": "markdown",
   "id": "3026305f",
   "metadata": {},
   "source": [
    "# Ejercicio 4 #"
   ]
  },
  {
   "cell_type": "code",
   "execution_count": 35,
   "id": "a8261dcf",
   "metadata": {},
   "outputs": [],
   "source": [
    "import numpy as np"
   ]
  },
  {
   "cell_type": "code",
   "execution_count": 36,
   "id": "399e0722",
   "metadata": {},
   "outputs": [],
   "source": [
    "A = np.array(\n",
    "    [\n",
    "        [1, -3, -2],\n",
    "        [2, -4, -3],\n",
    "        [-3, 6, 8]\n",
    "    ]\n",
    ")\n",
    "\n",
    "b= np.array([[6],[8],[-5]])"
   ]
  },
  {
   "cell_type": "code",
   "execution_count": 37,
   "id": "47640d54",
   "metadata": {},
   "outputs": [],
   "source": [
    "x=np.linalg.solve(A,b) #biblioteca numpy, subpaquete linalg y usa el modulo solve"
   ]
  },
  {
   "cell_type": "code",
   "execution_count": 38,
   "id": "be12679b",
   "metadata": {},
   "outputs": [
    {
     "name": "stdout",
     "output_type": "stream",
     "text": [
      "[[ 1.]\n",
      " [-3.]\n",
      " [ 2.]]\n"
     ]
    }
   ],
   "source": [
    "print(x)"
   ]
  },
  {
   "cell_type": "code",
   "execution_count": 39,
   "id": "eb43a918",
   "metadata": {},
   "outputs": [
    {
     "data": {
      "text/plain": [
       "array([[0.],\n",
       "       [0.],\n",
       "       [0.]])"
      ]
     },
     "execution_count": 39,
     "metadata": {},
     "output_type": "execute_result"
    }
   ],
   "source": [
    "A.dot(x)-b"
   ]
  },
  {
   "cell_type": "markdown",
   "id": "6b011806",
   "metadata": {},
   "source": [
    "# Ejercicio 5 #"
   ]
  },
  {
   "cell_type": "code",
   "execution_count": 40,
   "id": "64b79cc1",
   "metadata": {},
   "outputs": [
    {
     "name": "stdout",
     "output_type": "stream",
     "text": [
      "Z =  [0.  0.5 1.  1.5 2.  2.5 3. ]\n",
      "T =  [70. 68. 55. 22. 13. 11. 10.]\n"
     ]
    }
   ],
   "source": [
    "z,T=np.loadtxt('DATOS_Guia0_Problema6.dat', unpack=True) #unpack me lo separa en dos vectores \n",
    "print(\"Z = \", z)\n",
    "print(\"T = \", T)"
   ]
  },
  {
   "cell_type": "code",
   "execution_count": 15,
   "id": "ef02cdfd",
   "metadata": {},
   "outputs": [
    {
     "data": {
      "image/png": "[encoded data removed]",
      "text/plain": [
       "<Figure size 432x288 with 1 Axes>"
      ]
     },
     "metadata": {
      "needs_background": "light"
     },
     "output_type": "display_data"
    }
   ],
   "source": [
    "plt.plot(z,T, 'ok', label=\"Mediciones\")\n",
    "plt.xlabel('Z(m)')\n",
    "plt.ylabel('T (°C)')\n",
    "plt.title('Mediciones')\n",
    "plt.legend(); #Pone el cartelito de la serie que grafique"
   ]
  },
  {
   "cell_type": "markdown",
   "id": "42a23a63",
   "metadata": {},
   "source": [
    "Repasito Splines:  Pido un polinomio que pase por un par de punts. 1 poli para cada inervalo. saco el di (ver pdf splines). Ademas le pido que sean continuos-> sistema de ecs entre el poli del intervalo i y el del intervalo i+1. el polinomio que llega al 2do punto por ejemplo, debe tener el mismo valor que el polinomio en ese punto pero del siguiente intervalo. Deben ser continuos y dos vees derivables. Obtengo sist de ecs, pero me sobran incognitas(hallar coefs de polinomios)--> esas 2 ecuaciones que me faltan provienen de las condiciones de contorno, las elijo en temrino de las derivadas segundas en los extremos del itnervalo: pido derivada segunda nula al principio y al final de mis puntos, al hacer esto puedo definir un intervalo extra como si agregara 2 puntos mas en mis extremos pero solo me va aimportar la derivada segunda que llega al primer punto y la uqe sale del segundo punto. Esta pendiente es la que pido que sea bn=0 b1=0 (coef de la derivada segunda es el bi) Ahroa tengo la misma antidad de escuaciones que de incognitas. Escribo las ecuaciones en funcion de los coef b de los polinomios, lo reescribo de manera lineal.  "
   ]
  },
  {
   "cell_type": "code",
   "execution_count": 41,
   "id": "61a8420a",
   "metadata": {},
   "outputs": [],
   "source": [
    "h=[]\n",
    "for i in range (0,len(z)-1):\n",
    "        h.append(z[i+1]-z[i]) #append:agrego al final de la lista h el valor calculado en cada iteración.\n",
    "# truquito:\n",
    "# h = np.diff(z)"
   ]
  },
  {
   "cell_type": "code",
   "execution_count": 42,
   "id": "595bce3e",
   "metadata": {},
   "outputs": [
    {
     "name": "stdout",
     "output_type": "stream",
     "text": [
      "[0.5, 0.5, 0.5, 0.5, 0.5, 0.5]\n"
     ]
    }
   ],
   "source": [
    "print(h)"
   ]
  },
  {
   "cell_type": "code",
   "execution_count": 43,
   "id": "5a6ba034",
   "metadata": {},
   "outputs": [],
   "source": [
    "#A=np.zeros((len(z),len(z)))\n",
    "A=np.eye(len(z))\n",
    "y=np.zeros((len(z),1))"
   ]
  },
  {
   "cell_type": "code",
   "execution_count": 44,
   "id": "706b36f8",
   "metadata": {},
   "outputs": [
    {
     "name": "stdout",
     "output_type": "stream",
     "text": [
      "[[1.  0.  0.  0.  0.  0.  0. ]\n",
      " [0.5 2.  0.5 0.  0.  0.  0. ]\n",
      " [0.  0.5 2.  0.5 0.  0.  0. ]\n",
      " [0.  0.  0.5 2.  0.5 0.  0. ]\n",
      " [0.  0.  0.  0.5 2.  0.5 0. ]\n",
      " [0.  0.  0.  0.  0.5 2.  0.5]\n",
      " [0.  0.  0.  0.  0.  0.  1. ]]\n",
      "[[   0.]\n",
      " [ -66.]\n",
      " [-120.]\n",
      " [ 144.]\n",
      " [  42.]\n",
      " [   6.]\n",
      " [   0.]]\n"
     ]
    }
   ],
   "source": [
    "for i in range (1,len(z)-1):\n",
    "    A[i,i]=2*(h[i]+h[i-1])\n",
    "    A[i,i+1]=h[i]\n",
    "    A[i,i-1]=h[i-1]\n",
    "    y[i]=3*(((T[i+1]-T[i])/h[i])-((T[i]-T[i-1])/h[i-1]))\n",
    "print(A)\n",
    "print(y)\n"
   ]
  },
  {
   "cell_type": "code",
   "execution_count": 45,
   "id": "7f5006a4",
   "metadata": {},
   "outputs": [],
   "source": [
    "np.savetxt('matriz ejercicio 6',A)\n",
    "np.savetxt('vector b ej 6',y)"
   ]
  },
  {
   "cell_type": "code",
   "execution_count": 46,
   "id": "7b43923f",
   "metadata": {},
   "outputs": [
    {
     "name": "stdout",
     "output_type": "stream",
     "text": [
      "[[  0.        ]\n",
      " [-13.01538462]\n",
      " [-79.93846154]\n",
      " [ 92.76923077]\n",
      " [ -3.13846154]\n",
      " [  3.78461538]\n",
      " [ -0.        ]]\n"
     ]
    }
   ],
   "source": [
    "b=np.linalg.solve(A,y)\n",
    "print(b)"
   ]
  },
  {
   "cell_type": "code",
   "execution_count": 47,
   "id": "f2a5b918",
   "metadata": {},
   "outputs": [],
   "source": [
    "np.savetxt('solucion ejercicio 6,b', b) # por favor eviemos acentos y comas en nombres de archivos!"
   ]
  },
  {
   "cell_type": "code",
   "execution_count": 53,
   "id": "da3bcffe",
   "metadata": {},
   "outputs": [],
   "source": [
    "d=T\n",
    "a=[]\n",
    "c=[]"
   ]
  },
  {
   "cell_type": "code",
   "execution_count": 54,
   "id": "f07cac14",
   "metadata": {},
   "outputs": [
    {
     "name": "stdout",
     "output_type": "stream",
     "text": [
      "[array([-1.83076923]), array([-8.33846154]), array([-54.81538462]), array([-48.4]), array([-3.58461538]), array([-3.26153846])]\n"
     ]
    }
   ],
   "source": [
    "for i in range(0,len(z)-1):\n",
    "    a.append((1/3)*(b[i+1]-b[i])/h[i])\n",
    "    c.append(((T[i+1]-T[i])/h[i])-b[i]*h[i]-(a[i]*h[i]**2))\n",
    "print(c)\n"
   ]
  },
  {
   "cell_type": "markdown",
   "id": "b7c6c48f",
   "metadata": {},
   "source": [
    "<div style=\"background:#666600\">b es un vector columna por lo tanto b[i] es un array (el de la fila). podemos achatar c para que te quede bien:</div>"
   ]
  },
  {
   "cell_type": "code",
   "execution_count": 57,
   "id": "74e79efa",
   "metadata": {},
   "outputs": [
    {
     "data": {
      "text/plain": [
       "array([ -1.83076923,  -8.33846154, -54.81538462, -48.4       ,\n",
       "        -3.58461538,  -3.26153846])"
      ]
     },
     "execution_count": 57,
     "metadata": {},
     "output_type": "execute_result"
    }
   ],
   "source": [
    "c.ravel()"
   ]
  },
  {
   "cell_type": "markdown",
   "id": "86f3a754",
   "metadata": {},
   "source": [
    "<div style=\"background:#666600\">o llamar a b con los dos índices:</div>"
   ]
  },
  {
   "cell_type": "code",
   "execution_count": 58,
   "id": "a51bb695",
   "metadata": {},
   "outputs": [],
   "source": [
    "d=T\n",
    "a=[]\n",
    "c=[]"
   ]
  },
  {
   "cell_type": "code",
   "execution_count": 59,
   "id": "2d4d5a68",
   "metadata": {},
   "outputs": [
    {
     "name": "stdout",
     "output_type": "stream",
     "text": [
      "[-1.830769230769231, -8.338461538461537, -54.815384615384616, -48.400000000000006, -3.584615384615385, -3.261538461538461]\n"
     ]
    }
   ],
   "source": [
    "for i in range(0,len(z)-1):\n",
    "    a.append((1/3)*(b[i+1,0]-b[i,0])/h[i])\n",
    "    c.append(((T[i+1]-T[i])/h[i])-b[i,0]*h[i]-(a[i]*h[i]**2))\n",
    "print(c)\n"
   ]
  },
  {
   "cell_type": "markdown",
   "id": "360f29df",
   "metadata": {},
   "source": [
    "<div style=\"background:#666600\">fijate por favor los valores en los ejemplos en clase !</div>"
   ]
  },
  {
   "cell_type": "markdown",
   "id": "aa8d9dce",
   "metadata": {},
   "source": [
    "\n",
    "# Ejercicio 7"
   ]
  },
  {
   "cell_type": "markdown",
   "id": "8be18fdd",
   "metadata": {},
   "source": [
    "## Metodo del trapecio "
   ]
  },
  {
   "cell_type": "code",
   "execution_count": 25,
   "id": "35ee8555",
   "metadata": {},
   "outputs": [
    {
     "ename": "SyntaxError",
     "evalue": "invalid syntax (313034537.py, line 3)",
     "output_type": "error",
     "traceback": [
      "\u001b[0;36m  File \u001b[0;32m\"/tmp/ipykernel_6070/313034537.py\"\u001b[0;36m, line \u001b[0;32m3\u001b[0m\n\u001b[0;31m    z=np.linspace(0,30,paso):\u001b[0m\n\u001b[0m                            ^\u001b[0m\n\u001b[0;31mSyntaxError\u001b[0m\u001b[0;31m:\u001b[0m invalid syntax\n"
     ]
    }
   ],
   "source": [
    "paso=0.1\n",
    "Int=0\n",
    "z=np.linspace(0,30,paso):\n",
    "    #Int+=200*(z/(5+z)*np.exp(-2*z/30))\n"
   ]
  }
 ],
 "metadata": {
  "kernelspec": {
   "display_name": "Python 3 (ipykernel)",
   "language": "python",
   "name": "python3"
  },
  "language_info": {
   "codemirror_mode": {
    "name": "ipython",
    "version": 3
   },
   "file_extension": ".py",
   "mimetype": "text/x-python",
   "name": "python",
   "nbconvert_exporter": "python",
   "pygments_lexer": "ipython3",
   "version": "3.9.12"
  }
 },
 "nbformat": 4,
 "nbformat_minor": 5
}
