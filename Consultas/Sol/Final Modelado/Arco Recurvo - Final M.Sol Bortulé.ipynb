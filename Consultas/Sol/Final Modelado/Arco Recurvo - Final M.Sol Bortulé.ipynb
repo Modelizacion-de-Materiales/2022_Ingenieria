{
 "cells": [
  {
   "cell_type": "code",
   "execution_count": 1,
   "id": "a4db3b5c-1ff4-4f42-9c21-a503b9cc9790",
   "metadata": {},
   "outputs": [],
   "source": [
    "import numpy as np\n",
    "#import matplotlib.pyplot as plt\n",
    "import gmsh"
   ]
  },
  {
   "cell_type": "markdown",
   "id": "ef1385be-3a0b-4684-bab9-3c582caa5c34",
   "metadata": {},
   "source": [
    "<center><img src=\"Diseño Arco Recurvo.jpeg\"></center>"
   ]
  },
  {
   "cell_type": "code",
   "execution_count": 2,
   "id": "e63e6576-0cd2-417a-b862-40de099d243a",
   "metadata": {},
   "outputs": [],
   "source": [
    "gmsh.initialize()"
   ]
  },
  {
   "cell_type": "code",
   "execution_count": 3,
   "id": "1141c5c6-4930-489d-9e86-66dbc74b868d",
   "metadata": {},
   "outputs": [],
   "source": [
    "gmsh.model.add('Medio Arco Recurvo')"
   ]
  },
  {
   "cell_type": "code",
   "execution_count": 4,
   "id": "bfe48f44-528f-4104-9fcc-d5cb0b21d740",
   "metadata": {},
   "outputs": [],
   "source": [
    "lc = 1\n",
    "E = 32e6 #Pa???????\n",
    "#Defino los puntos iniciales del modelo\n",
    "# p1 = gmsh.model.geo.addPoint(0, 0, 0, lc) \n",
    "p2 = gmsh.model.geo.addPoint(16, 0, 0, lc) \n",
    "p3 = gmsh.model.geo.addPoint(14, 10, 0, lc) \n",
    "p4 = gmsh.model.geo.addPoint(0, 78, 0, lc) \n",
    "p5 = gmsh.model.geo.addPoint(0, 80, 0, lc)\n",
    "p6 = gmsh.model.geo.addPoint(2, 80, 0, lc)\n",
    "p7 = gmsh.model.geo.addPoint(2, 78, 0, lc) \n",
    "p8 = gmsh.model.geo.addPoint(16, 10, 0, lc)\n",
    "p9 = gmsh.model.geo.addPoint(18, 0, 0, lc) # optimizar estos puntos para optimizar \n",
    "p10 = gmsh.model.geo.addPoint(17, 5, 0, lc)\n",
    "p11 = gmsh.model.geo.addPoint(19, 5, 0, lc)\n",
    "#Defino las curvas que conformarán el contorno:\n",
    "l1 = gmsh.model.geo.add_spline([p2,p10,p3])\n",
    "l2 = gmsh.model.geo.addLine(p3, p4)\n",
    "l3 = gmsh.model.geo.addLine(p4, p5)\n",
    "l4 = gmsh.model.geo.addLine(p5, p6)\n",
    "l5 = gmsh.model.geo.addLine(p6, p7)\n",
    "l6 = gmsh.model.geo.addLine(p7, p8)\n",
    "l7 = gmsh.model.geo.add_spline([p9,p11,p8])\n",
    "l8 = gmsh.model.geo.addLine(p9, p2)\n",
    "l9 = gmsh.model.geo.addLine(p3, p8)\n",
    "l10 = gmsh.model.geo.addLine(p3, p8)\n",
    "l11 = gmsh.model.geo.addLine(p4, p7) \n",
    "#Defino los contornos:\n",
    "C_Traccionado= gmsh.model.geo.addCurveLoop([l3,l4,l5,l11],reorient=True)\n",
    "C_Pala= gmsh.model.geo.addCurveLoop([l2,l11,l6,l10],reorient=True)\n",
    "C_Grap= gmsh.model.geo.addCurveLoop([l1,l9,l7,l8],reorient=True)\n",
    "#Defino las superficies:\n",
    "S_Traccionado = gmsh.model.geo.addPlaneSurface([C_Traccionado])\n",
    "S_Pala = gmsh.model.geo.addPlaneSurface([C_Pala])\n",
    "S_Grap = gmsh.model.geo.addPlaneSurface([C_Grap])\n",
    "gmsh.model.geo.synchronize()\n",
    "#Extrudo el Volumen,para eso debo definir el PG y la Entitie de la superficie:\n",
    "#gmsh.fltk.run()\n",
    "V_Traccionado = gmsh.model.geo.extrude([(2,S_Traccionado)],0,0,3)\n",
    "V_Pala = gmsh.model.geo.extrude([(2,S_Pala)],0,0,3)\n",
    "V_Grap = gmsh.model.geo.extrude([(2,S_Grap)],0,0,3)\n",
    "gmsh.model.geo.removeAllDuplicates()\n",
    "gmsh.model.geo.synchronize()\n",
    "gmsh.option.setNumber(\"Mesh.MeshSizeMin\", 1.2)\n",
    "gmsh.model.mesh.generate(dim=3)\n",
    "gmsh.fltk.run()"
   ]
  },
  {
   "cell_type": "code",
   "execution_count": 5,
   "id": "8d290d57-8560-4efe-9aa8-801f39b58275",
   "metadata": {},
   "outputs": [],
   "source": [
    "NodeInfo = gmsh.model.mesh.get_nodes() #saco un objeto con todos los nodos. array uno etiquetas que asigna a los nodos, empieza con 1 y no con 0.\n",
    "NN = NodeInfo[0].shape[0] #numero de nodos es la cantidad de elementos uqe tengo en el primer array\n",
    "NN_Tags = NodeInfo[0]-1 #Los Tags de los nodos los pongo en numeración python.\n",
    "MN = NodeInfo[1].reshape(NN,3)\n",
    "GLXN=3\n",
    "E_Tags, MC_Flatten = gmsh.model.mesh.get_elements_by_type(4) #dame los tags (numero de elementos) del tipo 4 (tetrahedros) la MC flatten.\n",
    "NNXE=4\n",
    "NE=E_Tags.shape[0]\n",
    "MC=MC_Flatten.reshape(NE,4)\n",
    "MC=MC-np.ones(MC.shape)#Lo dejo en numeración python"
   ]
  },
  {
   "cell_type": "code",
   "execution_count": 6,
   "id": "618525ea-0474-42d9-b69e-f9d86eb5460b",
   "metadata": {},
   "outputs": [],
   "source": [
    "#Busco los tags de la superficie traccionada y del volumen del grap para armar las s.\n",
    "Tag_S_Traccionada = [20] #la busque en el gmsh\n",
    "Tag_V_Grap = [tag[1] for tag in V_Grap if tag[0]==3]\n",
    "#Armo los Physical Groups\n",
    "Traccionado_PG = gmsh.model.addPhysicalGroup(2, Tag_S_Traccionada) #Tracciono la superficie interna, donde estaría sujetada la cuerda.\n",
    "Grap_PG = gmsh.model.addPhysicalGroup(3, Tag_V_Grap)"
   ]
  },
  {
   "cell_type": "code",
   "execution_count": 7,
   "id": "6426420a-0e01-4cc3-b5ab-ee4d433f82fb",
   "metadata": {},
   "outputs": [],
   "source": [
    "#Busco los tags del Grap, armo el s y el Us. El grap no se puede mover en ninguna de las 3 direcciones\n",
    "Tags_Nodos_Grap, CoordFlatten_Nodos_Grap = gmsh.model.mesh.getNodesForPhysicalGroup(3, Grap_PG)\n",
    "s=np.array([Tags_Nodos_Grap*GLXN,Tags_Nodos_Grap*GLXN+1,Tags_Nodos_Grap*GLXN+2]).flatten()\n",
    "Us=np.zeros_like(s)\n",
    "Tags_Nodos_Traccionados, CoordFlatten_Nodos_Traccionados = gmsh.model.mesh.getNodesForPhysicalGroup(2, Traccionado_PG)\n",
    "r=np.array([Tags_Nodos_Traccionados*GLXN+1,Tags_Nodos_Traccionados*GLXN+2])#No estoy segura. "
   ]
  },
  {
   "cell_type": "code",
   "execution_count": 8,
   "id": "78269f47-0bb4-4db5-a51f-043bf4724331",
   "metadata": {},
   "outputs": [],
   "source": [
    "#poner esquema arco, mostrando angulo, para mi apertura, mi arco es de 30 lbs tensado bla bla bla explicar porque elijo."
   ]
  },
  {
   "cell_type": "code",
   "execution_count": 9,
   "id": "1314fcf7-f2e2-46df-aa8d-bba2fcb1fc97",
   "metadata": {},
   "outputs": [
    {
     "data": {
      "text/plain": [
       "array([[ 0.        , 78.        ,  0.        ],\n",
       "       [ 0.        , 80.        ,  0.        ],\n",
       "       [ 0.        , 78.        ,  3.        ],\n",
       "       [ 0.        , 80.        ,  3.        ],\n",
       "       [ 0.        , 79.        ,  0.        ],\n",
       "       [ 0.        , 79.        ,  3.        ],\n",
       "       [ 0.        , 78.        ,  1.        ],\n",
       "       [ 0.        , 78.        ,  2.        ],\n",
       "       [ 0.        , 80.        ,  1.        ],\n",
       "       [ 0.        , 80.        ,  2.        ],\n",
       "       [ 0.        , 78.90844789,  1.5       ],\n",
       "       [ 0.        , 79.23969458,  2.28666398],\n",
       "       [ 0.        , 79.23969458,  0.71333602],\n",
       "       [ 0.        , 78.60774666,  2.36812459],\n",
       "       [ 0.        , 78.60774665,  0.63187541]])"
      ]
     },
     "execution_count": 9,
     "metadata": {},
     "output_type": "execute_result"
    }
   ],
   "source": [
    "CoordFlatten_Nodos_Traccionados.reshape(len(Tags_Nodos_Traccionados),3)"
   ]
  },
  {
   "cell_type": "code",
   "execution_count": 10,
   "id": "9e395978-6861-4262-aa40-08ea7bd7801c",
   "metadata": {},
   "outputs": [
    {
     "data": {
      "text/plain": [
       "array([  3,   4,  11,  12,  87, 159, 163, 164, 165, 166, 385, 386, 387,\n",
       "       388, 389], dtype=uint64)"
      ]
     },
     "execution_count": 10,
     "metadata": {},
     "output_type": "execute_result"
    }
   ],
   "source": [
    "Tags_Nodos_Traccionados"
   ]
  },
  {
   "cell_type": "code",
   "execution_count": null,
   "id": "030274a5-70b8-44c9-a98c-9021f14c5db1",
   "metadata": {},
   "outputs": [],
   "source": []
  }
 ],
 "metadata": {
  "kernelspec": {
   "display_name": "Python 3 (ipykernel)",
   "language": "python",
   "name": "python3"
  },
  "language_info": {
   "codemirror_mode": {
    "name": "ipython",
    "version": 3
   },
   "file_extension": ".py",
   "mimetype": "text/x-python",
   "name": "python",
   "nbconvert_exporter": "python",
   "pygments_lexer": "ipython3",
   "version": "3.9.10"
  }
 },
 "nbformat": 4,
 "nbformat_minor": 5
}
