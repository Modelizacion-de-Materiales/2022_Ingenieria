{
 "cells": [
  {
   "cell_type": "code",
   "execution_count": 1,
   "id": "6c10da39-8a8b-4d64-8b8c-cb8571f2153d",
   "metadata": {},
   "outputs": [],
   "source": [
    "import numpy as np   # Importo paquete de álgebra lineal\n",
    "import matplotlib.pyplot as plt   # Importo paquete de gráficos\n",
    "import copy\n",
    "import mef\n",
    "plt.rc('figure', figsize=(15,8))   # Para gráficos\n",
    "plt.rc('font',size=22)             # Para gráficos"
   ]
  },
  {
   "cell_type": "markdown",
   "id": "a0331397-9250-4107-8aac-ff9a6131a666",
   "metadata": {},
   "source": [
    "## Punto 1"
   ]
  },
  {
   "cell_type": "markdown",
   "id": "d89c7c68-cfea-4bb6-8729-e95f0eae52ff",
   "metadata": {},
   "source": [
    "Determine los **desplazamientos** de los bordes libres y los **esfuerzos** en función de la posición para la placa empotrada mostrada en la figura. Tome las dos particiones en elementos mostradas debajo [$a)$ y $b)$] y compare los resultados. Asuma que $E = 30 x 10^{6}\\: psi$ y $\\nu = 0,30$.\n",
    "\n",
    "<center><img src=\"ImgProb01.png\"></center>"
   ]
  },
  {
   "cell_type": "code",
   "execution_count": 2,
   "id": "5b5c3c12-6a3f-4c5c-8391-f8328594112b",
   "metadata": {},
   "outputs": [],
   "source": [
    "# Defino los grados de libertad por nodo \"glxn\".\n",
    "glxn = 2"
   ]
  },
  {
   "cell_type": "code",
   "execution_count": 3,
   "id": "261028d1-d63c-4db2-ba34-a43093316b01",
   "metadata": {},
   "outputs": [],
   "source": [
    "# Defino el módulo de elasticidad \"E\" de la viga.\n",
    "E = 30e6   # psi=lb/in^2\n",
    "\n",
    "# Defino módulo de Poisson \"nu\".\n",
    "nu = 0.3\n",
    "\n",
    "# Defino la longitud \"L\" .\n",
    "L = 20   # in\n",
    "\n",
    "# Defino la altura \"h\" .\n",
    "h = 10   # in\n",
    "\n",
    "# Defino espesor \"t\"\n",
    "t = 1\n",
    "\n",
    "# Defino el valor de la carga distribuida \"T\".\n",
    "T = 1000   # psi=lb/in^2"
   ]
  },
  {
   "cell_type": "code",
   "execution_count": 4,
   "id": "bc27be6c-6228-455a-b22b-117078336248",
   "metadata": {},
   "outputs": [],
   "source": [
    "# Matriz \"D\" que relaciona tensores tensión-deformación, para problema de tensiones planas.\n",
    "D = (E/(1-(nu**2)))*np.array([[1,nu,0],\n",
    "                              [nu,1,0],\n",
    "                              [0,0,0.5*(1-nu)]])"
   ]
  },
  {
   "cell_type": "code",
   "execution_count": 5,
   "id": "74033286-182f-41d6-b31d-469263269a2a",
   "metadata": {},
   "outputs": [],
   "source": [
    "# Defino la matriz de nodos \"MN\".\n",
    "# - Columna 1 es la coordenada \"x\" del nodo.\n",
    "# - Columna 2 es la coordenada \"y\" del nodo.\n",
    "# - Columna 3 es la coordenada \"z\" del nodo.\n",
    "MN = np.array([[0,0,0],\n",
    "               [0,h,0],\n",
    "               [L,h,0],\n",
    "               [L,0,0]])\n",
    "\n",
    "# Su número de filas es el número de NODOS \"Nn\".\n",
    "Nn = MN.shape[0]"
   ]
  },
  {
   "cell_type": "code",
   "execution_count": 6,
   "id": "cda8c222-16db-4745-809d-1447accdb0a3",
   "metadata": {},
   "outputs": [],
   "source": [
    "# Defino la matriz de conectividad \"MC\".\n",
    "# Informa qué nodos componen a cada elemento.\n",
    "MC= np.array([[0,2,1],\n",
    "              [0,3,2]])\n",
    "\n",
    "# Su número de filas es el número de ELEMENTOS \"Ne\".\n",
    "# Su número de columnas es el número NODOS POR ELEMENTO \"Nnxe\".\n",
    "Ne, Nnxe = MC.shape"
   ]
  },
  {
   "cell_type": "code",
   "execution_count": 7,
   "id": "57b359d0-2fbf-4ae0-8168-6d40955375ef",
   "metadata": {},
   "outputs": [],
   "source": [
    "# Defino vector \"A\" que almacena área de cada elemento.\n",
    "A = np.zeros(Ne)\n",
    "\n",
    "# Defino \"alpha\", \"beta\" y \"gamma\" para cada elemento.\n",
    "alpha = np.zeros([3,Ne])\n",
    "beta = np.zeros([3,Ne])\n",
    "gamma = np.zeros([3,Ne])\n",
    "\n",
    "# Defino diccionario en el que se almacenará, para cada elemento, la matriz \"B\" que relaciona deformación-desplazamiento.\n",
    "B = {}\n",
    "\n",
    "# Defino diccionario en el que se almacenará, para cada elemento, la matriz elemental \"Ke\".\n",
    "Ke = {}\n",
    "\n",
    "# Calculo las áreas orientadas, GENERALIZADO, usando producto vectorial.\n",
    "for e in range(Ne):\n",
    "    nodos = MC[e,:] # Guarda los nodos del elemento \"e\".\n",
    "    alpha[0,e] = MN[nodos[1],0]*MN[nodos[2],1] - MN[nodos[2],0]*MN[nodos[1],1]\n",
    "    alpha[1,e] = MN[nodos[0],0]*MN[nodos[2],1] - MN[nodos[2],0]*MN[nodos[0],1]\n",
    "    alpha[2,e] = MN[nodos[0],0]*MN[nodos[1],1] - MN[nodos[1],0]*MN[nodos[0],1]\n",
    "    beta[0,e] = MN[nodos[1],1]-MN[nodos[2],1]  # \"1\" es Y\n",
    "    beta[1,e] = MN[nodos[2],1]-MN[nodos[0],1]\n",
    "    beta[2,e] = MN[nodos[0],1]-MN[nodos[1],1]\n",
    "    gamma[0,e] = MN[nodos[2],0]-MN[nodos[1],0]  # \"0\" es X\n",
    "    gamma[1,e] = MN[nodos[0],0]-MN[nodos[2],0]\n",
    "    gamma[2,e] = MN[nodos[1],0]-MN[nodos[0],0]\n",
    "    A[e] = (alpha[0,e] - alpha[1,e] + alpha[2,e])/2\n",
    "    B[e] = (1/(2*A[e]))*np.array([[beta[0,e],0,beta[1,e],0,beta[2,e],0],\n",
    "                            [0,gamma[0,e],0,gamma[1,e],0,gamma[2,e]],\n",
    "                            [gamma[0,e],beta[0,e],gamma[1,e],beta[1,e],gamma[2,e],beta[2,e]]])\n",
    "    Ke[e] = t*np.abs(A[e])*np.transpose(B[e]).dot(D.dot(B[e]))"
   ]
  },
  {
   "cell_type": "raw",
   "id": "7d3fc219-d8d7-48b6-a9db-26c405e98f31",
   "metadata": {},
   "source": [
    "# Para chequear con la teórica\n",
    "Ke[0]*(0.91/75000)"
   ]
  },
  {
   "cell_type": "raw",
   "id": "3f1ee933-cc03-470c-a90b-056c89c54474",
   "metadata": {},
   "source": [
    "# Para chequear con la teórica\n",
    "Ke[1]*(0.91/75000)"
   ]
  },
  {
   "cell_type": "code",
   "execution_count": 8,
   "id": "b178d894-5cc0-4cda-ac49-c412acac7de9",
   "metadata": {},
   "outputs": [],
   "source": [
    "# Defino matriz global \"Kg\".\n",
    "Kg = np.zeros([glxn*Nn, glxn*Nn])\n",
    "\n",
    "# Ensamblo las matrices elementales \"Ke\" para obtener la matriz global \"Kg\".\n",
    "for e in range(Ne): \n",
    "    for i in range(Nnxe):\n",
    "        rangoi = np.linspace(i*glxn, (i+1)*glxn-1, Nnxe).astype(int)\n",
    "        rangoni = np.linspace(MC[e, i]*glxn, (MC[e, i]+1)*glxn-1, Nnxe).astype(int)\n",
    "        for j in range(Nnxe):\n",
    "            rangoj = np.linspace(j*glxn, (j+1)*glxn-1, Nnxe).astype(int)\n",
    "            rangonj = np.linspace(MC[e, j]*glxn, (MC[e, j]+1)*glxn-1, Nnxe).astype(int)\n",
    "            Kg[np.ix_(rangoni, rangonj)] += Ke[e][np.ix_(rangoi, rangoj)]"
   ]
  },
  {
   "cell_type": "raw",
   "id": "4c135bd9-be8c-47f8-8698-1ddd1b75ef35",
   "metadata": {},
   "source": [
    "# Matriz global. Multiplico por \"0.91/375000\" para chequear con la teórica.\n",
    "Kg*(0.91/375000)"
   ]
  },
  {
   "cell_type": "markdown",
   "id": "a5370035-93be-48af-989d-0266d101cd28",
   "metadata": {},
   "source": [
    "**Generalización de vector $s$ con condiciones de vínculo en desplazamiento:** Debo barrer los nodos (uso FOR) y preguntar cuáles se encuentran en el extremo empotrado, es decir, cuáles tienen asignada posición $x = 0$. Al haber $glxn = 2$, por cada nodo empotrado se agregarán dos componentes al vector $s$."
   ]
  },
  {
   "cell_type": "code",
   "execution_count": 9,
   "id": "0df013f5-5188-4baa-abbe-fb228bc6953e",
   "metadata": {},
   "outputs": [],
   "source": [
    "# Generalizo obtención de vector \"s\", y condiciones de vínculo \"Us\".\n",
    "def empotrado(MN,glxn):\n",
    "    Nn = MN.shape[0]   # Número de NODOS.\n",
    "    s = []   # Guarda coordenadas X,Y de los nodos empotrados. No Z.  \n",
    "    for n in range (Nn):\n",
    "        if MN[n,0] == 0:\n",
    "            s.append(glxn*n) # Guardo coordenada X.\n",
    "            s.append(glxn*n + 1) # Guardo coordenada Y.\n",
    "    Us = np.zeros_like(s).reshape([-1,1]) # Vector NULO con condiciones de vínculo en desplazamientos.\n",
    "    return s, Us"
   ]
  },
  {
   "cell_type": "code",
   "execution_count": 10,
   "id": "0dd71d1a-d9d8-423b-b47b-ef4cf744b17d",
   "metadata": {},
   "outputs": [],
   "source": [
    "# Obtengo vector \"s\" que contiene los nodos con condiciones de vínculo en desplazamiento.\n",
    "# Obtengo vector \"Us\" con los valores de las condiciones de vínculo.\n",
    "s, Us = empotrado(MN,glxn)\n",
    "\n",
    "# Defino vector \"r\" que contiene los nodos con condiciones de vínculo en fuerza. Es el complemento de \"s\".\n",
    "r = np.array([i for i in range(Nn*glxn) if i not in s])"
   ]
  },
  {
   "cell_type": "markdown",
   "id": "be3bd247-bc34-47c6-bbb9-1df96339d73d",
   "metadata": {},
   "source": [
    "**Generalización de vector $f$ con fuerzas aplicadas sobre los nodos:** Según la cantidad de nodos del sistema, habrán algunos en el extremo traccionado y otro no. Aquellos que no, tendrán una fuerza aplicada NULA. Aquellos que sí, tendrán aplicada una fuerza que resultará de distribuir la carga distribuida $T$ sobre todos ellos.\n",
    "\n",
    "Debo barrer los elementos (uso FOR) y preguntar cuáles poseen dos (de sus tres) nodos en el extremo traccionado. Luego debo calcular la distancia $dist$ entre aquellos nodos (en el eje Y), y sabiendo la carga distribuida $T$ y el espesor de chapa $t$ calculo la fuerza $T.t.dist/2$ que se distribuye sobre aquellos dos nodos."
   ]
  },
  {
   "cell_type": "code",
   "execution_count": 11,
   "id": "795479d5-7f01-4820-b5f5-3085d98692bc",
   "metadata": {},
   "outputs": [],
   "source": [
    "def traccionados(MC, MN, glxn,L,T,t):\n",
    "    Ne, Nnxe = MC.shape   # Número de ELEMENTOS y número de NODOS POR ELEMENTO.\n",
    "    Nn = MN.shape[0]      # Número de NODOS.\n",
    "    # Defino vector \"f\" que almacenará, para aquellos elementos que posean 2 nodos en el extremo traccionado (x=L), las\n",
    "    # fuerzas distribuidas entre aquellos 2 nodos. \n",
    "    f = np.zeros(glxn*Nn)   # Tracción es sólo en X. Las componentes Y son NULAS.\n",
    "    for e in range(Ne):\n",
    "        nodo1= MC[e,0]\n",
    "        nodo2= MC[e,1]\n",
    "        nodo3= MC[e,2]\n",
    "        if MN[nodo1,0] == L:\n",
    "            # El elemento \"e\" ya posee un nodo en el extremo empotrado.\n",
    "            if MN[nodo2,0] == L:\n",
    "                # El elemento \"e\" posee DOS nodos en el extremo empotrado.\n",
    "                dist = np.abs(MN[nodo2,1] - MN[nodo1,1])  # Distancia entre nodos, en el eje Y.\n",
    "                f[nodo1*glxn] = T*t*dist/2\n",
    "                f[nodo2*glxn] = T*t*dist/2\n",
    "            elif MN[nodo3,0] == L:\n",
    "                # El elemento \"e\" posee DOS nodos en el extremo empotrado.\n",
    "                dist = np.abs(MN[nodo3,1] - MN[nodo1,1])  # Distancia entre nodos, en el eje Y.\n",
    "                f[nodo1*glxn] = T*t*dist/2\n",
    "                f[nodo3*glxn] = T*t*dist/2\n",
    "        elif MN[nodo2,0] == L:\n",
    "            # El elemento \"e\" ya posee un nodo en el extremo empotrado.\n",
    "            if MN[nodo3,0] == L:\n",
    "                # El elemento \"e\" posee DOS nodos en el extremo empotrado.\n",
    "                dist= np.abs(MN[nodo3,1] - MN[nodo2,1])  # Distancia entre nodos, en el eje Y.\n",
    "                f[nodo2*glxn]= T*t*dist/2\n",
    "                f[nodo3*glxn]= T*t*dist/2\n",
    "    return f"
   ]
  },
  {
   "cell_type": "code",
   "execution_count": 12,
   "id": "35abd727-8c19-489b-af2e-29a38d72b294",
   "metadata": {},
   "outputs": [],
   "source": [
    "# Obtengo vector \"f\" de tamaño \"glxn*Nn\", que almacena las fuerzas aplicadas sobre los nodos luego de distribuir la \n",
    "# carga distribuida \"T\" entre ellos.\n",
    "# - En posiciones pares almacena fuerzas en Y. Serán NULAS, ya que no se tracciona en esa dirección.\n",
    "# - En posiciones impares almacena fuerzas en X. No serán nulas, salvo que se trate de un nodo no traccionado.\n",
    "f = traccionados(MC, MN, glxn,L,T,t)\n",
    "\n",
    "# Defino vector \"Fr\" con los valores de las condiciones de vínculo.\n",
    "Fr = np.array([[f[i]] for i in r])"
   ]
  },
  {
   "cell_type": "code",
   "execution_count": 13,
   "id": "04d45ebc-549c-40a1-ac0f-d2ec6075e23f",
   "metadata": {},
   "outputs": [],
   "source": [
    "# Llamo al paquete \"mef\", que contiene la función \"solve\" que calcula los vectores de fuerzas y torques \"F\", y de \n",
    "# desplazamientos y rotaciones \"U\", empleando MEF. \n",
    "F, U = mef.solve(Kg, r, Fr, s, Us)"
   ]
  },
  {
   "cell_type": "code",
   "execution_count": 14,
   "id": "c0e41af4-5f6d-4497-817f-e5df1be6d3cd",
   "metadata": {},
   "outputs": [
    {
     "name": "stdout",
     "output_type": "stream",
     "text": [
      "Las FUERZAS (en lb) son:\n",
      "[[-5000.        ]\n",
      " [-3002.40192154]\n",
      " [-5000.        ]\n",
      " [ 3002.40192154]\n",
      " [ 5000.        ]\n",
      " [    0.        ]\n",
      " [ 5000.        ]\n",
      " [    0.        ]]\n",
      "Los DESPLAZAMIENTOS (en in) son:\n",
      "[[0.00000000e+00]\n",
      " [0.00000000e+00]\n",
      " [0.00000000e+00]\n",
      " [0.00000000e+00]\n",
      " [6.09580998e-04]\n",
      " [4.16333066e-06]\n",
      " [6.63704297e-04]\n",
      " [1.04083267e-04]]\n"
     ]
    }
   ],
   "source": [
    "print('Las FUERZAS (en lb) son:')\n",
    "print(F)\n",
    "print('Los DESPLAZAMIENTOS (en in) son:')\n",
    "print(U)"
   ]
  },
  {
   "cell_type": "code",
   "execution_count": 15,
   "id": "87994e83-86b7-4d5e-a25a-2533424d7d34",
   "metadata": {},
   "outputs": [],
   "source": [
    "# Cálculo de tensiones.\n",
    "desp_xy = U.reshape(Nn,2)\n",
    "desp_xyz = np.hstack([desp_xy,np.zeros([Nn,1])])"
   ]
  },
  {
   "cell_type": "code",
   "execution_count": 16,
   "id": "0727ea73-558a-4d97-80c1-bd907f4b7971",
   "metadata": {},
   "outputs": [],
   "source": [
    "# Calculo las posiciones finales de los nodos, matriz \"MN_final\".\n",
    "MN_final = MN + desp_xyz"
   ]
  },
  {
   "cell_type": "code",
   "execution_count": 17,
   "id": "c8f88eb2-35ee-4070-9856-71ff7f04a890",
   "metadata": {},
   "outputs": [],
   "source": [
    "# Almacena desplazamientos de cada elemento.\n",
    "desp_elem = {}\n",
    "tensión = {}\n",
    "for e in range(Ne):\n",
    "    desp_elem[e] = desp_xyz[MC[e],:2].ravel().reshape(-1,1)   # \"2\" así no me toma Z\n",
    "    tensión[e] = D.dot(B[e].dot(desp_elem[e])) "
   ]
  },
  {
   "cell_type": "code",
   "execution_count": 18,
   "id": "b86c8a04-15c0-4fe9-99ea-d87acd229cf0",
   "metadata": {},
   "outputs": [
    {
     "name": "stdout",
     "output_type": "stream",
     "text": [
      "La TENSIÓN (en psi) en cada elemento es:\n"
     ]
    }
   ],
   "source": [
    "print('La TENSIÓN (en psi) en cada elemento es:')"
   ]
  },
  {
   "cell_type": "code",
   "execution_count": 19,
   "id": "0c397f5f-2b93-4e55-9ee6-87bd0a9d52af",
   "metadata": {},
   "outputs": [
    {
     "data": {
      "text/plain": [
       "{0: array([[1004.80384307],\n",
       "        [ 301.44115292],\n",
       "        [   2.40192154]]),\n",
       " 1: array([[995.19615693],\n",
       "        [ -1.20096077],\n",
       "        [ -2.40192154]])}"
      ]
     },
     "execution_count": 19,
     "metadata": {},
     "output_type": "execute_result"
    }
   ],
   "source": [
    "tensión"
   ]
  },
  {
   "cell_type": "markdown",
   "id": "8ea39faf-4ebc-4057-8e18-c2fdcf9e1f1d",
   "metadata": {},
   "source": [
    "## Gráfico del ANTES y DESPUÉS de la chapa"
   ]
  },
  {
   "cell_type": "markdown",
   "id": "b4fae7eb-6677-4fb8-b686-c4a372f1f0f6",
   "metadata": {},
   "source": [
    "No se nota la diferencia porque debería hacer como Lucho, que al definir \"MN_final\" sumó \"1e4*desp_xyz\" en vez de sólo \"desp_xyz\", así se nota más la diferencia entre antes y después."
   ]
  },
  {
   "cell_type": "code",
   "execution_count": 20,
   "id": "270e81d9-f976-4724-be29-982806e45b6d",
   "metadata": {},
   "outputs": [
    {
     "data": {
      "text/plain": [
       "Text(0.5, 0, 'y (in)')"
      ]
     },
     "execution_count": 20,
     "metadata": {},
     "output_type": "execute_result"
    },
    {
     "data": {
      "image/png": "[encoded data removed]",
      "text/plain": [
       "<Figure size 1080x576 with 1 Axes>"
      ]
     },
     "metadata": {
      "needs_background": "light"
     },
     "output_type": "display_data"
    }
   ],
   "source": [
    "fig, ax = plt.subplots(figsize=(15,8))\n",
    "plt.triplot(MN[:,0], MN[:,1], MC, label='Antes')\n",
    "plt.triplot(MN_final[:,0], MN_final[:,1], MC, label='Después')\n",
    "plt.legend()\n",
    "plt.ylabel('x (in)')\n",
    "plt.xlabel('y (in)')"
   ]
  },
  {
   "cell_type": "markdown",
   "id": "c64ea342-df2b-42e3-a95d-f54a088bb743",
   "metadata": {},
   "source": [
    "## Gráfico de FUERZAS en los nodos"
   ]
  },
  {
   "cell_type": "code",
   "execution_count": 21,
   "id": "5edec9e5-9237-4d36-9371-ed8fb2a01ff2",
   "metadata": {},
   "outputs": [
    {
     "data": {
      "text/plain": [
       "Text(0, 0.5, 'y (in)')"
      ]
     },
     "execution_count": 21,
     "metadata": {},
     "output_type": "execute_result"
    },
    {
     "data": {
      "image/png": "[encoded data removed]",
      "text/plain": [
       "<Figure size 1080x576 with 1 Axes>"
      ]
     },
     "metadata": {
      "needs_background": "light"
     },
     "output_type": "display_data"
    }
   ],
   "source": [
    "# Separo componentes de fuerza en X y en Y.\n",
    "Fx = F[2*np.arange(Nn)]\n",
    "Fy = F[2*np.arange(Nn)+1]\n",
    "\n",
    "fig = plt.figure()\n",
    "ax = fig.add_axes([0.1, 0.2, 0.5, 0.6])\n",
    "ax.triplot(MN[:,0],MN[:,1],MC-MC.min(), )\n",
    "ax.quiver( MN[:,0], MN[:,1], Fx, Fy, linewidth=5, units='width', scale=1e5)   # Flechas\n",
    "ax.set_xlim(-1, 1.2*L+(Fx/1e3).max())\n",
    "ax.set_xlabel('x (in)')\n",
    "ax.set_ylabel('y (in)')"
   ]
  },
  {
   "cell_type": "markdown",
   "id": "bd8036a7-838f-4168-947b-3a378b2414a2",
   "metadata": {},
   "source": [
    "## Gráfico de DESPLAZAMIENTOS en los nodos"
   ]
  },
  {
   "cell_type": "code",
   "execution_count": 22,
   "id": "c743e466-a43f-4a01-854e-c2a5ae29a4ba",
   "metadata": {},
   "outputs": [
    {
     "data": {
      "text/plain": [
       "Text(0, 0.5, 'y (in)')"
      ]
     },
     "execution_count": 22,
     "metadata": {},
     "output_type": "execute_result"
    },
    {
     "data": {
      "image/png": "[encoded data removed]",
      "text/plain": [
       "<Figure size 1080x576 with 1 Axes>"
      ]
     },
     "metadata": {
      "needs_background": "light"
     },
     "output_type": "display_data"
    }
   ],
   "source": [
    "# Separo componentes de desplazamiento en X y en Y.\n",
    "Ux = U[2*np.arange(Nn)]\n",
    "Uy = U[2*np.arange(Nn)+1]\n",
    "\n",
    "fig = plt.figure()\n",
    "ax = fig.add_axes([0.1, 0.2, 0.5, 0.6])\n",
    "ax.triplot(MN[:,0],MN[:,1],MC-MC.min(), )\n",
    "ax.quiver( MN[:,0], MN[:,1], Ux*1e7, Uy*1e7, linewidth=5, units='width', scale=1e5)   # Flechas\n",
    "ax.set_xlim(-1, 1.2*L+(Ux/1e3).max())\n",
    "ax.set_xlabel('x (in)')\n",
    "ax.set_ylabel('y (in)')"
   ]
  },
  {
   "cell_type": "markdown",
   "id": "d370fdf2-335f-442c-b4d7-cb12351cd717",
   "metadata": {},
   "source": [
    "Notar la asimetría en desplazamientos. Se debe al tipo de mallado utilizado."
   ]
  }
 ],
 "metadata": {
  "kernelspec": {
   "display_name": "Python 3 (ipykernel)",
   "language": "python",
   "name": "python3"
  },
  "language_info": {
   "codemirror_mode": {
    "name": "ipython",
    "version": 3
   },
   "file_extension": ".py",
   "mimetype": "text/x-python",
   "name": "python",
   "nbconvert_exporter": "python",
   "pygments_lexer": "ipython3",
   "version": "3.9.10"
  }
 },
 "nbformat": 4,
 "nbformat_minor": 5
}
