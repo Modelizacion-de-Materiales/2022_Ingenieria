{
 "cells": [
  {
   "cell_type": "code",
   "execution_count": 1,
   "id": "7ad5dc6e-c975-4457-8179-66ab98535b52",
   "metadata": {},
   "outputs": [],
   "source": [
    "import numpy as np   # Importo paquete de álgebra lineal\n",
    "import matplotlib.pyplot as plt   # Importo paquete de gráficos\n",
    "import copy\n",
    "import mef\n",
    "plt.rc('figure', figsize=(15,8))   # Para gráficos\n",
    "plt.rc('font',size=22)             # Para gráficos\n",
    "import gmsh"
   ]
  },
  {
   "cell_type": "code",
   "execution_count": 2,
   "id": "51d2d5ff-7ca5-4673-abf9-be2abeefb933",
   "metadata": {},
   "outputs": [],
   "source": [
    "# Abro gmsh.\n",
    "gmsh.initialize()"
   ]
  },
  {
   "cell_type": "code",
   "execution_count": 3,
   "id": "83cfbfcd-9f49-4333-ada7-1d357c7f5770",
   "metadata": {},
   "outputs": [],
   "source": [
    "# Armo el modelo.\n",
    "gmsh.model.add('Chapa_fisurada')"
   ]
  },
  {
   "cell_type": "markdown",
   "id": "ceffaa51-21f2-4859-8d0d-1875478812e4",
   "metadata": {},
   "source": [
    "## Punto 2"
   ]
  },
  {
   "cell_type": "markdown",
   "id": "0baf93e9-bcd4-497d-b120-e60a87bf0337",
   "metadata": {},
   "source": [
    "Determine la **deformación** y los **esfuerzos principales** en función de la posición para una chapa con un agujero en el centro sujeta a tracción por sus extremos, como se muestra en la figura. Las dimensiones de la chapa son de $20\\: x\\: 10\\: in$ y su espesor de $1\\ in$. El radio del agujero central es también de $1\\: in$. Tome $E = 30 x 10^{6}\\: psi$ y $\\nu = 0,30$.\n",
    "\n",
    "Analice el problema con número creciente de elementos y estudie su convergencia.\n",
    "\n",
    "<center><img src=\"ImgProb02.png\"></center>"
   ]
  },
  {
   "cell_type": "code",
   "execution_count": 4,
   "id": "cbb74402-b9e0-4dbb-ae4f-ed37aa83a533",
   "metadata": {},
   "outputs": [],
   "source": [
    "# Defino los grados de libertad por nodo \"glxn\".\n",
    "glxn = 2"
   ]
  },
  {
   "cell_type": "code",
   "execution_count": 5,
   "id": "f5eb4e98-93e4-4646-972d-ef6f0a33faae",
   "metadata": {},
   "outputs": [],
   "source": [
    "# Defino el módulo de elasticidad \"E\" de la viga.\n",
    "E = 30e6   # psi=lb/in^2\n",
    "\n",
    "# Defino módulo de Poisson \"nu\".\n",
    "nu = 0.3\n",
    "\n",
    "# Defino la longitud \"L\" .\n",
    "L = 20   # in\n",
    "\n",
    "# Defino la altura \"h\" .\n",
    "h = 10   # in\n",
    "\n",
    "# Defino espesor \"t\"\n",
    "t = 1   # in\n",
    "\n",
    "# Defino radio \"r\" del agujero central.\n",
    "r = 1   # in\n",
    "\n",
    "# Defino el valor de la carga distribuida \"T\".\n",
    "T = 1000   # psi=lb/in^2"
   ]
  },
  {
   "cell_type": "code",
   "execution_count": 6,
   "id": "8b79689e-078a-4b23-b18a-25412b43ea65",
   "metadata": {},
   "outputs": [],
   "source": [
    "# Matriz \"D\" que relaciona tensores tensión-deformación, para problema de tensiones planas.\n",
    "D = (E/(1-(nu**2)))*np.array([[1,nu,0],\n",
    "                              [nu,1,0],\n",
    "                              [0,0,0.5*(1-nu)]])"
   ]
  },
  {
   "cell_type": "markdown",
   "id": "92ea0b95-bf53-433e-8fb7-51d2b08216b6",
   "metadata": {},
   "source": [
    "Por simetría, se trabajará con el cuadrante superior derecho de la chapa."
   ]
  },
  {
   "cell_type": "code",
   "execution_count": 7,
   "id": "8d398281-9b15-44bd-b035-61ef8aa99f73",
   "metadata": {},
   "outputs": [],
   "source": [
    "# Defino variable \"lc\" para la densidad de triángulos en las inmediaciones de cada punto.\n",
    "lc = 0.3"
   ]
  },
  {
   "cell_type": "code",
   "execution_count": 8,
   "id": "a39329fe-f3d4-49ad-b744-bdbfdac20e94",
   "metadata": {},
   "outputs": [],
   "source": [
    "# Defino las coordenadas de los puntos.\n",
    "pc = gmsh.model.geo.addPoint(0,0,0,lc)\n",
    "p1 = gmsh.model.geo.addPoint(r,0,0,lc/15) #lc/20)\n",
    "p2 = gmsh.model.geo.addPoint(L/2,0,0,lc) #lc/2)\n",
    "p3 = gmsh.model.geo.addPoint(L/2,h/2,0,lc) #lc/2)\n",
    "p4 = gmsh.model.geo.addPoint(0,h/2,0,lc) #lc/2)\n",
    "p5 = gmsh.model.geo.addPoint(0,r,0,lc/15) # lc/20"
   ]
  },
  {
   "cell_type": "raw",
   "id": "120f0014-9ed4-4536-bf58-e392abe696ed",
   "metadata": {},
   "source": [
    "# Defino las líneas.\n",
    "l1 = gmsh.model.geo.addLine(p1,p2)\n",
    "l2 = gmsh.model.geo.addLine(p2,p3)\n",
    "l3 = gmsh.model.geo.addLine(p3,p4)\n",
    "l4 = gmsh.model.geo.addLine(p4,p5)\n",
    "c1 = gmsh.model.geo.addCircleArc(p5,pc,p1)"
   ]
  },
  {
   "cell_type": "raw",
   "id": "58755c89-0f2f-4c11-aac9-c88fcb3ca703",
   "metadata": {},
   "source": [
    "# Defino los bordes del modelo.\n",
    "C1 = gmsh.model.geo.addCurveLoop([l1,l2,l3,l4,c1])"
   ]
  },
  {
   "cell_type": "raw",
   "id": "5749bc47-775e-4a05-a2cb-2e690a68dbdf",
   "metadata": {},
   "source": [
    "# Actualizo.\n",
    "gmsh.model.geo.synchronize()\n",
    "# Corro gmsh para que me tire una ventana con el mallado.\n",
    "gmsh.fltk.run()"
   ]
  },
  {
   "cell_type": "raw",
   "id": "9409cb02-225b-4317-9467-444a0f586467",
   "metadata": {},
   "source": [
    "# Defino la superficie.\n",
    "S1 = gmsh.model.geo.addPlaneSurface([C1])"
   ]
  },
  {
   "cell_type": "code",
   "execution_count": 9,
   "id": "d569e3fd-70e2-46d0-9509-a852b439a7f6",
   "metadata": {},
   "outputs": [],
   "source": [
    "# Defino las líneas de lo NO semicírculo.\n",
    "l1 = gmsh.model.geo.addLine(p1,p2)\n",
    "l2 = gmsh.model.geo.addLine(p2,p3)\n",
    "l3 = gmsh.model.geo.addLine(p3,p4)\n",
    "l4 = gmsh.model.geo.addLine(p4,p5)"
   ]
  },
  {
   "cell_type": "code",
   "execution_count": 10,
   "id": "c5420dfc-a7f7-45f0-8c92-db89d65c1301",
   "metadata": {},
   "outputs": [],
   "source": [
    "# Defino líneas para el semicírculo.\n",
    "l5 = gmsh.model.geo.addLine(p1,pc)\n",
    "l6 = gmsh.model.geo.addLine(pc,p5)\n",
    "c1 = gmsh.model.geo.addCircleArc(p5,pc,p1)"
   ]
  },
  {
   "cell_type": "code",
   "execution_count": 11,
   "id": "94b1ab14-8737-4abe-862f-87592d59bdba",
   "metadata": {},
   "outputs": [],
   "source": [
    "# Defino los bordes del semicírculo.\n",
    "C0 = gmsh.model.geo.addCurveLoop([l5,l6,c1])\n",
    "\n",
    "# Defino la superficie del semicírculo.\n",
    "S0 = gmsh.model.geo.addPlaneSurface([C0])"
   ]
  },
  {
   "cell_type": "code",
   "execution_count": 12,
   "id": "9b65978d-1bf4-4b02-9734-ef22c2cb9928",
   "metadata": {},
   "outputs": [],
   "source": [
    "# Defino los bordes del modelo SIN semicírculo.\n",
    "C2 = gmsh.model.geo.addCurveLoop([l1,l2,l3,l4])\n",
    "\n",
    "# Defino la superficie del modelo SIN semicírculo.\n",
    "S2 = gmsh.model.geo.addPlaneSurface([C2])"
   ]
  },
  {
   "cell_type": "code",
   "execution_count": 13,
   "id": "3835b09d-df49-4cfe-a3f9-fb51bf00ecba",
   "metadata": {},
   "outputs": [],
   "source": [
    "# Defino la superficie.\n",
    "S1 = gmsh.model.geo.addPlaneSurface([S2-S0])"
   ]
  },
  {
   "cell_type": "code",
   "execution_count": 14,
   "id": "4b41bdb3-590a-4cfb-82fb-6c79604a7e31",
   "metadata": {},
   "outputs": [],
   "source": [
    "# Actualizo.\n",
    "gmsh.model.geo.synchronize()\n",
    "# Corro gmsh para que me tire una ventana con el mallado.\n",
    "gmsh.fltk.run()"
   ]
  },
  {
   "cell_type": "code",
   "execution_count": 15,
   "id": "18ed4102-a4a2-47a7-99a5-e2a93d4727bb",
   "metadata": {},
   "outputs": [],
   "source": [
    "# Aviso que ya están todos los elementos geométricos.\n",
    "gmsh.model.geo.synchronize()"
   ]
  },
  {
   "cell_type": "code",
   "execution_count": 16,
   "id": "a34a40f3-c213-4cd2-bb6e-b3fe392bf57d",
   "metadata": {},
   "outputs": [],
   "source": [
    "# Por simetría del sistema, la línea de abajo no se puede mover porque la chapa no está traccionada verticalmente.\n",
    "Empotrado_hori = gmsh.model.addPhysicalGroup(1, [l1])\n",
    "gmsh.model.setPhysicalName(1,Empotrado_hori,'Empotrado horizontal')\n",
    "\n",
    "# Por simetría del sistema, la línea izquierda no se puede mover porque la chapa está traccionada horizontalmente tanto\n",
    "# para la derecha como para la izquierda en igual magnitud.\n",
    "Empotrado_vert = gmsh.model.addPhysicalGroup(1, [l4])\n",
    "gmsh.model.setPhysicalName(1,Empotrado_vert,'Empotrado vertical')"
   ]
  },
  {
   "cell_type": "code",
   "execution_count": 17,
   "id": "a2d1ec10-a3b2-4816-9a65-cc6bb88e634d",
   "metadata": {},
   "outputs": [],
   "source": [
    "# Defino el borde traccionado.\n",
    "Traccionado = gmsh.model.addPhysicalGroup(1,[l2])\n",
    "gmsh.model.setPhysicalName(1,Traccionado,'Traccionado')"
   ]
  },
  {
   "cell_type": "code",
   "execution_count": 18,
   "id": "4ef4e861-744a-4aa0-8466-ca669260b9d9",
   "metadata": {},
   "outputs": [],
   "source": [
    "Superficie = gmsh.model.addPhysicalGroup(2,[S1])\n",
    "gmsh.model.setPhysicalName(2,Superficie,'Superficie')"
   ]
  },
  {
   "cell_type": "code",
   "execution_count": null,
   "id": "bd4002a4-996d-4e06-8747-b6942b8dc9e9",
   "metadata": {},
   "outputs": [],
   "source": [
    "# Genero el mallado. De dimensión \"2\".\n",
    "gmsh.model.mesh.generate(2)"
   ]
  },
  {
   "cell_type": "code",
   "execution_count": null,
   "id": "0ee9850f-ee77-42f9-a240-f4c3639529ff",
   "metadata": {},
   "outputs": [],
   "source": [
    "# Actualizo.\n",
    "gmsh.model.geo.synchronize()"
   ]
  },
  {
   "cell_type": "code",
   "execution_count": null,
   "id": "e77053cb-2c24-423e-b205-bdfc4c237452",
   "metadata": {},
   "outputs": [],
   "source": [
    "# Corro gmsh para que me tire una ventana con el mallado.\n",
    "gmsh.fltk.run()"
   ]
  },
  {
   "cell_type": "markdown",
   "id": "2320e9c3-9f05-417f-b130-5f75ce829c0a",
   "metadata": {},
   "source": [
    "Obtengo información sobre los nodos."
   ]
  },
  {
   "cell_type": "code",
   "execution_count": null,
   "id": "6cb7a576-8030-4c30-a713-c60a6bc9d90b",
   "metadata": {},
   "outputs": [],
   "source": [
    "NodeInfo = gmsh.model.mesh.get_nodes()\n",
    "Nn = NodeInfo[0].shape[0]        # Número de nodos \"Nn\".\n",
    "MN = NodeInfo[1].reshape(Nn,3)   # Matriz de nodos \"MN\"."
   ]
  },
  {
   "cell_type": "code",
   "execution_count": null,
   "id": "8db18b07-4a69-4b4f-bfcd-587788dfeefe",
   "metadata": {},
   "outputs": [],
   "source": [
    "## PROBLEMA: Me considera el punto en (0,0,0) como nodo, lo cual es incorrecto porque no pertenece a la superficie.\n",
    "## SOLUCIÓN CORRECTA: Definir bien los grupos físicos para que no pase. ¡¡¡HACERLA EN PRÓXIMA MEJORA!!!\n",
    "\n",
    "## SOLUCIÓN QUE HICE: Pasé (0,0,0) al final del todo, porque esto facilitará considerarlo en el vector \"s\" y de esta \n",
    "# manera poder asignarle \"Us\" nulos.\n",
    "aux = MN[0,:]\n",
    "MN = np.append(MN[1:,:],[aux],0)"
   ]
  },
  {
   "cell_type": "markdown",
   "id": "9bf2e63d-e342-458b-9959-3957bc5a8113",
   "metadata": {},
   "source": [
    "Obtengo información sobre los elementos."
   ]
  },
  {
   "cell_type": "code",
   "execution_count": null,
   "id": "f8cc0fb0-5e44-4fbf-b60f-875c924b8833",
   "metadata": {},
   "outputs": [],
   "source": [
    "ETAGS, ELEMENTS = gmsh.model.mesh.get_elements_by_type(2)   # Obtengo elementos de tipo \"2\" (triángulos).\n",
    "Ne = ETAGS.shape[0]              # Número de elementos \"Ne\".\n",
    "Nnxe = 3                         # Número de nodos por elemento \"Nnxe\".\n",
    "MC = ELEMENTS.reshape(Ne,Nnxe)   # Matriz de conectividad \"MC\".\n",
    "MC = MC - np.ones([Ne,Nnxe])     # Resto 1 para acomodar a lenguaje PYTHON.\n",
    "MC = MC.astype(int)"
   ]
  },
  {
   "cell_type": "code",
   "execution_count": null,
   "id": "ad2b4684-7b87-4dd0-9601-4d1a9dede6a4",
   "metadata": {},
   "outputs": [],
   "source": [
    "# Defino vector \"A\" que almacena área de cada elemento.\n",
    "A = np.zeros(Ne)\n",
    "\n",
    "# Defino \"alpha\", \"beta\" y \"gamma\" para cada elemento.\n",
    "alpha = np.zeros([3,Ne])\n",
    "beta = np.zeros([3,Ne])\n",
    "gamma = np.zeros([3,Ne])\n",
    "\n",
    "# Defino diccionario en el que se almacenará, para cada elemento, la matriz \"B\" que relaciona deformación-desplazamiento.\n",
    "B = {}\n",
    "\n",
    "# Defino diccionario en el que se almacenará, para cada elemento, la matriz elemental \"Ke\".\n",
    "Ke = {}\n",
    "\n",
    "# Calculo las áreas orientadas, GENERALIZADO, usando producto vectorial.\n",
    "for e in range(Ne):\n",
    "    nodos = MC[e,:] # Guarda los nodos del elemento \"e\".\n",
    "    alpha[0,e] = MN[nodos[1],0]*MN[nodos[2],1] - MN[nodos[2],0]*MN[nodos[1],1]\n",
    "    alpha[1,e] = MN[nodos[0],0]*MN[nodos[2],1] - MN[nodos[2],0]*MN[nodos[0],1]\n",
    "    alpha[2,e] = MN[nodos[0],0]*MN[nodos[1],1] - MN[nodos[1],0]*MN[nodos[0],1]\n",
    "    beta[0,e] = MN[nodos[1],1]-MN[nodos[2],1]  # \"1\" es Y\n",
    "    beta[1,e] = MN[nodos[2],1]-MN[nodos[0],1]\n",
    "    beta[2,e] = MN[nodos[0],1]-MN[nodos[1],1]\n",
    "    gamma[0,e] = MN[nodos[2],0]-MN[nodos[1],0]  # \"0\" es X\n",
    "    gamma[1,e] = MN[nodos[0],0]-MN[nodos[2],0]\n",
    "    gamma[2,e] = MN[nodos[1],0]-MN[nodos[0],0]\n",
    "    A[e] = (alpha[0,e] - alpha[1,e] + alpha[2,e])/2\n",
    "    B[e] = (1/(2*A[e]))*np.array([[beta[0,e],0,beta[1,e],0,beta[2,e],0],\n",
    "                            [0,gamma[0,e],0,gamma[1,e],0,gamma[2,e]],\n",
    "                            [gamma[0,e],beta[0,e],gamma[1,e],beta[1,e],gamma[2,e],beta[2,e]]])\n",
    "    Ke[e] = t*np.abs(A[e])*np.transpose(B[e]).dot(D.dot(B[e]))"
   ]
  },
  {
   "cell_type": "code",
   "execution_count": null,
   "id": "d4ffd186-e7e0-4149-b1ae-d8a5880bf350",
   "metadata": {},
   "outputs": [],
   "source": [
    "# Defino matriz global \"Kg\".\n",
    "Kg = np.zeros([glxn*Nn, glxn*Nn])\n",
    "\n",
    "# Ensamblo las matrices elementales \"Ke\" para obtener la matriz global \"Kg\".\n",
    "for e in range(Ne): \n",
    "    for i in range(Nnxe):\n",
    "        rangoi = np.linspace(i*glxn, (i+1)*glxn-1, Nnxe).astype(int)\n",
    "        rangoni = np.linspace(MC[e, i]*glxn, (MC[e, i]+1)*glxn-1, Nnxe).astype(int)\n",
    "        for j in range(Nnxe):\n",
    "            rangoj = np.linspace(j*glxn, (j+1)*glxn-1, Nnxe).astype(int)\n",
    "            rangonj = np.linspace(MC[e, j]*glxn, (MC[e, j]+1)*glxn-1, Nnxe).astype(int)\n",
    "            Kg[np.ix_(rangoni, rangonj)] += Ke[e][np.ix_(rangoi, rangoj)]"
   ]
  },
  {
   "cell_type": "markdown",
   "id": "8472749b-1a8e-4245-b4a4-849bc86a76af",
   "metadata": {},
   "source": [
    "Obtengo los nodos empotrados horizontalmente. **NO ESTÁN EN NOTACIÓN PYTHON**, debo restar 1."
   ]
  },
  {
   "cell_type": "code",
   "execution_count": null,
   "id": "ed59662c-ad07-4501-a507-947c0aed6620",
   "metadata": {},
   "outputs": [],
   "source": [
    "nodos_empot_hori, xyz_empot_hori = gmsh.model.mesh.getNodesForPhysicalGroup(1, Empotrado_hori)"
   ]
  },
  {
   "cell_type": "markdown",
   "id": "7f7f13a8-36af-4538-a74a-e1f63771b6ed",
   "metadata": {},
   "source": [
    "Obtengo los nodos empotrados verticalmente. **NO ESTÁN EN NOTACIÓN PYTHON**, debo restar 1."
   ]
  },
  {
   "cell_type": "code",
   "execution_count": null,
   "id": "6ee0f4da-a6aa-42fd-a0aa-b45dfdc0614d",
   "metadata": {},
   "outputs": [],
   "source": [
    "nodos_empot_vert, xyz_empot_vert = gmsh.model.mesh.getNodesForPhysicalGroup(1, Empotrado_vert)"
   ]
  },
  {
   "cell_type": "code",
   "execution_count": null,
   "id": "98d63ac8-16f9-456d-9051-f5157b9ee273",
   "metadata": {},
   "outputs": [],
   "source": [
    "# Obtengo vector \"s\" que contiene los nodos con condiciones de vínculo en desplazamiento.\n",
    "# - Para los nodos en la línea horizontal empotrada, será restricción en el eje Y.\n",
    "# - Para los nodos en la línea vertical empotrada, será restricción en el eje X.\n",
    "s = []\n",
    "\n",
    "for n in nodos_empot_vert-1:   # El -1 va porque no están en numeración PYTHON.\n",
    "    s.append(glxn*n)\n",
    "for n in nodos_empot_hori-1:   # El -1 va porque no están en numeración PYTHON.\n",
    "    s.append(glxn*n + 1)\n",
    "\n",
    "# ESTO lo hago por tener el punto (0,0,0) al final del todo, así puedo empotrarlo y resolver el ejercicio. CUANDO CORRIJA\n",
    "# EL PROGRAMA, debería borrar estas dos líneas.\n",
    "s.append((NodeInfo[0][0]-1)*glxn)\n",
    "s.append((NodeInfo[0][0]-1)*glxn + 1)\n",
    "\n",
    "s = np.array(s).astype(int)\n",
    "\n",
    "# Obtengo vector \"Us\" con los valores de las condiciones de vínculo.\n",
    "Us = np.zeros([s.shape[0]]).reshape([-1,1])\n",
    "\n",
    "# Defino vector \"r\" que contiene los nodos con condiciones de vínculo en fuerza. Es el complemento de \"s\".\n",
    "r = np.array([i for i in range(Nn*glxn) if i not in s])"
   ]
  },
  {
   "cell_type": "markdown",
   "id": "869371ca-2839-4033-b799-8efda7794b99",
   "metadata": {},
   "source": [
    "Obtengo los nodos traccionados. **NO ESTÁN EN NOTACIÓN PYTHON**, debo restar 1."
   ]
  },
  {
   "cell_type": "code",
   "execution_count": null,
   "id": "d21faa6e-85eb-4b4f-85ee-dc674b1be380",
   "metadata": {},
   "outputs": [],
   "source": [
    "entityTraccionada = gmsh.model.getEntitiesForPhysicalGroup(1, Traccionado)\n",
    "\n",
    "# Obtengo elementos tipo línea desde aquellos nodos, es decir, líneas conectoras entre nodos en el extremo traccionado.\n",
    "Tgroup, Ttraccionada, Ltraccionada = gmsh.model.mesh.getElements(1, entityTraccionada[0])\n",
    "\n",
    "Nlineastraccionadas = len(Ttraccionada[0])   # Número de líneas.\n",
    "\n",
    "# Expreso cada par de nodos correspondientes a una línea traccionada, en la matriz \"MCtraccionadas\".\n",
    "MCtraccionadas = Ltraccionada[0].reshape(Nlineastraccionadas,2) - 1   # El -1 es para pasar los nodos a notación PYTHON."
   ]
  },
  {
   "cell_type": "code",
   "execution_count": null,
   "id": "31e5d50b-2eec-475e-abce-ed30aa39fff5",
   "metadata": {},
   "outputs": [],
   "source": [
    "# Defino vector \"Fr\" con los valores de las condiciones de vínculo.\n",
    "Fr = np.zeros_like(r)\n",
    "for e in range(Nlineastraccionadas):\n",
    "    nodo1 = MCtraccionadas[e,0].astype(int)   # Primer nodo en la línea\n",
    "    nodo2 = MCtraccionadas[e,1].astype(int)   # Segundo nodo en la línea\n",
    "    Ltraccionado = abs(MN[nodo2,1]-MN[nodo1,1])   # Calculo la distancia entre nodos adyacentes.\n",
    "    # Fr[2*nodo1] += T*t*Ltraccionado/2\n",
    "    # Fr[2*nodo2] += T*t*Ltraccionado/2\n",
    "    # No me andan los de arriba porque no se me correlacionan las posiciones de \"r\" y \"Fr\".\n",
    "    Fr[np.where(r == nodo1*2)[0][0]] += T*t*Ltraccionado/2\n",
    "    Fr[np.where(r == nodo2*2)[0][0]] += T*t*Ltraccionado/2\n",
    "Fr = Fr.reshape([-1,1])"
   ]
  },
  {
   "cell_type": "code",
   "execution_count": null,
   "id": "1812b919-72b7-4627-9256-29b76acd4415",
   "metadata": {},
   "outputs": [],
   "source": [
    "# Llamo al paquete \"mef\", que contiene la función \"solve\" que calcula los vectores de fuerzas y torques \"F\", y de \n",
    "# desplazamientos y rotaciones \"U\", empleando MEF. \n",
    "F, U = mef.solve(Kg, r, Fr, s, Us)"
   ]
  },
  {
   "cell_type": "code",
   "execution_count": null,
   "id": "9fe1c827-59cc-4e77-a75d-d7635194e5e7",
   "metadata": {},
   "outputs": [],
   "source": [
    "print('Las FUERZAS (en lb) son:')\n",
    "print(F)\n",
    "print('Los DESPLAZAMIENTOS (en in) son:')\n",
    "print(U)"
   ]
  },
  {
   "cell_type": "code",
   "execution_count": null,
   "id": "ee65cbaa-a2ef-4fc0-85e0-971f171494bc",
   "metadata": {},
   "outputs": [],
   "source": [
    "# Cálculo de tensiones.\n",
    "desp_xy = U.reshape(Nn,2)\n",
    "desp_xyz = np.hstack([desp_xy,np.zeros([Nn,1])])"
   ]
  },
  {
   "cell_type": "code",
   "execution_count": null,
   "id": "328493e0-8009-40d4-8f7e-50dffa6d8dcd",
   "metadata": {},
   "outputs": [],
   "source": [
    "# Calculo las posiciones finales de los nodos, matriz \"MN_final\".\n",
    "MN_final = MN + desp_xyz"
   ]
  },
  {
   "cell_type": "code",
   "execution_count": null,
   "id": "550695c9-304f-4d8f-91d8-19f3cc3ee99c",
   "metadata": {},
   "outputs": [],
   "source": [
    "# Almacena desplazamientos de cada elemento.\n",
    "desp_elem = {}\n",
    "tensión = {}\n",
    "for e in range(Ne):\n",
    "    desp_elem[e] = desp_xyz[MC[e],:2].ravel().reshape(-1,1)   # \"2\" así no me toma Z\n",
    "    tensión[e] = D.dot(B[e].dot(desp_elem[e])) "
   ]
  },
  {
   "cell_type": "code",
   "execution_count": null,
   "id": "85e8ef9a-e44a-4eea-8cf6-7b5199bf0fb9",
   "metadata": {},
   "outputs": [],
   "source": [
    "print('La TENSIÓN (en psi) en cada elemento es:')"
   ]
  },
  {
   "cell_type": "code",
   "execution_count": null,
   "id": "cfdd1713-a834-4ef9-90d7-6d7f08de9883",
   "metadata": {},
   "outputs": [],
   "source": [
    "tensión"
   ]
  },
  {
   "cell_type": "markdown",
   "id": "88323dde-68f7-44c4-bdb2-933ac0182bd2",
   "metadata": {},
   "source": [
    "## Gráfico del ANTES y DESPUÉS de la chapa"
   ]
  },
  {
   "cell_type": "markdown",
   "id": "258a628b-eddc-4499-8af7-03fff2b15076",
   "metadata": {},
   "source": [
    "No se nota la diferencia porque debería hacer como Lucho, que al definir \"MN_final\" sumó \"1e4*desp_xyz\" en vez de sólo \"desp_xyz\", así se nota más la diferencia entre antes y después."
   ]
  },
  {
   "cell_type": "code",
   "execution_count": null,
   "id": "8ca3d5dd-2c70-4288-a169-e510e85edff3",
   "metadata": {},
   "outputs": [],
   "source": [
    "fig, ax = plt.subplots(figsize=(15,8))\n",
    "plt.triplot(MN[:,0], MN[:,1], MC, label='Antes')\n",
    "plt.triplot(MN_final[:,0], MN_final[:,1], MC, label='Después')\n",
    "plt.legend()\n",
    "plt.ylabel('x (in)')\n",
    "plt.xlabel('y (in)')"
   ]
  },
  {
   "cell_type": "markdown",
   "id": "d0a7f15f-b70f-4f51-89d1-e6e2fbda9f3e",
   "metadata": {},
   "source": [
    "## Gráfico de FUERZAS en los nodos"
   ]
  },
  {
   "cell_type": "code",
   "execution_count": null,
   "id": "d8144b26-a5d1-43c3-8502-43d6816e3f11",
   "metadata": {},
   "outputs": [],
   "source": [
    "# Separo componentes de fuerza en X y en Y.\n",
    "Fx = F[2*np.arange(Nn)]\n",
    "Fy = F[2*np.arange(Nn)+1]\n",
    "\n",
    "fig = plt.figure()\n",
    "ax = fig.add_axes([0.1, 0.2, 0.5, 0.6])\n",
    "ax.triplot(MN[:,0],MN[:,1],MC-MC.min(), )\n",
    "ax.quiver( MN[:,0], MN[:,1], Fx, Fy, linewidth=5, units='width', scale=1e5)   # Flechas\n",
    "ax.set_xlim(-1, 1.2*L+(Fx/1e3).max())\n",
    "ax.set_xlabel('x (in)')\n",
    "ax.set_ylabel('y (in)')"
   ]
  },
  {
   "cell_type": "markdown",
   "id": "3933aa61-f205-43e8-b204-14368050c62b",
   "metadata": {},
   "source": [
    "## Gráfico de DESPLAZAMIENTOS en los nodos"
   ]
  },
  {
   "cell_type": "code",
   "execution_count": null,
   "id": "ab96b914-496a-4e89-87a7-1c4df574772a",
   "metadata": {},
   "outputs": [],
   "source": [
    "# Separo componentes de desplazamiento en X y en Y.\n",
    "Ux = U[2*np.arange(Nn)]\n",
    "Uy = U[2*np.arange(Nn)+1]\n",
    "\n",
    "fig = plt.figure()\n",
    "ax = fig.add_axes([0.1, 0.2, 0.5, 0.6])\n",
    "ax.triplot(MN[:,0],MN[:,1],MC-MC.min(), )\n",
    "ax.quiver( MN[:,0], MN[:,1], Ux*1e7, Uy*1e7, linewidth=5, units='width', scale=1e5)   # Flechas\n",
    "ax.set_xlim(-1, 1.2*L+(Ux/1e3).max())\n",
    "ax.set_xlabel('x (in)')\n",
    "ax.set_ylabel('y (in)')"
   ]
  },
  {
   "cell_type": "markdown",
   "id": "6ff7c548-2085-4435-976c-3e669c05d963",
   "metadata": {},
   "source": [
    "## Que se vea en el gmsh"
   ]
  },
  {
   "cell_type": "markdown",
   "id": "de81fdd1-7e34-48a7-a8ae-a6e1fc439ad4",
   "metadata": {},
   "source": [
    "### Desplazamientos"
   ]
  },
  {
   "cell_type": "raw",
   "id": "2a631ca2-8350-47ff-9f9a-937bbd7146b6",
   "metadata": {},
   "source": [
    "# Inicio una visualización.\n",
    "desps = gmsh.view.add(\"Desplazamientos\")"
   ]
  },
  {
   "cell_type": "raw",
   "id": "ea70eb76-9c46-4f25-83b0-ef9e2b38c9f8",
   "metadata": {},
   "source": [
    "# Guardo datos en la visualización.\n",
    "# Debo poner \"NodeInfo[0]+1\", porque sino grafica mal.\n",
    "Desps = gmsh.view.addModelData(desps, 0, 'Chapa_fisurada', 'NodeData', NodeInfo[0]+1, desp_xyz, numComponents=3)"
   ]
  },
  {
   "cell_type": "raw",
   "id": "aaddad2a-f651-410c-8c99-ef5d89557e9d",
   "metadata": {},
   "source": [
    "# No sé qué hace\n",
    "gmsh.option.setNumber(f'View[{desps}].VectorType',5)"
   ]
  },
  {
   "cell_type": "markdown",
   "id": "a465c9c8-ed72-4208-b366-c1a081eecb56",
   "metadata": {},
   "source": [
    "### Fuerzas"
   ]
  },
  {
   "cell_type": "raw",
   "id": "3a109dcc-37e6-429a-8d1f-719b6fed9225",
   "metadata": {},
   "source": [
    "# Guardo las fuerzas externas.\n",
    "Fxyz = np.hstack((Fx,Fy, np.zeros((Nn,1))))"
   ]
  },
  {
   "cell_type": "raw",
   "id": "d567297f-f479-469f-a376-1c9696bc589d",
   "metadata": {},
   "source": [
    "# Inicio una visualización.\n",
    "fx = gmsh.view.add(\"Fuerzas\")"
   ]
  },
  {
   "cell_type": "raw",
   "id": "26ed8746-a861-4522-a587-5882cdc0e2c1",
   "metadata": {},
   "source": [
    "# Guardo datos en la visualización.\n",
    "# Debo poner \"NodeInfo[0]+1\", porque sino grafica mal.\n",
    "Fz = gmsh.view.addModelData(fx, 0, 'Chapa_fisurada','NodeData',NodeInfo[0]+1, Fxyz, numComponents=3)"
   ]
  },
  {
   "cell_type": "raw",
   "id": "e0324f8e-3c17-4ab1-9100-4460a0de5e27",
   "metadata": {},
   "source": [
    "# No sé qué hace\n",
    "gmsh.option.setNumber(f'View[{fx}].VectorType',4)"
   ]
  },
  {
   "cell_type": "raw",
   "id": "cc932e7f-140b-4275-b52f-8a7b222e74e7",
   "metadata": {},
   "source": [
    "# No sé qué hace\n",
    "gmsh.option.setNumber(f'View[{fx}].GlyphLocation',2)"
   ]
  },
  {
   "cell_type": "markdown",
   "id": "cd4b9f17-5cff-4ace-9e2a-83bd96f32a32",
   "metadata": {},
   "source": [
    "### Tensiones"
   ]
  },
  {
   "cell_type": "code",
   "execution_count": null,
   "id": "a067c708-b77e-43b2-9208-8126171c9884",
   "metadata": {},
   "outputs": [],
   "source": [
    "# Saco las tensiones del diccionario \"tensión\" y las traslado a matriz \"tensiones_123\", que almacena:\n",
    "# - Fila \"0\": Tensiones en X.\n",
    "# - Fila \"1\": Tensiones en Y.\n",
    "# - Fila \"2\": Tensiones en XY.\n",
    "tensiones_123= np.hstack(list(tensión.values()))"
   ]
  },
  {
   "cell_type": "code",
   "execution_count": null,
   "id": "9eb21605-90a4-4b0b-8da9-0d6a4aea156f",
   "metadata": {},
   "outputs": [],
   "source": [
    "# Inicio una visualización para tensiones en X.\n",
    "sigX = gmsh.view.add(\"Tensiones en X\")\n",
    "\n",
    "# Inicio una visualización para tensiones en Y.\n",
    "# sigY = gmsh.view.add(\"Tensiones en Y\")\n",
    "\n",
    "# Inicio una visualización para tensiones en Y.\n",
    "# sigXY = gmsh.view.add(\"Tensiones en XY\")"
   ]
  },
  {
   "cell_type": "code",
   "execution_count": null,
   "id": "bdbb117d-4d27-454a-9fad-47319b7adf20",
   "metadata": {},
   "outputs": [],
   "source": [
    "TensionesX = gmsh.view.addModelData(sigX, 0, 'Chapa_fisurada', 'ElementData', ETAGS, tensiones_123[0,:].reshape([-1,1]) , numComponents=1 )\n",
    "# TensionesY = gmsh.view.addModelData(sigY, 0, 'Chapa_fisurada', 'ElementData', ETAGS, tensiones_123[1,:].reshape([-1,1]) , numComponents=1 )\n",
    "# TensionesXY = gmsh.view.addModelData(sigXY, 0, 'Chapa_fisurada', 'ElementData', ETAGS, tensiones_123[2,:].reshape([-1,1]) , numComponents=1 )"
   ]
  },
  {
   "cell_type": "raw",
   "id": "eba545cf-610b-4d02-a3a7-38944efae971",
   "metadata": {},
   "source": [
    "gmsh.option.setNumber(\"Mesh.MshFileVersion\", 2.2)\n",
    "gmsh.write('TestMeshView_IN.msh') # Así guardo el mallado."
   ]
  },
  {
   "cell_type": "raw",
   "id": "c3bec513-bea4-4eeb-b88d-b80a43c1ba99",
   "metadata": {},
   "source": [
    "gmsh.view.write(1,\"TestMeshView_OUT.msh\",append=True)"
   ]
  },
  {
   "cell_type": "code",
   "execution_count": null,
   "id": "710e253a-87ee-4907-a075-c741e0c16cda",
   "metadata": {},
   "outputs": [],
   "source": [
    "# Actualizo.\n",
    "gmsh.model.geo.synchronize()"
   ]
  },
  {
   "cell_type": "code",
   "execution_count": null,
   "id": "96bf242a-9797-46a9-bb02-c0270dd86808",
   "metadata": {},
   "outputs": [],
   "source": [
    "# Corro gmsh para que me tire una ventana con el mallado.\n",
    "gmsh.fltk.run()"
   ]
  },
  {
   "cell_type": "markdown",
   "id": "70c8b8f9-8711-4a40-81bd-839da7e501cf",
   "metadata": {},
   "source": [
    "¿CÓMO BORRAR MALLADO? En el gmsh, ir a Tools, luego a Options, ahí a Mesh, y **DESTILDAR** 2D element edges."
   ]
  },
  {
   "cell_type": "code",
   "execution_count": null,
   "id": "b03bdb5b-a6c9-422b-a183-c22ad6c6bfe8",
   "metadata": {},
   "outputs": [],
   "source": []
  }
 ],
 "metadata": {
  "kernelspec": {
   "display_name": "Python 3 (ipykernel)",
   "language": "python",
   "name": "python3"
  },
  "language_info": {
   "codemirror_mode": {
    "name": "ipython",
    "version": 3
   },
   "file_extension": ".py",
   "mimetype": "text/x-python",
   "name": "python",
   "nbconvert_exporter": "python",
   "pygments_lexer": "ipython3",
   "version": "3.9.10"
  }
 },
 "nbformat": 4,
 "nbformat_minor": 5
}
