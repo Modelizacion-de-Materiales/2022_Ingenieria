{
 "cells": [
  {
   "cell_type": "markdown",
   "id": "086a5e87-4dee-4335-b5e0-e8270eecd4e4",
   "metadata": {},
   "source": [
    "Punto 4"
   ]
  },
  {
   "cell_type": "code",
   "execution_count": 1,
   "id": "c46452f3-2cd9-4681-bf4b-e9f6c71cc5f5",
   "metadata": {},
   "outputs": [],
   "source": [
    "import numpy as np"
   ]
  },
  {
   "cell_type": "code",
   "execution_count": 2,
   "id": "2f39cdc2-fc98-468f-8458-a5d735be2190",
   "metadata": {},
   "outputs": [],
   "source": [
    "A= np.array(\n",
    "    [\n",
    "        [1,-3,-2],\n",
    "        [2,-4,-3],\n",
    "        [-3,6,8]\n",
    "    ]\n",
    ")\n",
    "# otra manera es A= np.array([[1,-3,-2],[2,-4,-3],[-3,6,8]])"
   ]
  },
  {
   "cell_type": "code",
   "execution_count": 3,
   "id": "da1c293a-2014-4778-8f9c-d432f3cfb07e",
   "metadata": {},
   "outputs": [
    {
     "name": "stdout",
     "output_type": "stream",
     "text": [
      "[[ 1 -3 -2]\n",
      " [ 2 -4 -3]\n",
      " [-3  6  8]]\n"
     ]
    }
   ],
   "source": [
    "print(A)"
   ]
  },
  {
   "cell_type": "code",
   "execution_count": 4,
   "id": "e25d5c28-a3fd-45f3-8f5a-e77ed7a2be14",
   "metadata": {},
   "outputs": [],
   "source": [
    "b= np.array(\n",
    "    [\n",
    "        [6],\n",
    "        [8],\n",
    "        [-5]\n",
    "    ]\n",
    ")\n",
    "# otra manera es b= np.array([[6],[6],[-5]])"
   ]
  },
  {
   "cell_type": "code",
   "execution_count": 5,
   "id": "d7a7aef9-e111-43dd-8afa-5a256bdfa863",
   "metadata": {},
   "outputs": [
    {
     "name": "stdout",
     "output_type": "stream",
     "text": [
      "[[ 6]\n",
      " [ 8]\n",
      " [-5]]\n"
     ]
    }
   ],
   "source": [
    "print(b)"
   ]
  },
  {
   "cell_type": "code",
   "execution_count": 6,
   "id": "7f80cd49-098c-459c-bea3-b0d87aa0973a",
   "metadata": {},
   "outputs": [],
   "source": [
    "x=np.linalg.solve(A,b)"
   ]
  },
  {
   "cell_type": "code",
   "execution_count": 7,
   "id": "62cf99b3-da9a-42b1-97e1-2f2ac5b64716",
   "metadata": {},
   "outputs": [
    {
     "name": "stdout",
     "output_type": "stream",
     "text": [
      "[[ 1.]\n",
      " [-3.]\n",
      " [ 2.]]\n"
     ]
    }
   ],
   "source": [
    "print(x)"
   ]
  },
  {
   "cell_type": "code",
   "execution_count": 8,
   "id": "99f81ace-78ba-46b7-a2f9-99e8b76a0664",
   "metadata": {},
   "outputs": [
    {
     "data": {
      "text/plain": [
       "array([[ 6.],\n",
       "       [ 8.],\n",
       "       [-5.]])"
      ]
     },
     "execution_count": 8,
     "metadata": {},
     "output_type": "execute_result"
    }
   ],
   "source": [
    "A.dot(x)"
   ]
  },
  {
   "cell_type": "code",
   "execution_count": 9,
   "id": "9b702026-5896-461a-8f01-4e50c62ba92c",
   "metadata": {},
   "outputs": [],
   "source": [
    "# A*x multiplica coordenada por coordenada"
   ]
  },
  {
   "cell_type": "code",
   "execution_count": 10,
   "id": "f0f99f61-91ec-441e-8848-21b74b167e89",
   "metadata": {},
   "outputs": [
    {
     "data": {
      "text/plain": [
       "array([[ 1.77635684e-15],\n",
       "       [-8.88178420e-16],\n",
       "       [ 0.00000000e+00]])"
      ]
     },
     "execution_count": 10,
     "metadata": {},
     "output_type": "execute_result"
    }
   ],
   "source": [
    "A.dot(x)-b"
   ]
  },
  {
   "cell_type": "code",
   "execution_count": null,
   "id": "4259108c-4059-4740-be2c-1d7694d2a606",
   "metadata": {},
   "outputs": [],
   "source": []
  }
 ],
 "metadata": {
  "kernelspec": {
   "display_name": "Python 3 (ipykernel)",
   "language": "python",
   "name": "python3"
  },
  "language_info": {
   "codemirror_mode": {
    "name": "ipython",
    "version": 3
   },
   "file_extension": ".py",
   "mimetype": "text/x-python",
   "name": "python",
   "nbconvert_exporter": "python",
   "pygments_lexer": "ipython3",
   "version": "3.9.10"
  }
 },
 "nbformat": 4,
 "nbformat_minor": 5
}
