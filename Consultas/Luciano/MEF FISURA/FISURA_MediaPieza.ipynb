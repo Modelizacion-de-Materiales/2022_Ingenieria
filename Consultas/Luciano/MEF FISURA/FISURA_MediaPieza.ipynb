{
 "cells": [
  {
   "cell_type": "markdown",
   "id": "1c6d265d",
   "metadata": {},
   "source": [
    "<center><img src=\"ImgProb02G03.png\"></center>"
   ]
  },
  {
   "cell_type": "code",
   "execution_count": 1,
   "id": "b024c161",
   "metadata": {
    "tags": []
   },
   "outputs": [],
   "source": [
    "import gmsh\n",
    "import numpy as np\n",
    "import matplotlib.pyplot as plt\n",
    "import MEF as mef"
   ]
  },
  {
   "cell_type": "code",
   "execution_count": 2,
   "id": "0f4a8bbd",
   "metadata": {},
   "outputs": [],
   "source": [
    "lc = 0.1 #0.02\n",
    "h = 0.3  # m\n",
    "b = 0.6  # m\n",
    "v = 0.3  # coef Poisson\n",
    "Ei = 206e9  # Pa \n",
    "r = 0.03  # m  radio del agujero\n",
    "t = 0.03  # m  espesor de la chapa\n",
    "T = 10e6  # Pa"
   ]
  },
  {
   "cell_type": "code",
   "execution_count": 3,
   "id": "3a88ab8a",
   "metadata": {},
   "outputs": [],
   "source": [
    "gmsh.initialize()\n",
    "gmsh.model.add('Chapa_agujero_central')"
   ]
  },
  {
   "cell_type": "code",
   "execution_count": 4,
   "id": "c54780db",
   "metadata": {
    "tags": []
   },
   "outputs": [],
   "source": [
    "pc = gmsh.model.geo.addPoint(b/2,0,0,lc)\n",
    "p1 = gmsh.model.geo.addPoint(0,0,0,lc)\n",
    "p2 = gmsh.model.geo.addPoint(b/2-r,0,0,lc/5)\n",
    "p3 = gmsh.model.geo.addPoint(b/2,r,0,lc/100)\n",
    "p4 = gmsh.model.geo.addPoint(b/2+r,0,0,lc/5)\n",
    "p5 = gmsh.model.geo.addPoint(b,0,0,lc)\n",
    "p6 = gmsh.model.geo.addPoint(b,h/2,0,lc)\n",
    "p7 = gmsh.model.geo.addPoint(b/2,h/2,0,lc/100)\n",
    "p8 = gmsh.model.geo.addPoint(0,h/2,0,lc)\n",
    "\n",
    "l1 = gmsh.model.geo.addLine(p1,p2)\n",
    "l2 = gmsh.model.geo.addLine(p4,p5)\n",
    "l3 = gmsh.model.geo.addLine(p5,p6)  # traccionada\n",
    "l4 = gmsh.model.geo.addLine(p6,p7)\n",
    "l5 = gmsh.model.geo.addLine(p7,p8)\n",
    "l6 = gmsh.model.geo.addLine(p8,p1)  # traccionada\n",
    "c1 = gmsh.model.geo.addCircleArc(p2, pc, p3)\n",
    "c2 = gmsh.model.geo.addCircleArc(p3, pc, p4)\n",
    "\n",
    "C1 = gmsh.model.geo.addCurveLoop([l1,l2,l3,l4,l5,l6,c1,c2])\n",
    "\n",
    "S1 = gmsh.model.geo.addPlaneSurface([C1])"
   ]
  },
  {
   "cell_type": "code",
   "execution_count": 5,
   "id": "dd9541d5",
   "metadata": {},
   "outputs": [],
   "source": [
    "gmsh.model.geo.synchronize()"
   ]
  },
  {
   "cell_type": "code",
   "execution_count": 6,
   "id": "3e6f6dc8",
   "metadata": {
    "tags": []
   },
   "outputs": [
    {
     "name": "stdout",
     "output_type": "stream",
     "text": [
      "Info    : Meshing 1D...\n",
      "Info    : [  0%] Meshing curve 1 (Line)\n",
      "Info    : [ 20%] Meshing curve 2 (Line)\n",
      "Info    : [ 30%] Meshing curve 3 (Line)\n",
      "Info    : [ 40%] Meshing curve 4 (Line)\n",
      "Info    : [ 50%] Meshing curve 5 (Line)\n",
      "Info    : [ 70%] Meshing curve 6 (Line)\n",
      "Info    : [ 80%] Meshing curve 7 (Circle)\n",
      "Info    : [ 90%] Meshing curve 8 (Circle)\n",
      "Info    : Done meshing 1D (Wall 0.00822201s, CPU 0.008594s)\n",
      "Info    : Meshing 2D...\n",
      "Info    : Meshing surface 1 (Plane, Frontal-Delaunay)\n",
      "Info    : Done meshing 2D (Wall 0.00522772s, CPU 0.00535s)\n",
      "Info    : 349 nodes 703 elements\n"
     ]
    }
   ],
   "source": [
    "Traccionado_pos = gmsh.model.addPhysicalGroup(1,[l3],)\n",
    "\n",
    "gmsh.model.setPhysicalName(1,Traccionado_pos,'Traccionado_pos')\n",
    "Traccionado_neg = gmsh.model.addPhysicalGroup(1,[l6])\n",
    "gmsh.model.setPhysicalName(1,Traccionado_neg,'Traccionado_neg')\n",
    "Empotrado_y = gmsh.model.addPhysicalGroup(1, [l1,l2])\n",
    "gmsh.model.setPhysicalName(1,Empotrado_y,'Empotrado en y')\n",
    "Superficie = gmsh.model.addPhysicalGroup(2,[S1])\n",
    "gmsh.model.setPhysicalName(2,Superficie,'Superficie')\n",
    "\n",
    "gmsh.model.mesh.generate(2)\n",
    "gmsh.model.geo.synchronize()\n",
    "#gmsh.fltk.run()"
   ]
  },
  {
   "cell_type": "code",
   "execution_count": 7,
   "id": "0a5254ae",
   "metadata": {},
   "outputs": [
    {
     "name": "stdout",
     "output_type": "stream",
     "text": [
      "Info    : Writing 'chapa_agujero.msh'...\n",
      "Info    : Done writing 'chapa_agujero.msh'\n"
     ]
    }
   ],
   "source": [
    "NodeInfo = gmsh.model.mesh.get_nodes()\n",
    "Nn = NodeInfo[0].shape[0]\n",
    "ETAGS, ELEMENTS = gmsh.model.mesh.get_elements_by_type(2)   # ETAGS = numeracion de cada elemento\n",
    "                                                            # ELEMENTS = ravel de los nodos que posee cada elemento\n",
    "MN = NodeInfo[1].reshape(Nn,3)  # matriz coordenadas de los nodos\n",
    "MN = np.append(MN[1:,:],[MN[0,:]],0)  # llevo la primer fila al final porque nombra al nodo del centro como el último taggeado\n",
    "MC = ELEMENTS.reshape(ETAGS.shape[0],3)  # matriz conectividad\n",
    "Ne, Nnxe = MC.shape\n",
    "MC = MC - np.ones([Ne,Nnxe])  # resto 1 para acomodar a lenguaje python\n",
    "\n",
    "E = np.zeros(Ne)\n",
    "for e in range(Ne):\n",
    "    E[e] = Ei\n",
    "    \n",
    "glxn = 2\n",
    "dimension_elementos = 2\n",
    "\n",
    "gmsh.option.setNumber(\"Mesh.MshFileVersion\",2.2)\n",
    "gmsh.write('chapa_agujero.msh')"
   ]
  },
  {
   "cell_type": "code",
   "execution_count": 8,
   "id": "6e43a149",
   "metadata": {},
   "outputs": [],
   "source": [
    "nodos_empot_y, xyz_empot_y = gmsh.model.mesh.getNodesForPhysicalGroup(1, Empotrado_y)"
   ]
  },
  {
   "cell_type": "code",
   "execution_count": 9,
   "id": "5a4342d4",
   "metadata": {},
   "outputs": [],
   "source": [
    "s = []  # el vector s indica la direccion de que nodo sabemos cuanto se desplaza.\n",
    "        # en este caso se asignan los valores de las direcciones de cada nodo empotrado\n",
    "for n in nodos_empot_y-1:\n",
    "    s.append(glxn*n+1)\n",
    "\n",
    "s.append((NodeInfo[0][0]-1)*glxn)\n",
    "s.append((NodeInfo[0][0]-1)*glxn+1)\n",
    "\n",
    "s = np.array(s).astype(int)\n",
    "\n",
    "Us = np.zeros([s.shape[0]]).reshape([-1,1])\n",
    "\n",
    "r = mef.vector_complemento(s, MN, glxn).astype(int)"
   ]
  },
  {
   "cell_type": "code",
   "execution_count": 10,
   "id": "203698c2",
   "metadata": {},
   "outputs": [],
   "source": [
    "entityTraccionada_pos = gmsh.model.getEntitiesForPhysicalGroup(1, Traccionado_pos)\n",
    "Tgroup_pos, Ttraccionada_pos, Ltraccionada_pos = gmsh.model.mesh.getElements(1, entityTraccionada_pos[0])\n",
    "Nlineastraccionadas_pos = len(Ttraccionada_pos[0])\n",
    "MCtraccionadas_pos = Ltraccionada_pos[0].reshape(Nlineastraccionadas_pos,2)-1\n",
    "\n",
    "entityTraccionada_neg = gmsh.model.getEntitiesForPhysicalGroup(1, Traccionado_neg)\n",
    "Tgroup_neg, Ttraccionada_neg, Ltraccionada_neg = gmsh.model.mesh.getElements(1, entityTraccionada_neg[0])\n",
    "Nlineastraccionadas_neg = len(Ttraccionada_neg[0])\n",
    "MCtraccionadas_neg = Ltraccionada_neg[0].reshape(Nlineastraccionadas_neg,2)-1\n",
    "\n",
    "Fr = np.zeros_like(r)  # Vector fuerzas en los nodos que empotrados\n",
    "for e in range(Nlineastraccionadas_pos):\n",
    "    nodo1 = MCtraccionadas_pos[e,0].astype(int)\n",
    "    nodo2 = MCtraccionadas_pos[e,1].astype(int)\n",
    "    Ltraccionado = abs(MN[nodo2,1]-MN[nodo1,1])  # Longitud de la linea traccionada [e] que se esta analizando\n",
    "    Fr[np.where(r == nodo1*2)[0][0]] += T*Ltraccionado*t/2  # Se distribuye la tensión aplicada según la longitud del elemento\n",
    "    Fr[np.where(r == nodo2*2)[0][0]] += T*Ltraccionado*t/2\n",
    "for e in range(Nlineastraccionadas_neg):\n",
    "    nodo1 = MCtraccionadas_neg[e,0].astype(int)\n",
    "    nodo2 = MCtraccionadas_neg[e,1].astype(int)\n",
    "    Ltraccionado = abs(MN[nodo2,1]-MN[nodo1,1])  # Longitud de la linea traccionada [e] que se esta analizando\n",
    "    Fr[np.where(r == nodo1*2)[0][0]] += -T*Ltraccionado*t/2  # Se distribuye la tensión aplicada según la longitud del elemento\n",
    "    Fr[np.where(r == nodo2*2)[0][0]] += -T*Ltraccionado*t/2\n",
    "Fr = Fr.reshape([-1,1])"
   ]
  },
  {
   "cell_type": "code",
   "execution_count": 11,
   "id": "55f1af81",
   "metadata": {},
   "outputs": [],
   "source": [
    "K, Ke, D, B = mef.Kglobal_barra(MN, MC, E, glxn, dimension_elementos, v,t) \n",
    "\n",
    "F, U = mef.solve(K, r, s, Us, Fr)\n",
    "\n",
    "sig = mef.tensiones(MC, U, D, B, glxn)\n",
    "sig_xytau = np.hstack(list(sig.values()))"
   ]
  },
  {
   "cell_type": "code",
   "execution_count": 12,
   "id": "72b7b190",
   "metadata": {},
   "outputs": [],
   "source": [
    "U2D = U.reshape(Nn,glxn)\n",
    "U3D = np.append(U2D,np.zeros(U2D.shape[0]).reshape([-1,1]),1)"
   ]
  },
  {
   "cell_type": "code",
   "execution_count": 13,
   "id": "b87cde7c",
   "metadata": {},
   "outputs": [],
   "source": [
    "desps = gmsh.view.add(\"Desplazamientos\")\n",
    "Desps = gmsh.view.addModelData(desps, 0, 'Chapa_agujero_central', 'NodeData', NodeInfo[0]+1, U3D, numComponents=3)\n",
    "gmsh.option.setNumber(f'View[{Desps}].VectorType',5)\n",
    "gmsh.option.setNumber(f'View[{Desps}].GlyphLocation',2)\n",
    "\n",
    "F2D = F.reshape(Nn,glxn)\n",
    "F3D = np.append(F2D,np.zeros(F2D.shape[0]).reshape([-1,1]),1)\n",
    "\n",
    "fuerzas = gmsh.view.add('Fuerzas')\n",
    "Fuerzas = gmsh.view.addModelData(fuerzas, 0, 'Chapa_agujero_central','NodeData',NodeInfo[0]+1, F3D, numComponents=3)\n",
    "#gmsh.option.setNumber(f'View[{fuerzas}].VectorType',4)\n",
    "gmsh.option.setNumber(f'View[{Fuerzas}].VectorType',4)\n",
    "#gmsh.option.setNumber(f'View[{fuerzas}].GlyphLocation',2)\n",
    "gmsh.option.setNumber(f'View[{Fuerzas}].GlyphLocation',2)\n",
    "\n",
    "sigx = gmsh.view.add('Tensiones en x')\n",
    "sigy = gmsh.view.add('Tensiones en y')\n",
    "sigxy = gmsh.view.add('Tensiones xy')\n",
    "SIGX = gmsh.view.addModelData(sigx, 0, 'Chapa_agujero_central', 'ElementData', ETAGS, sig_xytau[0,:].reshape([-1,1]), numComponents=1)  # hago reshape porque tienen que ir vectores columnas\n",
    "SIGY = gmsh.view.addModelData(sigy, 0, 'Chapa_agujero_central', 'ElementData', ETAGS, sig_xytau[1,:].reshape([-1,1]), numComponents=1)"
   ]
  },
  {
   "cell_type": "code",
   "execution_count": 14,
   "id": "86a0f61d",
   "metadata": {},
   "outputs": [
    {
     "name": "stdout",
     "output_type": "stream",
     "text": [
      "-------------------------------------------------------\n",
      "Version       : 4.10.5\n",
      "License       : GNU General Public License\n",
      "Build OS      : Linux64-sdk\n",
      "Build date    : 20220701\n",
      "Build host    : gmsh.info\n",
      "Build options : 64Bit ALGLIB[contrib] ANN[contrib] Bamg Blas[petsc] Blossom Cgns DIntegration Dlopen DomHex Eigen[contrib] Fltk Gmm[contrib] Hxt Jpeg Kbipack Lapack[petsc] LinuxJoystick MathEx[contrib] Med Mesh Metis[contrib] Mmg Mpeg Netgen ONELAB ONELABMetamodel OpenCASCADE OpenCASCADE-CAF OpenGL OpenMP OptHom PETSc Parser Plugins Png Post QuadMeshingTools QuadTri Solver TetGen/BR Voro++[contrib] WinslowUntangler Zlib\n",
      "FLTK version  : 1.4.0\n",
      "PETSc version : 3.14.4 (real arithmtic)\n",
      "OCC version   : 7.6.1\n",
      "MED version   : 4.1.0\n",
      "Packaged by   : geuzaine\n",
      "Web site      : https://gmsh.info\n",
      "Issue tracker : https://gitlab.onelab.info/gmsh/gmsh/issues\n",
      "-------------------------------------------------------\n"
     ]
    }
   ],
   "source": [
    "gmsh.fltk.run()"
   ]
  },
  {
   "cell_type": "markdown",
   "id": "971ce78d",
   "metadata": {},
   "source": [
    "<center><img src=\"FF_sin_fisura.png\"></center>"
   ]
  },
  {
   "cell_type": "markdown",
   "id": "5faf60dc",
   "metadata": {},
   "source": [
    "$ \\large\n",
    "\\text{Para medir la longitud de la fisura (aproximada): Se tienen en cuenta las coordenadas del primer elemento eliminado y del último.}\n",
    "$"
   ]
  },
  {
   "cell_type": "markdown",
   "id": "4617d7f6",
   "metadata": {},
   "source": [
    "$ \\large\n",
    "\\text{1ro: Creo una matriz que almacene los nodos de cada elemento eliminado}\n",
    "$"
   ]
  },
  {
   "cell_type": "markdown",
   "id": "2d8ee7d1",
   "metadata": {},
   "source": [
    "$ \\large\n",
    "\\text{2do: Considero que la fisura tiende a ser como una linea recta}\n",
    "$"
   ]
  },
  {
   "cell_type": "markdown",
   "id": "0b48e12f",
   "metadata": {},
   "source": [
    "$ \\large\n",
    "\\text{3ro: Obtengo la distancia entre dos puntos, un punto es un nodo del primer elemento eliminado, y el otro punto es un nodo del último elemento eliminado}\n",
    "$"
   ]
  },
  {
   "cell_type": "markdown",
   "id": "c10dde2e",
   "metadata": {},
   "source": [
    "$ \\large\n",
    "\\text{4to: Del primer elemento se toma el nodo de menor distancia en y. Del último elemento se toma el nodo con mayor distancia en y}\n",
    "$"
   ]
  },
  {
   "cell_type": "code",
   "execution_count": 15,
   "id": "3cf57018",
   "metadata": {},
   "outputs": [],
   "source": [
    "from tqdm.auto import tqdm"
   ]
  },
  {
   "cell_type": "code",
   "execution_count": 16,
   "id": "58ed3bc5",
   "metadata": {
    "tags": []
   },
   "outputs": [
    {
     "data": {
      "application/vnd.jupyter.widget-view+json": {
       "model_id": "9ccd06ffd34d43b79bd021da5790729a",
       "version_major": 2,
       "version_minor": 0
      },
      "text/plain": [
       "  0%|          | 0/43 [00:00<?, ?it/s]"
      ]
     },
     "metadata": {},
     "output_type": "display_data"
    },
    {
     "ename": "LinAlgError",
     "evalue": "Singular matrix",
     "output_type": "error",
     "traceback": [
      "\u001b[0;31m---------------------------------------------------------------------------\u001b[0m",
      "\u001b[0;31mLinAlgError\u001b[0m                               Traceback (most recent call last)",
      "Input \u001b[0;32mIn [16]\u001b[0m, in \u001b[0;36m<cell line: 6>\u001b[0;34m()\u001b[0m\n\u001b[1;32m     14\u001b[0m     E[e] \u001b[38;5;241m=\u001b[39m Ei\n\u001b[1;32m     15\u001b[0m K, Ke, D, B \u001b[38;5;241m=\u001b[39m mef\u001b[38;5;241m.\u001b[39mKglobal_barra(MN, MCbroken, E, glxn, dimension_elementos, v,t)\n\u001b[0;32m---> 16\u001b[0m F, U \u001b[38;5;241m=\u001b[39m \u001b[43mmef\u001b[49m\u001b[38;5;241;43m.\u001b[39;49m\u001b[43msolve\u001b[49m\u001b[43m(\u001b[49m\u001b[43mK\u001b[49m\u001b[43m,\u001b[49m\u001b[43m \u001b[49m\u001b[43mr\u001b[49m\u001b[43m,\u001b[49m\u001b[43m \u001b[49m\u001b[43ms\u001b[49m\u001b[43m,\u001b[49m\u001b[43m \u001b[49m\u001b[43mUs\u001b[49m\u001b[43m,\u001b[49m\u001b[43m \u001b[49m\u001b[43mFr\u001b[49m\u001b[43m)\u001b[49m\n\u001b[1;32m     17\u001b[0m sig \u001b[38;5;241m=\u001b[39m mef\u001b[38;5;241m.\u001b[39mtensiones(MCbroken, U, D, B, glxn)\n\u001b[1;32m     18\u001b[0m sig_xytau \u001b[38;5;241m=\u001b[39m np\u001b[38;5;241m.\u001b[39mhstack(\u001b[38;5;28mlist\u001b[39m(sig\u001b[38;5;241m.\u001b[39mvalues()))  \u001b[38;5;66;03m# saco las tensiones del diccionario, quedan en filas para cada elemento las tensiones x, y, xy\u001b[39;00m\n",
      "File \u001b[0;32m~/modelizacion/2022_Ingenieria/Consultas/Luciano/MEF FISURA/MEF.py:26\u001b[0m, in \u001b[0;36msolve\u001b[0;34m(K, r, s, Us, Fr)\u001b[0m\n\u001b[1;32m     22\u001b[0m Kvin \u001b[38;5;241m=\u001b[39m K[np\u001b[38;5;241m.\u001b[39mix_(r,s)]\n\u001b[1;32m     24\u001b[0m \u001b[38;5;66;03m# Los 'r' son los desplazamientos incognitos, los 's' son los desplazamientos que tenemos como dato\u001b[39;00m\n\u001b[0;32m---> 26\u001b[0m U[r] \u001b[38;5;241m=\u001b[39m \u001b[43mnp\u001b[49m\u001b[38;5;241;43m.\u001b[39;49m\u001b[43mlinalg\u001b[49m\u001b[38;5;241;43m.\u001b[39;49m\u001b[43msolve\u001b[49m\u001b[43m(\u001b[49m\u001b[43mKred\u001b[49m\u001b[43m,\u001b[49m\u001b[43m \u001b[49m\u001b[43mF\u001b[49m\u001b[43m[\u001b[49m\u001b[43mr\u001b[49m\u001b[43m]\u001b[49m\u001b[38;5;241;43m-\u001b[39;49m\u001b[43mKvin\u001b[49m\u001b[38;5;241;43m.\u001b[39;49m\u001b[43mdot\u001b[49m\u001b[43m(\u001b[49m\u001b[43mU\u001b[49m\u001b[43m[\u001b[49m\u001b[43ms\u001b[49m\u001b[43m]\u001b[49m\u001b[43m)\u001b[49m\u001b[43m)\u001b[49m\n\u001b[1;32m     27\u001b[0m F[s] \u001b[38;5;241m=\u001b[39m K[s,:]\u001b[38;5;241m.\u001b[39mdot(U)\n\u001b[1;32m     29\u001b[0m \u001b[38;5;28;01mreturn\u001b[39;00m F, U\n",
      "File \u001b[0;32m<__array_function__ internals>:180\u001b[0m, in \u001b[0;36msolve\u001b[0;34m(*args, **kwargs)\u001b[0m\n",
      "File \u001b[0;32m/data/Anaconda/JupyterLab/lib/python3.9/site-packages/numpy/linalg/linalg.py:400\u001b[0m, in \u001b[0;36msolve\u001b[0;34m(a, b)\u001b[0m\n\u001b[1;32m    398\u001b[0m signature \u001b[38;5;241m=\u001b[39m \u001b[38;5;124m'\u001b[39m\u001b[38;5;124mDD->D\u001b[39m\u001b[38;5;124m'\u001b[39m \u001b[38;5;28;01mif\u001b[39;00m isComplexType(t) \u001b[38;5;28;01melse\u001b[39;00m \u001b[38;5;124m'\u001b[39m\u001b[38;5;124mdd->d\u001b[39m\u001b[38;5;124m'\u001b[39m\n\u001b[1;32m    399\u001b[0m extobj \u001b[38;5;241m=\u001b[39m get_linalg_error_extobj(_raise_linalgerror_singular)\n\u001b[0;32m--> 400\u001b[0m r \u001b[38;5;241m=\u001b[39m \u001b[43mgufunc\u001b[49m\u001b[43m(\u001b[49m\u001b[43ma\u001b[49m\u001b[43m,\u001b[49m\u001b[43m \u001b[49m\u001b[43mb\u001b[49m\u001b[43m,\u001b[49m\u001b[43m \u001b[49m\u001b[43msignature\u001b[49m\u001b[38;5;241;43m=\u001b[39;49m\u001b[43msignature\u001b[49m\u001b[43m,\u001b[49m\u001b[43m \u001b[49m\u001b[43mextobj\u001b[49m\u001b[38;5;241;43m=\u001b[39;49m\u001b[43mextobj\u001b[49m\u001b[43m)\u001b[49m\n\u001b[1;32m    402\u001b[0m \u001b[38;5;28;01mreturn\u001b[39;00m wrap(r\u001b[38;5;241m.\u001b[39mastype(result_t, copy\u001b[38;5;241m=\u001b[39m\u001b[38;5;28;01mFalse\u001b[39;00m))\n",
      "File \u001b[0;32m/data/Anaconda/JupyterLab/lib/python3.9/site-packages/numpy/linalg/linalg.py:89\u001b[0m, in \u001b[0;36m_raise_linalgerror_singular\u001b[0;34m(err, flag)\u001b[0m\n\u001b[1;32m     88\u001b[0m \u001b[38;5;28;01mdef\u001b[39;00m \u001b[38;5;21m_raise_linalgerror_singular\u001b[39m(err, flag):\n\u001b[0;32m---> 89\u001b[0m     \u001b[38;5;28;01mraise\u001b[39;00m LinAlgError(\u001b[38;5;124m\"\u001b[39m\u001b[38;5;124mSingular matrix\u001b[39m\u001b[38;5;124m\"\u001b[39m)\n",
      "\u001b[0;31mLinAlgError\u001b[0m: Singular matrix"
     ]
    }
   ],
   "source": [
    "MCbroken = MC\n",
    "ETAGSbroken = ETAGS\n",
    "ElementosRotos = 43\n",
    "MC_eliminados = np.zeros(3)\n",
    "progress = tqdm(range(ElementosRotos))\n",
    "for elrot in progress: #range(ElementosRotos):\n",
    "    max_sig_element = np.where(sig_xytau[0,:] == sig_xytau[0,:].max())\n",
    "    MC_eliminados = np.vstack([MC_eliminados,MCbroken[max_sig_element]])\n",
    "    MCbroken = np.delete(MCbroken, max_sig_element, axis=0)\n",
    "    ETAGSbroken = np.delete(ETAGSbroken, max_sig_element, axis=0)\n",
    "    Ne, Nnxe = MCbroken.shape\n",
    "    E = np.zeros(Ne)\n",
    "    for e in range(Ne):\n",
    "        E[e] = Ei\n",
    "    K, Ke, D, B = mef.Kglobal_barra(MN, MCbroken, E, glxn, dimension_elementos, v,t)\n",
    "    F, U = mef.solve(K, r, s, Us, Fr)\n",
    "    sig = mef.tensiones(MCbroken, U, D, B, glxn)\n",
    "    sig_xytau = np.hstack(list(sig.values()))  # saco las tensiones del diccionario, quedan en filas para cada elemento las tensiones x, y, xy\n",
    "    U2D = U.reshape(Nn,glxn)\n",
    "    U3D = np.append(U2D,np.zeros(U2D.shape[0]).reshape([-1,1]),1)\n",
    "MC_eliminados = np.delete(MC_eliminados,0,0)"
   ]
  },
  {
   "cell_type": "code",
   "execution_count": null,
   "id": "707a5f50",
   "metadata": {},
   "outputs": [],
   "source": [
    "el1_nodos = MC_eliminados[0].astype(int)\n",
    "el1_coord = np.array([[MN[el1_nodos[0]]],[MN[el1_nodos[1]]],[MN[el1_nodos[2]]]])\n",
    "\n",
    "el2_nodos = MC_eliminados[-1].astype(int)\n",
    "el2_coord = np.array([[MN[el2_nodos[0]]],[MN[el2_nodos[1]]],[MN[el2_nodos[2]]]])\n",
    "\n",
    "cd_in = el1_coord[np.where(el1_coord == el1_coord[:,0][:,1].max())[0][0]].tolist()[0]  # coord del nodo donde inicia la fisura\n",
    "cd_p = el2_coord[np.where(el2_coord == el2_coord[:,0][:,1].max())[0][0]].tolist()[0]  # coord del nodo en la punta de la fisura\n",
    "\n",
    "longitud_fisura = ((cd_p[0]-cd_in[0])**2+(cd_p[1]-cd_in[1])**2)**(1/2)*1e3  # en mm"
   ]
  },
  {
   "cell_type": "code",
   "execution_count": null,
   "id": "10464356",
   "metadata": {},
   "outputs": [],
   "source": [
    "print(f'\\033[30m \\033[107m Longitud de la fisura = {longitud_fisura} mm')"
   ]
  },
  {
   "cell_type": "code",
   "execution_count": null,
   "id": "af3c8bf1",
   "metadata": {},
   "outputs": [],
   "source": [
    "desps = gmsh.view.add(\"Desplazamientos\")\n",
    "Desps = gmsh.view.addModelData(desps, 0, 'Chapa_agujero_central', 'NodeData', NodeInfo[0]+1, U3D, numComponents=3)\n",
    "gmsh.option.setNumber(f'View[{desps}].VectorType',5)\n",
    "\n",
    "F2D = F.reshape(Nn,glxn)\n",
    "F3D = np.append(F2D,np.zeros(F2D.shape[0]).reshape([-1,1]),1)\n",
    "\n",
    "fuerzas = gmsh.view.add('Fuerzas')\n",
    "Fuerzas = gmsh.view.addModelData(fuerzas, 0, 'Chapa_agujero_central','NodeData',NodeInfo[0]+1, F3D, numComponents=3)\n",
    "gmsh.option.setNumber(f'View[{fuerzas}].VectorType',4)\n",
    "gmsh.option.setNumber(f'View[{fuerzas}].GlyphLocation',2)\n",
    "\n",
    "sigx = gmsh.view.add('Tensiones en x')\n",
    "sigy = gmsh.view.add('Tensiones en y')\n",
    "sigxy = gmsh.view.add('Tensiones xy')\n",
    "SIGX = gmsh.view.addModelData(sigx, 0, 'Chapa_agujero_central', 'ElementData', ETAGSbroken, sig_xytau[0,:].reshape([-1,1]), numComponents=1)  # hago reshape porque tienen que ir vectores columnas\n",
    "SIGY = gmsh.view.addModelData(sigy, 0, 'Chapa_agujero_central', 'ElementData', ETAGSbroken, sig_xytau[1,:].reshape([-1,1]), numComponents=1)\n",
    "\n",
    "gmsh.fltk.run()"
   ]
  },
  {
   "cell_type": "markdown",
   "id": "db20cfc1",
   "metadata": {},
   "source": [
    "<center><img src=\"FFisura_Hermosa(1).png\"></center>"
   ]
  },
  {
   "cell_type": "markdown",
   "id": "cae7d448",
   "metadata": {},
   "source": [
    "<center><img src=\"FFisura_Hermosa(zoom)(1).png\"></center>"
   ]
  },
  {
   "cell_type": "markdown",
   "id": "9ee3ba2d",
   "metadata": {},
   "source": [
    "<div style=\"background:#999900\"> Buen'isimo Luciano ! está muy bien ! haría un par de modificaciones para mejorarlo:\n",
    "    \n",
    "  <ol>\n",
    "      <li> en vez de usar las tensiones $\\sigma = D \\varepsilon$ usaría las tensiones principales, fijate en la <a url=\"https://isabatoingenieria.com.ar/moodle/pluginfile.php/2466/mod_resource/content/10/Clase-7.pdf\">Clase 7 de Rubén</a>, pagina 12. fijate que el elmemento de máxima tensión debería ser el que tiene la punta sobre la fisura. Lo podremos reproducir así ?\n",
    "      <li> No estoy seguro de cuál es el criterio de elección del elemento a marcar, te fijaste bien en el capítulo de la tesis? en cualquier caso la tensión máxima está bien para tener algo ahora.\n",
    "      <li> fijate que los elementos se te van agrandando a medida que avanzas. eso es porque el factor de escala del punto que está en el borde es mas grande que el del agujero. fijate si se lo podes achicar.\n",
    "       <li> en vez de sacar el elemento, se puede hacer un marcador:\n",
    "           \n",
    "           $ Marcador_0  = 1 \\forall e $\n",
    "           \n",
    "           luego:\n",
    "           \n",
    "           $ Marcador_t ^i = -1 if \\sigma (t) _i > \\sigma_{critico} $ ( parecido a lo que hace el espa~nol de la tesis)\n",
    "          \n",
    "           con eso se podría hacer la peliculita del avance de la fisura\n",
    "      <li> ya para lujo: cuando en la punta de la fisura se cumple el criterio del dieter (de orowan ? el del $K_{IC}$) tendrías que darle  rotura catastrófica. eso te daría una idea de la máxima fisura que podes aguantar.\n",
    "    </ol>\n",
    " </div>"
   ]
  },
  {
   "cell_type": "markdown",
   "id": "e6e25115",
   "metadata": {},
   "source": [
    "<div style=\"background:#999900\"> \n",
    "despues, como veras en este notebook, trat'e de cambiar el factor de escala para forzar los elementos sobre la fisura. en un momento la matriz empieza a dar sinuglar. eso quiere decir que hay que revisar las condiciones de contorno!\n",
    "</div>"
   ]
  },
  {
   "cell_type": "code",
   "execution_count": null,
   "id": "80737a3d",
   "metadata": {},
   "outputs": [],
   "source": []
  }
 ],
 "metadata": {
  "kernelspec": {
   "display_name": "Python 3 (ipykernel)",
   "language": "python",
   "name": "python3"
  },
  "language_info": {
   "codemirror_mode": {
    "name": "ipython",
    "version": 3
   },
   "file_extension": ".py",
   "mimetype": "text/x-python",
   "name": "python",
   "nbconvert_exporter": "python",
   "pygments_lexer": "ipython3",
   "version": "3.9.12"
  }
 },
 "nbformat": 4,
 "nbformat_minor": 5
}
