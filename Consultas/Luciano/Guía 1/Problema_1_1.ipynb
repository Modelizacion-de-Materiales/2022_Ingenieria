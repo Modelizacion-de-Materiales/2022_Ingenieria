{
 "cells": [
  {
   "cell_type": "markdown",
   "id": "92e65a4f",
   "metadata": {},
   "source": [
    "$$ \\LARGE\n",
    "\\underline{\\textbf{Problema 1}}\n",
    "$$"
   ]
  },
  {
   "cell_type": "markdown",
   "id": "b04c926d",
   "metadata": {},
   "source": [
    "Se tiene una placa cuadrada de aluminio cuyos bordes están en las condiciones que se indican en la\n",
    "figura: tres lados a temperaturas fijas y otro, el inferior, aislado térmicamente (flujo de calor igual a\n",
    "cero). Encuentre, utilizando el método de diferencias finitas, los valores de temperatura y flujo de\n",
    "calor para cada punto. Utilice primero la grilla señalada y luego generalice el problema a un número\n",
    "variable de nodos en cada eje de coordenadas. Haga un estudio del tiempo de cálculo en función del\n",
    "tamaño del sistema."
   ]
  },
  {
   "cell_type": "code",
   "execution_count": 1,
   "id": "9f2302b0",
   "metadata": {},
   "outputs": [],
   "source": [
    "import numpy as np\n",
    "import matplotlib.pyplot as plt\n",
    "import time"
   ]
  },
  {
   "cell_type": "markdown",
   "id": "99c30e7b",
   "metadata": {},
   "source": [
    "$$\n",
    "$$"
   ]
  },
  {
   "cell_type": "markdown",
   "id": "56f7e597",
   "metadata": {},
   "source": [
    "$$ \\LARGE\n",
    "\\underline{\\textbf{Problema 1 versión chapa}}\n",
    "$$"
   ]
  },
  {
   "cell_type": "code",
   "execution_count": 2,
   "id": "564b26b3",
   "metadata": {},
   "outputs": [],
   "source": [
    "class Chapa:\n",
    "    def __init__(self, nx, ny=None):\n",
    "        self.nx = nx\n",
    "        if ny is None:\n",
    "            self.ny = nx\n",
    "        else:\n",
    "            self.ny = ny\n",
    "        self.nk = self.nx * self.ny\n",
    "\n",
    "    # entonces tendrías un método de definir la matriz:\n",
    "    def makematriz(self, Ta, Tb, Tc, Td):\n",
    "        beta = self.nx/self.ny\n",
    "        b = np.zeros([self.nx*self.ny, 1])  # Conviene que sea de ceros\n",
    "        M = np.eye(self.nx*self.ny)\n",
    "        nx = self.nx\n",
    "        ny = self.ny\n",
    "        for k in range(self.nk):\n",
    "            if k == 0:\n",
    "                b[k] = (Ta+Tb)/2\n",
    "            elif k == (nx-1):\n",
    "                b[k] = (Tc+Tb)/2\n",
    "            elif k == nx*ny-nx:\n",
    "                b[k] = (Ta+Td)/2\n",
    "            elif k == nx*ny-1:\n",
    "                b[k] = (Tc+Td)/2\n",
    "            elif k < nx-1:\n",
    "                b[k] = Tb\n",
    "            elif k > nx*ny-1-nx:\n",
    "                b[k] = Td\n",
    "            elif k % nx == 0:\n",
    "                b[k] = Ta\n",
    "            elif (k+1) % nx == 0:  # si no pongo parentesis da mal\n",
    "                b[k] = Tc\n",
    "            else:\n",
    "                M[k, k] = -2*(1+beta**2)\n",
    "                M[k, k-1] = 1\n",
    "                M[k, k+1] = 1\n",
    "                M[k, k-nx] = beta**2\n",
    "                M[k, k+nx] = beta**2\n",
    "        return M, b\n",
    "\n",
    "    # y un método de solución:\n",
    "    def solve(self, M, b):\n",
    "        T = np.linalg.solve(M, b)\n",
    "        T_matriz = T.reshape(self.nx, self.ny)\n",
    "        T_matriz = T_matriz[::-1]\n",
    "        return T_matriz"
   ]
  },
  {
   "cell_type": "code",
   "execution_count": 3,
   "id": "f688aafe",
   "metadata": {},
   "outputs": [],
   "source": [
    "Ta, Tb, Tc, Td = (75, 0, 50, 100)\n",
    "\n",
    "lachapa = Chapa(10)"
   ]
  },
  {
   "cell_type": "code",
   "execution_count": 4,
   "id": "36682cbf",
   "metadata": {},
   "outputs": [],
   "source": [
    "M_2, b_2 = lachapa.makematriz(Ta, Tb, Tc, Td)"
   ]
  },
  {
   "cell_type": "code",
   "execution_count": 5,
   "id": "48b2c1d0",
   "metadata": {},
   "outputs": [],
   "source": [
    "T_matriz_2 = lachapa.solve(M_2, b_2)"
   ]
  },
  {
   "cell_type": "code",
   "execution_count": 6,
   "id": "57d5706e",
   "metadata": {},
   "outputs": [
    {
     "data": {
      "text/plain": [
       "Text(0, 0.5, ' j ')"
      ]
     },
     "execution_count": 6,
     "metadata": {},
     "output_type": "execute_result"
    },
    {
     "data": {
      "image/png": "[encoded data removed]",
      "text/plain": [
       "<Figure size 1080x576 with 2 Axes>"
      ]
     },
     "metadata": {
      "needs_background": "light"
     },
     "output_type": "display_data"
    }
   ],
   "source": [
    "plt.rc('figure', figsize=(15,8))\n",
    "plt.rc('font', size=22)\n",
    "mapable = plt.imshow(T_matriz_2)\n",
    "cbar = plt.colorbar(mapable)\n",
    "cbar.set_label('T(ºC)')\n",
    "plt.xlabel(' i ')\n",
    "plt.ylabel(' j ')"
   ]
  },
  {
   "cell_type": "code",
   "execution_count": 7,
   "id": "1bc55aa2",
   "metadata": {},
   "outputs": [],
   "source": [
    "ns = np.logspace(1, 2, 10).astype(int)"
   ]
  },
  {
   "cell_type": "markdown",
   "id": "0732b325",
   "metadata": {},
   "source": [
    "$$\n",
    "$$"
   ]
  },
  {
   "cell_type": "markdown",
   "id": "89c936ea",
   "metadata": {},
   "source": [
    "# **Determino el tiempo de calculo del sistema en función de la resolución de la grilla**"
   ]
  },
  {
   "cell_type": "code",
   "execution_count": 8,
   "id": "d7a8fe75",
   "metadata": {},
   "outputs": [],
   "source": [
    "dts = []\n",
    "for ni in ns:\n",
    "    thischapa = Chapa(ni)\n",
    "    M, b = thischapa.makematriz(Ta, Tb, Tc, Td)\n",
    "    t1 = time.time()\n",
    "    thischapa.solve(M, b)\n",
    "    t2 = time.time()\n",
    "    dts.append(t2-t1)"
   ]
  },
  {
   "cell_type": "code",
   "execution_count": 9,
   "id": "9d86200d",
   "metadata": {},
   "outputs": [
    {
     "data": {
      "text/plain": [
       "[0.0001361370086669922,\n",
       " 0.0002918243408203125,\n",
       " 0.001344919204711914,\n",
       " 0.0027251243591308594,\n",
       " 0.004164218902587891,\n",
       " 0.015182733535766602,\n",
       " 0.05316019058227539,\n",
       " 0.17962908744812012,\n",
       " 0.8978521823883057,\n",
       " 3.547672748565674]"
      ]
     },
     "execution_count": 9,
     "metadata": {},
     "output_type": "execute_result"
    }
   ],
   "source": [
    "dts"
   ]
  },
  {
   "cell_type": "markdown",
   "id": "364c589a",
   "metadata": {},
   "source": [
    "Ahora hay que ver el escaleo. Esto tiene que seguir una ley $dt = Nx^p$ , donde $p$ viene dado por el conteo de operaciones en la triangulación de gauss."
   ]
  },
  {
   "cell_type": "markdown",
   "id": "eb3e7556",
   "metadata": {},
   "source": [
    "$$\n",
    "log{(dt)}=p \\cdot log(x)+log(N)\n",
    "$$"
   ]
  },
  {
   "cell_type": "code",
   "execution_count": 10,
   "id": "4fe957cb",
   "metadata": {},
   "outputs": [],
   "source": [
    "model = np.polyfit(np.log10(ns[2:]), np.log10(dts[2:]), 1)"
   ]
  },
  {
   "cell_type": "markdown",
   "id": "965ada08",
   "metadata": {},
   "source": [
    "No considero los dos puntos porque a veces en dts son 0 y estamos calculando el logaritmo"
   ]
  },
  {
   "cell_type": "code",
   "execution_count": 11,
   "id": "7abf3fec",
   "metadata": {},
   "outputs": [
    {
     "data": {
      "text/plain": [
       "array([ 4.4061292 , -8.45584318])"
      ]
     },
     "execution_count": 11,
     "metadata": {},
     "output_type": "execute_result"
    }
   ],
   "source": [
    "model"
   ]
  },
  {
   "cell_type": "markdown",
   "id": "90e06338",
   "metadata": {},
   "source": [
    "polyfit resuelve el polinomio devolviendo los valores de $p$ y de $log(N)$"
   ]
  },
  {
   "cell_type": "markdown",
   "id": "db5b65ce",
   "metadata": {},
   "source": [
    "resulta que:"
   ]
  },
  {
   "cell_type": "markdown",
   "id": "8c9da017",
   "metadata": {},
   "source": [
    "$p\\ =\\ model[0]$"
   ]
  },
  {
   "cell_type": "markdown",
   "id": "cf22ce22",
   "metadata": {},
   "source": [
    "$ \\large\n",
    "Creo\\ una\\ función\\ de\\ 1^{er}\\ orden\\ con\\ las\\ constantes\\ obtenidas\n",
    "$"
   ]
  },
  {
   "cell_type": "code",
   "execution_count": 12,
   "id": "299ac4ca",
   "metadata": {},
   "outputs": [],
   "source": [
    "function = np.poly1d(model)"
   ]
  },
  {
   "cell_type": "code",
   "execution_count": 13,
   "id": "d77c4939",
   "metadata": {},
   "outputs": [
    {
     "data": {
      "text/plain": [
       "poly1d([ 4.4061292 , -8.45584318])"
      ]
     },
     "execution_count": 13,
     "metadata": {},
     "output_type": "execute_result"
    }
   ],
   "source": [
    "function"
   ]
  },
  {
   "cell_type": "code",
   "execution_count": 14,
   "id": "16ecff4a",
   "metadata": {},
   "outputs": [
    {
     "data": {
      "text/plain": [
       "<matplotlib.legend.Legend at 0x7f7168fe1400>"
      ]
     },
     "execution_count": 14,
     "metadata": {},
     "output_type": "execute_result"
    },
    {
     "data": {
      "image/png": "[encoded data removed]",
      "text/plain": [
       "<Figure size 1080x576 with 1 Axes>"
      ]
     },
     "metadata": {
      "needs_background": "light"
     },
     "output_type": "display_data"
    }
   ],
   "source": [
    "plt.plot(np.log10(ns[2:]), np.log10(dts[2:]), 'o', label='Measurements')  # \n",
    "plt.plot(np.log10(ns[2:]), function(np.log10(ns[2:])), '--k', label=f'polyfit, p={model[0]:3.2f}')\n",
    "plt.xlabel(r'$log_{10} (N_x) $, resolución')\n",
    "plt.ylabel(r'$log_{10} (tiempo) $ [s]')\n",
    "plt.title('tiempo vs resolución')\n",
    "plt.grid('on')\n",
    "plt.legend()"
   ]
  },
  {
   "cell_type": "markdown",
   "id": "6d9ff33e",
   "metadata": {},
   "source": [
    "<div style=\"background:#999900\"> te faltaria ver el tema de los flujos!\n",
    "    \n",
    "    $$ Q_x \\propto \\dfrac{\\partial T}{\\partial x}~ , Q_y \\propto \\dfrac{\\partial T}{\\partial y}$$\n",
    "    \n",
    " </div>"
   ]
  },
  {
   "cell_type": "code",
   "execution_count": null,
   "id": "b303825b",
   "metadata": {},
   "outputs": [],
   "source": []
  }
 ],
 "metadata": {
  "kernelspec": {
   "display_name": "Python 3 (ipykernel)",
   "language": "python",
   "name": "python3"
  },
  "language_info": {
   "codemirror_mode": {
    "name": "ipython",
    "version": 3
   },
   "file_extension": ".py",
   "mimetype": "text/x-python",
   "name": "python",
   "nbconvert_exporter": "python",
   "pygments_lexer": "ipython3",
   "version": "3.9.12"
  }
 },
 "nbformat": 4,
 "nbformat_minor": 5
}
