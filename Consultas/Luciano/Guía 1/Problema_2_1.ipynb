{
 "cells": [
  {
   "cell_type": "markdown",
   "id": "cd16c317",
   "metadata": {},
   "source": [
    "$$ \\LARGE\n",
    "\\underline {\\textbf{Problema 2}}\n",
    "$$"
   ]
  },
  {
   "cell_type": "markdown",
   "id": "90ba0087",
   "metadata": {},
   "source": [
    "Se tiene una barra delgada de aluminio, originalmente a 0°C, cuyos extremos se someten\n",
    "repentinamente a temperaturas fijas. El extremo izquierdo se mantiene a una temperatura constante de\n",
    "100°C y el derecho a 50°C. Utilice los métodos explícito e implícito (Crank-Nicolson) de diferencias\n",
    "finitas para calcular la evolución de la distribución de temperaturas en función del tiempo. Tome que\n",
    "la barra tiene 10cm de longitud y k=0.835 cm2/s (aluminio). Haga los cálculos para Δx=2 cm y x=2 cm y\n",
    "Δx=2cm y t =0.1seg. Repítalos para Δx=2 cm y t=5 seg y compare sus resultados. Analice el comportamiento de la solución para los distintos regímenes."
   ]
  },
  {
   "cell_type": "code",
   "execution_count": null,
   "id": "e964bd59",
   "metadata": {},
   "outputs": [],
   "source": []
  }
 ],
 "metadata": {
  "kernelspec": {
   "display_name": "Python 3 (ipykernel)",
   "language": "python",
   "name": "python3"
  },
  "language_info": {
   "codemirror_mode": {
    "name": "ipython",
    "version": 3
   },
   "file_extension": ".py",
   "mimetype": "text/x-python",
   "name": "python",
   "nbconvert_exporter": "python",
   "pygments_lexer": "ipython3",
   "version": "3.9.12"
  }
 },
 "nbformat": 4,
 "nbformat_minor": 5
}
