{
 "cells": [
  {
   "cell_type": "code",
   "execution_count": 1,
   "id": "c19a00eb-f47c-47bc-8388-443a4297ae96",
   "metadata": {},
   "outputs": [],
   "source": [
    "import numpy as np"
   ]
  },
  {
   "cell_type": "code",
   "execution_count": 2,
   "id": "b8754291-1f9e-4c44-9a80-74f6e517d571",
   "metadata": {},
   "outputs": [],
   "source": [
    "import matplotlib.pyplot as plt"
   ]
  },
  {
   "cell_type": "code",
   "execution_count": 3,
   "id": "f19b446c-9072-44e6-b3e1-036a1af0f459",
   "metadata": {},
   "outputs": [
    {
     "data": {
      "image/png": "[encoded data removed]",
      "text/plain": [
       "<Figure size 432x288 with 1 Axes>"
      ]
     },
     "metadata": {
      "needs_background": "light"
     },
     "output_type": "display_data"
    }
   ],
   "source": [
    "z,T= np.loadtxt('DATOS.txt', unpack = True)\n",
    "plt.plot(z,T,'ok', label='Mediciones')\n",
    "plt.xlabel('Z(m)')\n",
    "plt.ylabel('T(°C)')\n",
    "plt.title('Mediciones')\n",
    "plt.legend();"
   ]
  },
  {
   "cell_type": "code",
   "execution_count": 4,
   "id": "1a4a555a-b5d0-4274-a6ad-ebb8af3e8cca",
   "metadata": {},
   "outputs": [],
   "source": [
    "#matriz de nxn + valores de h\n",
    "h=[]\n",
    "for i in range(len(z)-1):\n",
    "    h.append(z[i+1]-z[i])\n"
   ]
  },
  {
   "cell_type": "code",
   "execution_count": 5,
   "id": "3bbdfecd-9ba3-480f-bd21-b9c1a4b88168",
   "metadata": {},
   "outputs": [],
   "source": [
    "A=np.eye(len(z))\n",
    "y=np.zeros((len(z),1))\n",
    "c=np.zeros((len(z),1))\n",
    "a=np.zeros((len(z),1))"
   ]
  },
  {
   "cell_type": "code",
   "execution_count": 6,
   "id": "5150a34d-fadd-4027-bd21-dcd8f4ea51bf",
   "metadata": {},
   "outputs": [],
   "source": [
    "for i in range(1,len(z)-1):\n",
    "    A[i,i]=2*(h[i]+h[i-1])\n",
    "    A[i,i+1]=h[i]\n",
    "    A[i,i-1]=h[i-1]\n",
    "    y[i]= 3*(((T[i+1]-T[i])/h[i])-((T[i]-T[i-1])/h[i-1]))\n"
   ]
  },
  {
   "cell_type": "code",
   "execution_count": 7,
   "id": "754a8298-1862-4a57-9e3b-31335b97a848",
   "metadata": {},
   "outputs": [],
   "source": [
    "np.savetxt('splines_y', y)\n",
    "np.savetxt('splines_A', A)\n",
    "np.savetxt('splines_h', h)"
   ]
  },
  {
   "cell_type": "code",
   "execution_count": 8,
   "id": "aa5abc0c-3a95-4c03-8aec-aa09a0626e31",
   "metadata": {},
   "outputs": [],
   "source": [
    "b=np.linalg.solve(A,y)\n",
    "np.savetxt('splines_b', b)"
   ]
  },
  {
   "cell_type": "code",
   "execution_count": 9,
   "id": "24af775b-c432-4d08-8171-ff6ad313ba8b",
   "metadata": {},
   "outputs": [
    {
     "name": "stdout",
     "output_type": "stream",
     "text": [
      "[[  0.        ]\n",
      " [-13.01538462]\n",
      " [-79.93846154]\n",
      " [ 92.76923077]\n",
      " [ -3.13846154]\n",
      " [  3.78461538]\n",
      " [ -0.        ]]\n"
     ]
    }
   ],
   "source": [
    "for i in range(len(z)):\n",
    "    "
   ]
  }
 ],
 "metadata": {
  "kernelspec": {
   "display_name": "Python 3 (ipykernel)",
   "language": "python",
   "name": "python3"
  },
  "language_info": {
   "codemirror_mode": {
    "name": "ipython",
    "version": 3
   },
   "file_extension": ".py",
   "mimetype": "text/x-python",
   "name": "python",
   "nbconvert_exporter": "python",
   "pygments_lexer": "ipython3",
   "version": "3.9.10"
  }
 },
 "nbformat": 4,
 "nbformat_minor": 5
}
