{
 "cells": [
  {
   "cell_type": "markdown",
   "id": "86ea2824",
   "metadata": {},
   "source": [
    "## Ejercicio 7 ##"
   ]
  },
  {
   "cell_type": "code",
   "execution_count": null,
   "id": "c06816a4",
   "metadata": {},
   "outputs": [],
   "source": []
  },
  {
   "cell_type": "code",
   "execution_count": 1,
   "id": "efd53948",
   "metadata": {},
   "outputs": [],
   "source": [
    "import numpy as np\n",
    "import matplotlib.pyplot as plt"
   ]
  },
  {
   "cell_type": "code",
   "execution_count": 2,
   "id": "f568a9b1",
   "metadata": {},
   "outputs": [],
   "source": [
    "#datos\n",
    "x0= 0\n",
    "x1= 30\n",
    "pasos1= 5\n",
    "pasos2= 0.05\n",
    "pasos3= 1\n",
    "pasos4=0.5\n",
    "#funcion\n",
    "#MDF tratamos de no usar lambdas !\n",
    "#F= lambda z: 200*(z/(5+z))*np.exp(-2*z/30)\n",
    "\n",
    "def F(z):\n",
    "    return 200*(z/(5+z))*np.exp(-2*z/30)\n",
    "\n",
    "coef=[1,1] \n",
    "t=[-1/np.sqrt(3),1/np.sqrt(3)] "
   ]
  },
  {
   "cell_type": "markdown",
   "id": "f445a2d5",
   "metadata": {},
   "source": [
    "<div style=\"background:#999900\"> lo que pasa es que estas agarrando pocos puntos? </div>"
   ]
  },
  {
   "cell_type": "markdown",
   "id": "c5dfe5ed",
   "metadata": {},
   "source": []
  },
  {
   "cell_type": "markdown",
   "id": "66efe2ba",
   "metadata": {},
   "source": [
    "## Metodo Trapecios"
   ]
  },
  {
   "cell_type": "code",
   "execution_count": 3,
   "id": "297fd4ed",
   "metadata": {},
   "outputs": [],
   "source": [
    "def trapecios(x0,x1,pasos,f):\n",
    "    cant_pasos= round((x1-x0)/pasos)\n",
    "    x=np.linspace(x0,x1,cant_pasos)\n",
    "    #print('los x con el metodo trapecios son: ',x)\n",
    "    suma= f(x1)+f(x0)\n",
    "    for i in range(1,cant_pasos-1):\n",
    "        suma=suma + 2*f(x[i])\n",
    "    \n",
    "    integral_trap= (x1-x0)/cant_pasos *suma/2\n",
    "    return(integral_trap)"
   ]
  },
  {
   "cell_type": "markdown",
   "id": "5e99b7e4",
   "metadata": {},
   "source": [
    "## Simpson"
   ]
  },
  {
   "cell_type": "code",
   "execution_count": 4,
   "id": "366b8d5e",
   "metadata": {},
   "outputs": [],
   "source": [
    "def simpson(x0,x1,pasos,f):\n",
    "    cant_pasos= round((x1-x0)/pasos)\n",
    "    if cant_pasos % 2 ==1:\n",
    "        return(print('El metodo no puede realizarce, se necesita una cantidad de pasos impar'))\n",
    "    x=np.linspace(x0,x1,cant_pasos)\n",
    "    #print('los x con el metodo simpson son: ',x)\n",
    "    suma= f(x1)+f(x0)\n",
    "    \n",
    "    for i in range(1,cant_pasos-1):\n",
    "        if i%2 == 0: #el i es par\n",
    "            suma+=4*f(x[i])\n",
    "        else:\n",
    "            suma+=2*f(x[i])\n",
    "    integral_simpson= (x1-x0)/(cant_pasos-1) *suma/3\n",
    "    return(integral_simpson)"
   ]
  },
  {
   "cell_type": "markdown",
   "id": "47c4ffb6",
   "metadata": {},
   "source": [
    "## Cuadratura de Gauss        "
   ]
  },
  {
   "cell_type": "code",
   "execution_count": 5,
   "id": "97885f28",
   "metadata": {},
   "outputs": [],
   "source": [
    "# tratamos de no usar lambdas !\n",
    "def h(t, m, c):\n",
    "    return m*t+c\n",
    "\n",
    "def cuadratura_gauss(x0,x1,coef,t,f):\n",
    "    #coef es un vector donde contiene los valores de los coeficientes de gauss a usar\n",
    "    #si el vector coef tiene 3 elementos implica que se usaran 3 puntos para integrar\n",
    "    #realizo la tralacion de los limites para estar en [-1,1]\n",
    "    m=(x1-x0)/2\n",
    "    c=(x1+x0)/2\n",
    "#MDF_COMMENT tratamos de no usar lambdas !\n",
    "#    h= lambda x: m*x+c #hago la composicion de funciones para calcular la integral\n",
    "    suma=0\n",
    "#MDF_COMMENT acostumbremonos a usar iteradores pythonescos !\n",
    "#    for i in range(len(coef)):\n",
    "#        suma=suma+coef[i]*f(h(t[i]))\n",
    "    for ci, ti in zip(coef, t):\n",
    "        suma+=ci*f(h(ti, m, c))\n",
    "    integral_gauss=suma*m\n",
    "    return(integral_gauss)"
   ]
  },
  {
   "cell_type": "markdown",
   "id": "8665fd9f",
   "metadata": {},
   "source": [
    "## **Prueba de las funciones**"
   ]
  },
  {
   "cell_type": "code",
   "execution_count": 6,
   "id": "380b30a7",
   "metadata": {},
   "outputs": [],
   "source": [
    "int_trapecios= trapecios(x0,x1,pasos2,F)\n",
    "int_simpson= simpson(x0,x1,pasos2,F)\n",
    "int_gauss= cuadratura_gauss(x0,x1,coef,t,F)"
   ]
  },
  {
   "cell_type": "code",
   "execution_count": 7,
   "id": "452d2c77",
   "metadata": {},
   "outputs": [
    {
     "name": "stdout",
     "output_type": "stream",
     "text": [
      "1478.09221911319 1480.55175842333 1610.5722652945797\n"
     ]
    }
   ],
   "source": [
    "print(int_trapecios, int_simpson, int_gauss)"
   ]
  },
  {
   "cell_type": "markdown",
   "id": "f7c5ae36",
   "metadata": {},
   "source": [
    "<div style=\"background:#999900\">probamos para mas puntos:</div>"
   ]
  },
  {
   "cell_type": "code",
   "execution_count": 8,
   "id": "82fe6b6b",
   "metadata": {},
   "outputs": [],
   "source": [
    "coefs = np.array([5/9, 8/9, 5/9])\n",
    "nodes = np.array([-np.sqrt(6), 0.0, np.sqrt(6)])"
   ]
  },
  {
   "cell_type": "code",
   "execution_count": 9,
   "id": "69ec3afb",
   "metadata": {},
   "outputs": [
    {
     "data": {
      "text/plain": [
       "10006.436610801893"
      ]
     },
     "execution_count": 9,
     "metadata": {},
     "output_type": "execute_result"
    }
   ],
   "source": [
    "cuadratura_gauss(x0,x1,coefs, nodes, F)"
   ]
  },
  {
   "cell_type": "markdown",
   "id": "e17710b8",
   "metadata": {},
   "source": [
    "<div style=\"background:#999900\"> para mas puntos:</div>"
   ]
  },
  {
   "cell_type": "code",
   "execution_count": 10,
   "id": "e0489c02",
   "metadata": {},
   "outputs": [],
   "source": [
    "from scipy.special import roots_legendre"
   ]
  },
  {
   "cell_type": "code",
   "execution_count": 11,
   "id": "19735214",
   "metadata": {},
   "outputs": [],
   "source": [
    "nodes, coefs = roots_legendre(9)"
   ]
  },
  {
   "cell_type": "code",
   "execution_count": 12,
   "id": "a6004c00",
   "metadata": {},
   "outputs": [
    {
     "data": {
      "text/plain": [
       "1480.5707841962173"
      ]
     },
     "execution_count": 12,
     "metadata": {},
     "output_type": "execute_result"
    }
   ],
   "source": [
    "cuadratura_gauss(x0, x1, coefs, nodes, F)"
   ]
  },
  {
   "cell_type": "markdown",
   "id": "a40ff64e",
   "metadata": {},
   "source": [
    "<div style=\"background:#999900\">osea que tu función está bien !    </div>"
   ]
  },
  {
   "cell_type": "code",
   "execution_count": null,
   "id": "1b86d081",
   "metadata": {},
   "outputs": [],
   "source": []
  }
 ],
 "metadata": {
  "kernelspec": {
   "display_name": "Python 3 (ipykernel)",
   "language": "python",
   "name": "python3"
  },
  "language_info": {
   "codemirror_mode": {
    "name": "ipython",
    "version": 3
   },
   "file_extension": ".py",
   "mimetype": "text/x-python",
   "name": "python",
   "nbconvert_exporter": "python",
   "pygments_lexer": "ipython3",
   "version": "3.9.12"
  }
 },
 "nbformat": 4,
 "nbformat_minor": 5
}
