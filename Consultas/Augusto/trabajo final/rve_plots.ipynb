{
 "cells": [
  {
   "cell_type": "code",
   "execution_count": null,
   "id": "df612b45",
   "metadata": {},
   "outputs": [],
   "source": [
    "from rve_redux import RVE\n",
    "\n",
    "ff = 0.4\n",
    "r_f = 7e-6   # fiber radius [m]\n",
    "# l_min = 1e-8 * scale_factor\n",
    "delta = 50 * r_f\n",
    "L = delta\n",
    "# a_sq = L ** 2  # square area of the window taken\n",
    "lc = L/300\n",
    "name = 'rve'\n",
    "nu = 0.3\n",
    "rve = RVE(ff, r_f, L, lc, name, nu, name)\n",
    "# k_e = rve.k_elemental(1, 4)\n",
    "# print(k_e)"
   ]
  },
  {
   "cell_type": "code",
   "execution_count": null,
   "id": "afb5496c",
   "metadata": {},
   "outputs": [],
   "source": [
    "rve.run()"
   ]
  },
  {
   "cell_type": "code",
   "execution_count": 3,
   "id": "4a4b61a5",
   "metadata": {},
   "outputs": [
    {
     "ename": "Exception",
     "evalue": "Unable to recover the edge 4570 (38/347) on curve 4 (on surface 1)",
     "output_type": "error",
     "traceback": [
      "\u001b[1;31m---------------------------------------------------------------------------\u001b[0m",
      "\u001b[1;31mException\u001b[0m                                 Traceback (most recent call last)",
      "Input \u001b[1;32mIn [3]\u001b[0m, in \u001b[0;36m<cell line: 1>\u001b[1;34m()\u001b[0m\n\u001b[1;32m----> 1\u001b[0m \u001b[43mrve\u001b[49m\u001b[38;5;241;43m.\u001b[39;49m\u001b[43mmesh\u001b[49m\u001b[43m(\u001b[49m\u001b[43m)\u001b[49m\n",
      "File \u001b[1;32m~\\Dropbox\\modelizacion\\Augusto\\trabajo final\\trabajo final\\rve_redux.py:102\u001b[0m, in \u001b[0;36mRVE.mesh\u001b[1;34m(self)\u001b[0m\n\u001b[0;32m    101\u001b[0m \u001b[38;5;28;01mdef\u001b[39;00m \u001b[38;5;21mmesh\u001b[39m(\u001b[38;5;28mself\u001b[39m):\n\u001b[1;32m--> 102\u001b[0m     \u001b[43mgmsh\u001b[49m\u001b[38;5;241;43m.\u001b[39;49m\u001b[43mmodel\u001b[49m\u001b[38;5;241;43m.\u001b[39;49m\u001b[43mmesh\u001b[49m\u001b[38;5;241;43m.\u001b[39;49m\u001b[43mgenerate\u001b[49m\u001b[43m(\u001b[49m\u001b[43mdim\u001b[49m\u001b[38;5;241;43m=\u001b[39;49m\u001b[38;5;241;43m2\u001b[39;49m\u001b[43m)\u001b[49m\n",
      "File \u001b[1;32m~\\AppData\\Local\\Programs\\Python\\Python310\\lib\\site-packages\\gmsh.py:1600\u001b[0m, in \u001b[0;36mmodel.mesh.generate\u001b[1;34m(dim)\u001b[0m\n\u001b[0;32m   1596\u001b[0m lib\u001b[38;5;241m.\u001b[39mgmshModelMeshGenerate(\n\u001b[0;32m   1597\u001b[0m     c_int(dim),\n\u001b[0;32m   1598\u001b[0m     byref(ierr))\n\u001b[0;32m   1599\u001b[0m \u001b[38;5;28;01mif\u001b[39;00m ierr\u001b[38;5;241m.\u001b[39mvalue \u001b[38;5;241m!=\u001b[39m \u001b[38;5;241m0\u001b[39m:\n\u001b[1;32m-> 1600\u001b[0m     \u001b[38;5;28;01mraise\u001b[39;00m \u001b[38;5;167;01mException\u001b[39;00m(logger\u001b[38;5;241m.\u001b[39mgetLastError())\n",
      "\u001b[1;31mException\u001b[0m: Unable to recover the edge 4570 (38/347) on curve 4 (on surface 1)"
     ]
    }
   ],
   "source": [
    "rve.mesh()"
   ]
  }
 ],
 "metadata": {
  "kernelspec": {
   "display_name": "Python 3 (ipykernel)",
   "language": "python",
   "name": "python3"
  },
  "language_info": {
   "codemirror_mode": {
    "name": "ipython",
    "version": 3
   },
   "file_extension": ".py",
   "mimetype": "text/x-python",
   "name": "python",
   "nbconvert_exporter": "python",
   "pygments_lexer": "ipython3",
   "version": "3.10.0"
  }
 },
 "nbformat": 4,
 "nbformat_minor": 5
}
